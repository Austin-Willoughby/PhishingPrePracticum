{
 "cells": [
  {
   "cell_type": "code",
   "execution_count": 2,
   "metadata": {},
   "outputs": [],
   "source": [
    "# The below was heavily inspired by\n",
    "# https://towardsdatascience.com/implementing-k-nearest-neighbors-with-scikit-learn-9e4858e231ea\n",
    "# and Damien's previous work on developing a Random Forrest Classifier. \n",
    "\n",
    "import pandas as pd # Needed for iloc.\n",
    "from sklearn.neighbors import KNeighborsClassifier\n",
    "from sklearn.model_selection import train_test_split"
   ]
  },
  {
   "cell_type": "code",
   "execution_count": 3,
   "metadata": {},
   "outputs": [],
   "source": [
    "# Reading the data from the provided csv. \n",
    "rawdata = pd.read_csv(r\"C:\\Users\\jft2456\\Desktop\\PrePracticum\\wc.csv\")\n",
    "\n",
    "# Changing the rawdata type so that we receive true/false values in the reshaped array. \n",
    "# False values are known phishing URLs.  True values are known good values from Alexa Internet Rankings. \n",
    "rawdata.type = (rawdata.type == \"alexa\")"
   ]
  },
  {
   "cell_type": "code",
   "execution_count": 4,
   "metadata": {},
   "outputs": [
    {
     "data": {
      "text/plain": [
       "array([ True,  True, False, ...,  True,  True,  True])"
      ]
     },
     "execution_count": 4,
     "metadata": {},
     "output_type": "execute_result"
    }
   ],
   "source": [
    "# Selecting the desired rows (excluding site, scrape_time, and path).\n",
    "X = rawdata.iloc[:,4:16].values\n",
    "y = rawdata.iloc[:,16].values\n",
    "\n",
    "# Reshaping into a flat array to allow processing.\n",
    "y.reshape((24232,))"
   ]
  },
  {
   "cell_type": "code",
   "execution_count": 12,
   "metadata": {},
   "outputs": [
    {
     "data": {
      "text/plain": [
       "0.8841201716738197"
      ]
     },
     "execution_count": 12,
     "metadata": {},
     "output_type": "execute_result"
    }
   ],
   "source": [
    "# Splitting the training and testing data sets. \n",
    "X_train, X_test, y_train, y_test = train_test_split(X, y, random_state=42)\n",
    "\n",
    "# Instanciating the model using 5 neighbors, which seemed to return the highest knn score. \n",
    "knn = KNeighborsClassifier(n_neighbors=5)\n",
    "\n",
    "# Fitting the model on the training data.\n",
    "knn.fit(X_train, y_train)\n",
    "\n",
    "# Determining how the model performs on the test data.\n",
    "knn.score(X_test, y_test)"
   ]
  }
 ],
 "metadata": {
  "kernelspec": {
   "display_name": "Python 3",
   "language": "python",
   "name": "python3"
  },
  "language_info": {
   "codemirror_mode": {
    "name": "ipython",
    "version": 3
   },
   "file_extension": ".py",
   "mimetype": "text/x-python",
   "name": "python",
   "nbconvert_exporter": "python",
   "pygments_lexer": "ipython3",
   "version": "3.7.3"
  }
 },
 "nbformat": 4,
 "nbformat_minor": 2
}
