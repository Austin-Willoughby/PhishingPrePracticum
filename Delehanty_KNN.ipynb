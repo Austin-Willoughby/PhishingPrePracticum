{
 "cells": [
  {
   "cell_type": "markdown",
   "metadata": {},
   "source": [
    "## KNN Adding feature"
   ]
  },
  {
   "cell_type": "code",
   "execution_count": 58,
   "metadata": {
    "ExecuteTime": {
     "end_time": "2020-04-01T16:05:24.577704Z",
     "start_time": "2020-04-01T16:05:24.573714Z"
    }
   },
   "outputs": [],
   "source": [
    "import numpy as np\n",
    "import pandas as pd # Needed for iloc.\n",
    "from sklearn.neighbors import KNeighborsClassifier\n",
    "from sklearn.model_selection import train_test_split"
   ]
  },
  {
   "cell_type": "code",
   "execution_count": 59,
   "metadata": {
    "ExecuteTime": {
     "end_time": "2020-04-01T16:05:26.496424Z",
     "start_time": "2020-04-01T16:05:24.870402Z"
    }
   },
   "outputs": [
    {
     "data": {
      "text/plain": [
       "(8398, 2208)"
      ]
     },
     "execution_count": 59,
     "metadata": {},
     "output_type": "execute_result"
    }
   ],
   "source": [
    "# Reading the data from the provided csv. \n",
    "alexa = pd.read_csv(r\"C:\\Users\\ed2489\\Desktop\\knn\\certificate features.alexa.csv\")\n",
    "phish = pd.read_csv(r\"C:\\Users\\ed2489\\Desktop\\knn\\certificate features.phish.csv\")\n",
    "c =y18=pd.concat([alexa,phish])\n",
    "c.shape"
   ]
  },
  {
   "cell_type": "code",
   "execution_count": 60,
   "metadata": {
    "ExecuteTime": {
     "end_time": "2020-04-01T16:05:26.938820Z",
     "start_time": "2020-04-01T16:05:26.869728Z"
    }
   },
   "outputs": [],
   "source": [
    "# change all the true or false to 0 or 1\n",
    "for u in c.columns:\n",
    "    if c[u].dtype == bool:\n",
    "        c[u] = c[u].astype('int')"
   ]
  },
  {
   "cell_type": "code",
   "execution_count": 61,
   "metadata": {
    "ExecuteTime": {
     "end_time": "2020-04-01T16:05:27.139121Z",
     "start_time": "2020-04-01T16:05:27.101352Z"
    },
    "scrolled": true
   },
   "outputs": [
    {
     "data": {
      "text/html": [
       "<div>\n",
       "<style scoped>\n",
       "    .dataframe tbody tr th:only-of-type {\n",
       "        vertical-align: middle;\n",
       "    }\n",
       "\n",
       "    .dataframe tbody tr th {\n",
       "        vertical-align: top;\n",
       "    }\n",
       "\n",
       "    .dataframe thead th {\n",
       "        text-align: right;\n",
       "    }\n",
       "</style>\n",
       "<table border=\"1\" class=\"dataframe\">\n",
       "  <thead>\n",
       "    <tr style=\"text-align: right;\">\n",
       "      <th></th>\n",
       "      <th>domain</th>\n",
       "      <th>has_cert</th>\n",
       "      <th>longetivity</th>\n",
       "      <th>valid_cert</th>\n",
       "      <th>extended_validation</th>\n",
       "      <th>cert_age</th>\n",
       "      <th>multi_mtn</th>\n",
       "      <th>globalsign nv-sa</th>\n",
       "      <th>google inc</th>\n",
       "      <th>gandi</th>\n",
       "      <th>...</th>\n",
       "      <th>wponabudget.com</th>\n",
       "      <th>reviews-by.ml</th>\n",
       "      <th>sewaknepal.org</th>\n",
       "      <th>watchvslivestreamtv.club</th>\n",
       "      <th>nehanaxane.ga</th>\n",
       "      <th>alexis-collins10.tk</th>\n",
       "      <th>laborindonesia.com</th>\n",
       "      <th>egdemo.info</th>\n",
       "      <th>theflatbellydrink.com</th>\n",
       "      <th>class</th>\n",
       "    </tr>\n",
       "  </thead>\n",
       "  <tbody>\n",
       "    <tr>\n",
       "      <th>0</th>\n",
       "      <td>www.yahoo.com</td>\n",
       "      <td>1</td>\n",
       "      <td>180</td>\n",
       "      <td>1</td>\n",
       "      <td>0</td>\n",
       "      <td>61</td>\n",
       "      <td>1</td>\n",
       "      <td>0</td>\n",
       "      <td>0</td>\n",
       "      <td>0</td>\n",
       "      <td>...</td>\n",
       "      <td>0</td>\n",
       "      <td>0</td>\n",
       "      <td>0</td>\n",
       "      <td>0</td>\n",
       "      <td>0</td>\n",
       "      <td>0</td>\n",
       "      <td>0</td>\n",
       "      <td>0</td>\n",
       "      <td>0</td>\n",
       "      <td>alexa</td>\n",
       "    </tr>\n",
       "    <tr>\n",
       "      <th>1</th>\n",
       "      <td>www.google.co.in</td>\n",
       "      <td>1</td>\n",
       "      <td>83</td>\n",
       "      <td>1</td>\n",
       "      <td>0</td>\n",
       "      <td>11</td>\n",
       "      <td>1</td>\n",
       "      <td>0</td>\n",
       "      <td>1</td>\n",
       "      <td>0</td>\n",
       "      <td>...</td>\n",
       "      <td>0</td>\n",
       "      <td>0</td>\n",
       "      <td>0</td>\n",
       "      <td>0</td>\n",
       "      <td>0</td>\n",
       "      <td>0</td>\n",
       "      <td>0</td>\n",
       "      <td>0</td>\n",
       "      <td>0</td>\n",
       "      <td>alexa</td>\n",
       "    </tr>\n",
       "    <tr>\n",
       "      <th>2</th>\n",
       "      <td>www.reddit.com</td>\n",
       "      <td>1</td>\n",
       "      <td>1100</td>\n",
       "      <td>1</td>\n",
       "      <td>0</td>\n",
       "      <td>826</td>\n",
       "      <td>1</td>\n",
       "      <td>0</td>\n",
       "      <td>0</td>\n",
       "      <td>0</td>\n",
       "      <td>...</td>\n",
       "      <td>0</td>\n",
       "      <td>0</td>\n",
       "      <td>0</td>\n",
       "      <td>0</td>\n",
       "      <td>0</td>\n",
       "      <td>0</td>\n",
       "      <td>0</td>\n",
       "      <td>0</td>\n",
       "      <td>0</td>\n",
       "      <td>alexa</td>\n",
       "    </tr>\n",
       "    <tr>\n",
       "      <th>3</th>\n",
       "      <td>world.taobao.com</td>\n",
       "      <td>1</td>\n",
       "      <td>74</td>\n",
       "      <td>1</td>\n",
       "      <td>0</td>\n",
       "      <td>61</td>\n",
       "      <td>1</td>\n",
       "      <td>1</td>\n",
       "      <td>0</td>\n",
       "      <td>0</td>\n",
       "      <td>...</td>\n",
       "      <td>0</td>\n",
       "      <td>0</td>\n",
       "      <td>0</td>\n",
       "      <td>0</td>\n",
       "      <td>0</td>\n",
       "      <td>0</td>\n",
       "      <td>0</td>\n",
       "      <td>0</td>\n",
       "      <td>0</td>\n",
       "      <td>alexa</td>\n",
       "    </tr>\n",
       "    <tr>\n",
       "      <th>4</th>\n",
       "      <td>www.google.co.jp</td>\n",
       "      <td>1</td>\n",
       "      <td>83</td>\n",
       "      <td>1</td>\n",
       "      <td>0</td>\n",
       "      <td>11</td>\n",
       "      <td>1</td>\n",
       "      <td>0</td>\n",
       "      <td>1</td>\n",
       "      <td>0</td>\n",
       "      <td>...</td>\n",
       "      <td>0</td>\n",
       "      <td>0</td>\n",
       "      <td>0</td>\n",
       "      <td>0</td>\n",
       "      <td>0</td>\n",
       "      <td>0</td>\n",
       "      <td>0</td>\n",
       "      <td>0</td>\n",
       "      <td>0</td>\n",
       "      <td>alexa</td>\n",
       "    </tr>\n",
       "    <tr>\n",
       "      <th>...</th>\n",
       "      <td>...</td>\n",
       "      <td>...</td>\n",
       "      <td>...</td>\n",
       "      <td>...</td>\n",
       "      <td>...</td>\n",
       "      <td>...</td>\n",
       "      <td>...</td>\n",
       "      <td>...</td>\n",
       "      <td>...</td>\n",
       "      <td>...</td>\n",
       "      <td>...</td>\n",
       "      <td>...</td>\n",
       "      <td>...</td>\n",
       "      <td>...</td>\n",
       "      <td>...</td>\n",
       "      <td>...</td>\n",
       "      <td>...</td>\n",
       "      <td>...</td>\n",
       "      <td>...</td>\n",
       "      <td>...</td>\n",
       "      <td>...</td>\n",
       "    </tr>\n",
       "    <tr>\n",
       "      <th>1317</th>\n",
       "      <td>paypal.com-infohelpcustomer.com</td>\n",
       "      <td>1</td>\n",
       "      <td>125</td>\n",
       "      <td>1</td>\n",
       "      <td>0</td>\n",
       "      <td>0</td>\n",
       "      <td>1</td>\n",
       "      <td>1</td>\n",
       "      <td>0</td>\n",
       "      <td>0</td>\n",
       "      <td>...</td>\n",
       "      <td>0</td>\n",
       "      <td>0</td>\n",
       "      <td>0</td>\n",
       "      <td>0</td>\n",
       "      <td>0</td>\n",
       "      <td>0</td>\n",
       "      <td>0</td>\n",
       "      <td>0</td>\n",
       "      <td>0</td>\n",
       "      <td>phish</td>\n",
       "    </tr>\n",
       "    <tr>\n",
       "      <th>1318</th>\n",
       "      <td>poderdevender.com</td>\n",
       "      <td>1</td>\n",
       "      <td>90</td>\n",
       "      <td>1</td>\n",
       "      <td>0</td>\n",
       "      <td>14</td>\n",
       "      <td>0</td>\n",
       "      <td>0</td>\n",
       "      <td>0</td>\n",
       "      <td>0</td>\n",
       "      <td>...</td>\n",
       "      <td>0</td>\n",
       "      <td>0</td>\n",
       "      <td>0</td>\n",
       "      <td>0</td>\n",
       "      <td>0</td>\n",
       "      <td>0</td>\n",
       "      <td>0</td>\n",
       "      <td>0</td>\n",
       "      <td>0</td>\n",
       "      <td>phish</td>\n",
       "    </tr>\n",
       "    <tr>\n",
       "      <th>1319</th>\n",
       "      <td>isma.cloud</td>\n",
       "      <td>1</td>\n",
       "      <td>190</td>\n",
       "      <td>1</td>\n",
       "      <td>0</td>\n",
       "      <td>17</td>\n",
       "      <td>1</td>\n",
       "      <td>0</td>\n",
       "      <td>0</td>\n",
       "      <td>0</td>\n",
       "      <td>...</td>\n",
       "      <td>0</td>\n",
       "      <td>0</td>\n",
       "      <td>0</td>\n",
       "      <td>0</td>\n",
       "      <td>0</td>\n",
       "      <td>0</td>\n",
       "      <td>0</td>\n",
       "      <td>0</td>\n",
       "      <td>0</td>\n",
       "      <td>phish</td>\n",
       "    </tr>\n",
       "    <tr>\n",
       "      <th>1320</th>\n",
       "      <td>cisagroup.net.elaiolado.com.gr</td>\n",
       "      <td>1</td>\n",
       "      <td>90</td>\n",
       "      <td>1</td>\n",
       "      <td>0</td>\n",
       "      <td>72</td>\n",
       "      <td>0</td>\n",
       "      <td>0</td>\n",
       "      <td>0</td>\n",
       "      <td>0</td>\n",
       "      <td>...</td>\n",
       "      <td>0</td>\n",
       "      <td>0</td>\n",
       "      <td>0</td>\n",
       "      <td>0</td>\n",
       "      <td>0</td>\n",
       "      <td>0</td>\n",
       "      <td>0</td>\n",
       "      <td>0</td>\n",
       "      <td>0</td>\n",
       "      <td>phish</td>\n",
       "    </tr>\n",
       "    <tr>\n",
       "      <th>1321</th>\n",
       "      <td>www.startup-mahdia.com</td>\n",
       "      <td>1</td>\n",
       "      <td>90</td>\n",
       "      <td>1</td>\n",
       "      <td>0</td>\n",
       "      <td>30</td>\n",
       "      <td>1</td>\n",
       "      <td>0</td>\n",
       "      <td>0</td>\n",
       "      <td>0</td>\n",
       "      <td>...</td>\n",
       "      <td>0</td>\n",
       "      <td>0</td>\n",
       "      <td>0</td>\n",
       "      <td>0</td>\n",
       "      <td>0</td>\n",
       "      <td>0</td>\n",
       "      <td>0</td>\n",
       "      <td>0</td>\n",
       "      <td>0</td>\n",
       "      <td>phish</td>\n",
       "    </tr>\n",
       "  </tbody>\n",
       "</table>\n",
       "<p>8398 rows × 2208 columns</p>\n",
       "</div>"
      ],
      "text/plain": [
       "                               domain  has_cert  longetivity  valid_cert  \\\n",
       "0                       www.yahoo.com         1          180           1   \n",
       "1                    www.google.co.in         1           83           1   \n",
       "2                      www.reddit.com         1         1100           1   \n",
       "3                    world.taobao.com         1           74           1   \n",
       "4                    www.google.co.jp         1           83           1   \n",
       "...                               ...       ...          ...         ...   \n",
       "1317  paypal.com-infohelpcustomer.com         1          125           1   \n",
       "1318                poderdevender.com         1           90           1   \n",
       "1319                       isma.cloud         1          190           1   \n",
       "1320   cisagroup.net.elaiolado.com.gr         1           90           1   \n",
       "1321           www.startup-mahdia.com         1           90           1   \n",
       "\n",
       "      extended_validation  cert_age  multi_mtn  globalsign nv-sa  google inc  \\\n",
       "0                       0        61          1                 0           0   \n",
       "1                       0        11          1                 0           1   \n",
       "2                       0       826          1                 0           0   \n",
       "3                       0        61          1                 1           0   \n",
       "4                       0        11          1                 0           1   \n",
       "...                   ...       ...        ...               ...         ...   \n",
       "1317                    0         0          1                 1           0   \n",
       "1318                    0        14          0                 0           0   \n",
       "1319                    0        17          1                 0           0   \n",
       "1320                    0        72          0                 0           0   \n",
       "1321                    0        30          1                 0           0   \n",
       "\n",
       "      gandi  ...  wponabudget.com  reviews-by.ml  sewaknepal.org  \\\n",
       "0         0  ...                0              0               0   \n",
       "1         0  ...                0              0               0   \n",
       "2         0  ...                0              0               0   \n",
       "3         0  ...                0              0               0   \n",
       "4         0  ...                0              0               0   \n",
       "...     ...  ...              ...            ...             ...   \n",
       "1317      0  ...                0              0               0   \n",
       "1318      0  ...                0              0               0   \n",
       "1319      0  ...                0              0               0   \n",
       "1320      0  ...                0              0               0   \n",
       "1321      0  ...                0              0               0   \n",
       "\n",
       "      watchvslivestreamtv.club  nehanaxane.ga  alexis-collins10.tk  \\\n",
       "0                            0              0                    0   \n",
       "1                            0              0                    0   \n",
       "2                            0              0                    0   \n",
       "3                            0              0                    0   \n",
       "4                            0              0                    0   \n",
       "...                        ...            ...                  ...   \n",
       "1317                         0              0                    0   \n",
       "1318                         0              0                    0   \n",
       "1319                         0              0                    0   \n",
       "1320                         0              0                    0   \n",
       "1321                         0              0                    0   \n",
       "\n",
       "      laborindonesia.com  egdemo.info  theflatbellydrink.com  class  \n",
       "0                      0            0                      0  alexa  \n",
       "1                      0            0                      0  alexa  \n",
       "2                      0            0                      0  alexa  \n",
       "3                      0            0                      0  alexa  \n",
       "4                      0            0                      0  alexa  \n",
       "...                  ...          ...                    ...    ...  \n",
       "1317                   0            0                      0  phish  \n",
       "1318                   0            0                      0  phish  \n",
       "1319                   0            0                      0  phish  \n",
       "1320                   0            0                      0  phish  \n",
       "1321                   0            0                      0  phish  \n",
       "\n",
       "[8398 rows x 2208 columns]"
      ]
     },
     "execution_count": 61,
     "metadata": {},
     "output_type": "execute_result"
    }
   ],
   "source": [
    "c"
   ]
  },
  {
   "cell_type": "markdown",
   "metadata": {},
   "source": [
    "check unique value of has_cert"
   ]
  },
  {
   "cell_type": "code",
   "execution_count": 62,
   "metadata": {
    "ExecuteTime": {
     "end_time": "2020-04-01T16:05:27.355463Z",
     "start_time": "2020-04-01T16:05:27.339835Z"
    }
   },
   "outputs": [
    {
     "data": {
      "text/plain": [
       "array([1])"
      ]
     },
     "execution_count": 62,
     "metadata": {},
     "output_type": "execute_result"
    }
   ],
   "source": [
    "c.has_cert.unique()"
   ]
  },
  {
   "cell_type": "markdown",
   "metadata": {},
   "source": [
    "blacklist website from database, try to merge to our dataset to see if any website on blacklist."
   ]
  },
  {
   "cell_type": "markdown",
   "metadata": {},
   "source": [
    "# check blacklist website"
   ]
  },
  {
   "cell_type": "code",
   "execution_count": 63,
   "metadata": {
    "ExecuteTime": {
     "end_time": "2020-04-01T16:05:27.592021Z",
     "start_time": "2020-04-01T16:05:27.540189Z"
    }
   },
   "outputs": [
    {
     "data": {
      "text/html": [
       "<div>\n",
       "<style scoped>\n",
       "    .dataframe tbody tr th:only-of-type {\n",
       "        vertical-align: middle;\n",
       "    }\n",
       "\n",
       "    .dataframe tbody tr th {\n",
       "        vertical-align: top;\n",
       "    }\n",
       "\n",
       "    .dataframe thead th {\n",
       "        text-align: right;\n",
       "    }\n",
       "</style>\n",
       "<table border=\"1\" class=\"dataframe\">\n",
       "  <thead>\n",
       "    <tr style=\"text-align: right;\">\n",
       "      <th></th>\n",
       "      <th>0</th>\n",
       "    </tr>\n",
       "  </thead>\n",
       "  <tbody>\n",
       "    <tr>\n",
       "      <th>0</th>\n",
       "      <td>URL</td>\n",
       "    </tr>\n",
       "    <tr>\n",
       "      <th>1</th>\n",
       "      <td>gllcsbqrbfch.com</td>\n",
       "    </tr>\n",
       "    <tr>\n",
       "      <th>2</th>\n",
       "      <td>hkgjjokkwodt.com</td>\n",
       "    </tr>\n",
       "    <tr>\n",
       "      <th>3</th>\n",
       "      <td>jjnehudfmclq.com</td>\n",
       "    </tr>\n",
       "    <tr>\n",
       "      <th>4</th>\n",
       "      <td>hieffvbcjitc.com</td>\n",
       "    </tr>\n",
       "  </tbody>\n",
       "</table>\n",
       "</div>"
      ],
      "text/plain": [
       "                  0\n",
       "0               URL\n",
       "1  gllcsbqrbfch.com\n",
       "2  hkgjjokkwodt.com\n",
       "3  jjnehudfmclq.com\n",
       "4  hieffvbcjitc.com"
      ]
     },
     "execution_count": 63,
     "metadata": {},
     "output_type": "execute_result"
    }
   ],
   "source": [
    "dga = pd.read_csv(r\"dga_training.txt\",header=None)\n",
    "dga\n",
    "# bamboolib live code export\n",
    "dga.columns = [str(column) for column in dga.columns]\n",
    "dga.head()"
   ]
  },
  {
   "cell_type": "code",
   "execution_count": 64,
   "metadata": {
    "ExecuteTime": {
     "end_time": "2020-04-01T16:05:27.840986Z",
     "start_time": "2020-04-01T16:05:27.787464Z"
    }
   },
   "outputs": [],
   "source": [
    "dga_test = pd.read_csv(r\"test_domains.txt\",header=None)"
   ]
  },
  {
   "cell_type": "code",
   "execution_count": 65,
   "metadata": {
    "ExecuteTime": {
     "end_time": "2020-04-01T16:05:28.057340Z",
     "start_time": "2020-04-01T16:05:28.026091Z"
    }
   },
   "outputs": [
    {
     "data": {
      "text/html": [
       "<div>\n",
       "<style scoped>\n",
       "    .dataframe tbody tr th:only-of-type {\n",
       "        vertical-align: middle;\n",
       "    }\n",
       "\n",
       "    .dataframe tbody tr th {\n",
       "        vertical-align: top;\n",
       "    }\n",
       "\n",
       "    .dataframe thead th {\n",
       "        text-align: right;\n",
       "    }\n",
       "</style>\n",
       "<table border=\"1\" class=\"dataframe\">\n",
       "  <thead>\n",
       "    <tr style=\"text-align: right;\">\n",
       "      <th></th>\n",
       "      <th>0</th>\n",
       "      <th>0</th>\n",
       "    </tr>\n",
       "  </thead>\n",
       "  <tbody>\n",
       "    <tr>\n",
       "      <th>0</th>\n",
       "      <td>URL</td>\n",
       "      <td>NaN</td>\n",
       "    </tr>\n",
       "    <tr>\n",
       "      <th>1</th>\n",
       "      <td>gllcsbqrbfch.com</td>\n",
       "      <td>NaN</td>\n",
       "    </tr>\n",
       "    <tr>\n",
       "      <th>2</th>\n",
       "      <td>hkgjjokkwodt.com</td>\n",
       "      <td>NaN</td>\n",
       "    </tr>\n",
       "    <tr>\n",
       "      <th>3</th>\n",
       "      <td>jjnehudfmclq.com</td>\n",
       "      <td>NaN</td>\n",
       "    </tr>\n",
       "    <tr>\n",
       "      <th>4</th>\n",
       "      <td>hieffvbcjitc.com</td>\n",
       "      <td>NaN</td>\n",
       "    </tr>\n",
       "  </tbody>\n",
       "</table>\n",
       "</div>"
      ],
      "text/plain": [
       "                  0    0\n",
       "0               URL  NaN\n",
       "1  gllcsbqrbfch.com  NaN\n",
       "2  hkgjjokkwodt.com  NaN\n",
       "3  jjnehudfmclq.com  NaN\n",
       "4  hieffvbcjitc.com  NaN"
      ]
     },
     "execution_count": 65,
     "metadata": {},
     "output_type": "execute_result"
    }
   ],
   "source": [
    "blacklist=pd.concat([dga,dga_test])\n",
    "blacklist.head()"
   ]
  },
  {
   "cell_type": "code",
   "execution_count": 66,
   "metadata": {
    "ExecuteTime": {
     "end_time": "2020-04-01T16:05:28.241941Z",
     "start_time": "2020-04-01T16:05:28.226260Z"
    }
   },
   "outputs": [
    {
     "data": {
      "text/html": [
       "<div>\n",
       "<style scoped>\n",
       "    .dataframe tbody tr th:only-of-type {\n",
       "        vertical-align: middle;\n",
       "    }\n",
       "\n",
       "    .dataframe tbody tr th {\n",
       "        vertical-align: top;\n",
       "    }\n",
       "\n",
       "    .dataframe thead th {\n",
       "        text-align: right;\n",
       "    }\n",
       "</style>\n",
       "<table border=\"1\" class=\"dataframe\">\n",
       "  <thead>\n",
       "    <tr style=\"text-align: right;\">\n",
       "      <th></th>\n",
       "      <th>URL</th>\n",
       "      <th>NaN</th>\n",
       "    </tr>\n",
       "  </thead>\n",
       "  <tbody>\n",
       "    <tr>\n",
       "      <th>1</th>\n",
       "      <td>gllcsbqrbfch.com</td>\n",
       "      <td>NaN</td>\n",
       "    </tr>\n",
       "    <tr>\n",
       "      <th>2</th>\n",
       "      <td>hkgjjokkwodt.com</td>\n",
       "      <td>NaN</td>\n",
       "    </tr>\n",
       "    <tr>\n",
       "      <th>3</th>\n",
       "      <td>jjnehudfmclq.com</td>\n",
       "      <td>NaN</td>\n",
       "    </tr>\n",
       "    <tr>\n",
       "      <th>4</th>\n",
       "      <td>hieffvbcjitc.com</td>\n",
       "      <td>NaN</td>\n",
       "    </tr>\n",
       "    <tr>\n",
       "      <th>5</th>\n",
       "      <td>fckjmggtxchv.com</td>\n",
       "      <td>NaN</td>\n",
       "    </tr>\n",
       "  </tbody>\n",
       "</table>\n",
       "</div>"
      ],
      "text/plain": [
       "0               URL  NaN\n",
       "1  gllcsbqrbfch.com  NaN\n",
       "2  hkgjjokkwodt.com  NaN\n",
       "3  jjnehudfmclq.com  NaN\n",
       "4  hieffvbcjitc.com  NaN\n",
       "5  fckjmggtxchv.com  NaN"
      ]
     },
     "execution_count": 66,
     "metadata": {},
     "output_type": "execute_result"
    }
   ],
   "source": [
    "blacklist.columns=blacklist.iloc[0]\n",
    "bad=blacklist.iloc[1:]\n",
    "bad.head()"
   ]
  },
  {
   "cell_type": "code",
   "execution_count": 67,
   "metadata": {
    "ExecuteTime": {
     "end_time": "2020-04-01T16:05:28.473691Z",
     "start_time": "2020-04-01T16:05:28.426828Z"
    }
   },
   "outputs": [
    {
     "data": {
      "text/html": [
       "<div>\n",
       "<style scoped>\n",
       "    .dataframe tbody tr th:only-of-type {\n",
       "        vertical-align: middle;\n",
       "    }\n",
       "\n",
       "    .dataframe tbody tr th {\n",
       "        vertical-align: top;\n",
       "    }\n",
       "\n",
       "    .dataframe thead th {\n",
       "        text-align: right;\n",
       "    }\n",
       "</style>\n",
       "<table border=\"1\" class=\"dataframe\">\n",
       "  <thead>\n",
       "    <tr style=\"text-align: right;\">\n",
       "      <th></th>\n",
       "      <th>domain</th>\n",
       "      <th>has_cert</th>\n",
       "      <th>longetivity</th>\n",
       "      <th>valid_cert</th>\n",
       "      <th>extended_validation</th>\n",
       "      <th>cert_age</th>\n",
       "      <th>multi_mtn</th>\n",
       "      <th>globalsign nv-sa</th>\n",
       "      <th>google inc</th>\n",
       "      <th>gandi</th>\n",
       "      <th>...</th>\n",
       "      <th>sewaknepal.org</th>\n",
       "      <th>watchvslivestreamtv.club</th>\n",
       "      <th>nehanaxane.ga</th>\n",
       "      <th>alexis-collins10.tk</th>\n",
       "      <th>laborindonesia.com</th>\n",
       "      <th>egdemo.info</th>\n",
       "      <th>theflatbellydrink.com</th>\n",
       "      <th>class</th>\n",
       "      <th>URL</th>\n",
       "      <th>NaN</th>\n",
       "    </tr>\n",
       "  </thead>\n",
       "  <tbody>\n",
       "  </tbody>\n",
       "</table>\n",
       "<p>0 rows × 2210 columns</p>\n",
       "</div>"
      ],
      "text/plain": [
       "Empty DataFrame\n",
       "Columns: [domain, has_cert, longetivity, valid_cert, extended_validation, cert_age, multi_mtn, globalsign nv-sa, google inc, gandi, parallels, amazon, Unnamed: 13, netlock kft., godaddy.com, inc., microsoft corporation, starfield technologies, inc., comodo ca limited, geotrust inc., ssl.com, let's encrypt, digicert inc, thawte, inc., entrust, inc., symantec corporation, cpanel, inc., google trust services, lifechefs.com, geoffludgate.com, terviseuudised.com, femalecorrect.gq, hobbieslower.bid, torosaccessories.com, ticketpro-test.com, eurocontainers.eu, britto-bd.com, risperidonehelp.org, safety-service-facebook.cf, dromedicasac.com, yeezyboost-online.com, itunestore-paymentrefund-appleid.com, embernetworks.co.uk, comodidade.email, logincheckpage.cf, myballteam.com, myextremekit.co.uk, 26hferryme.gq, feskov.org, webappsverif.com, onsball.me, yahoo.net, ideastipscoop.club, zemyaphotography.com, xchristmas.top, anadol.xyz, mckittrickfineshop.ga, tapbaddie.cf, silkbook.com, knockoutfurniture.com, gunhildjensen.com, nataki.info, komunitasbinaryindonesia.cf, yesornolive.com, unpebertadon.cf, evek.cf, sell-ldwosh.tk, brassill.com, mogaveeracommunity.com, mall-sa.com, stalwartent.com, greed-corners.tk, onlinebusinessbranding.info, yt.be, beyniniyonet.com, frickestaxidermy.com, flirtclub.co.uk, qoxevevojirekusiv.ga, butikprice.ru, googlesyndication.com, poderdevender.com, google.com.co, protrosiscolo.cf, tifabook.cf, shukranrewards.com, energycenterwest.com, 692papa.com, crispair.com.au, ftpl.org, youtu.be, hp-serviceproviders.net, ultrafix.in, exodus-mine.net, kidsorus.ga, companyverificationprovider.win, blueislandfinemall.ga, blogspot.ae, orkie44.com, entejsites.com, globalspecialties.com, cataloguebargains.co.uk, ...]\n",
       "Index: []\n",
       "\n",
       "[0 rows x 2210 columns]"
      ]
     },
     "execution_count": 67,
     "metadata": {},
     "output_type": "execute_result"
    }
   ],
   "source": [
    "pd.merge(c,bad,left_on='domain',right_on='URL',how ='inner')"
   ]
  },
  {
   "cell_type": "markdown",
   "metadata": {
    "ExecuteTime": {
     "end_time": "2020-03-28T15:43:25.332300Z",
     "start_time": "2020-03-28T15:43:25.316653Z"
    }
   },
   "source": [
    "As we see, there none macthing website, domain webset from our data none in this blacklist"
   ]
  },
  {
   "cell_type": "markdown",
   "metadata": {},
   "source": [
    "# adding features using ipaddress package in python"
   ]
  },
  {
   "cell_type": "code",
   "execution_count": 70,
   "metadata": {
    "ExecuteTime": {
     "end_time": "2020-04-01T16:05:47.494099Z",
     "start_time": "2020-04-01T16:05:47.478438Z"
    }
   },
   "outputs": [],
   "source": [
    "import ipaddress\n",
    "def checkip(domain):\n",
    "    try:\n",
    "        domain_ip=socket.gethostbyname(domain)\n",
    "        return domain_ip\n",
    "    except:\n",
    "        return 'invalid'"
   ]
  },
  {
   "cell_type": "code",
   "execution_count": 71,
   "metadata": {
    "ExecuteTime": {
     "end_time": "2020-04-01T16:05:47.845478Z",
     "start_time": "2020-04-01T16:05:47.829828Z"
    }
   },
   "outputs": [
    {
     "data": {
      "text/plain": [
       "'127.0.0.54'"
      ]
     },
     "execution_count": 71,
     "metadata": {},
     "output_type": "execute_result"
    }
   ],
   "source": [
    "checkip('gllcsbqrbfch.com')"
   ]
  },
  {
   "cell_type": "code",
   "execution_count": 72,
   "metadata": {
    "ExecuteTime": {
     "end_time": "2020-04-01T16:05:48.077184Z",
     "start_time": "2020-04-01T16:05:48.061564Z"
    }
   },
   "outputs": [],
   "source": [
    "unique_ips = c['domain'].unique()\n",
    "unique_ips = pd.Series(unique_ips, index = unique_ips)"
   ]
  },
  {
   "cell_type": "code",
   "execution_count": 73,
   "metadata": {
    "ExecuteTime": {
     "end_time": "2020-04-01T16:23:53.734347Z",
     "start_time": "2020-04-01T16:05:48.309031Z"
    }
   },
   "outputs": [
    {
     "data": {
      "text/html": [
       "<div>\n",
       "<style scoped>\n",
       "    .dataframe tbody tr th:only-of-type {\n",
       "        vertical-align: middle;\n",
       "    }\n",
       "\n",
       "    .dataframe tbody tr th {\n",
       "        vertical-align: top;\n",
       "    }\n",
       "\n",
       "    .dataframe thead th {\n",
       "        text-align: right;\n",
       "    }\n",
       "</style>\n",
       "<table border=\"1\" class=\"dataframe\">\n",
       "  <thead>\n",
       "    <tr style=\"text-align: right;\">\n",
       "      <th></th>\n",
       "      <th>domain</th>\n",
       "      <th>has_cert</th>\n",
       "      <th>longetivity</th>\n",
       "      <th>valid_cert</th>\n",
       "      <th>extended_validation</th>\n",
       "      <th>cert_age</th>\n",
       "      <th>multi_mtn</th>\n",
       "      <th>globalsign nv-sa</th>\n",
       "      <th>google inc</th>\n",
       "      <th>gandi</th>\n",
       "      <th>...</th>\n",
       "      <th>reviews-by.ml</th>\n",
       "      <th>sewaknepal.org</th>\n",
       "      <th>watchvslivestreamtv.club</th>\n",
       "      <th>nehanaxane.ga</th>\n",
       "      <th>alexis-collins10.tk</th>\n",
       "      <th>laborindonesia.com</th>\n",
       "      <th>egdemo.info</th>\n",
       "      <th>theflatbellydrink.com</th>\n",
       "      <th>class</th>\n",
       "      <th>ip</th>\n",
       "    </tr>\n",
       "  </thead>\n",
       "  <tbody>\n",
       "    <tr>\n",
       "      <th>0</th>\n",
       "      <td>www.yahoo.com</td>\n",
       "      <td>1</td>\n",
       "      <td>180</td>\n",
       "      <td>1</td>\n",
       "      <td>0</td>\n",
       "      <td>61</td>\n",
       "      <td>1</td>\n",
       "      <td>0</td>\n",
       "      <td>0</td>\n",
       "      <td>0</td>\n",
       "      <td>...</td>\n",
       "      <td>0</td>\n",
       "      <td>0</td>\n",
       "      <td>0</td>\n",
       "      <td>0</td>\n",
       "      <td>0</td>\n",
       "      <td>0</td>\n",
       "      <td>0</td>\n",
       "      <td>0</td>\n",
       "      <td>alexa</td>\n",
       "      <td>98.138.219.232</td>\n",
       "    </tr>\n",
       "    <tr>\n",
       "      <th>1</th>\n",
       "      <td>www.google.co.in</td>\n",
       "      <td>1</td>\n",
       "      <td>83</td>\n",
       "      <td>1</td>\n",
       "      <td>0</td>\n",
       "      <td>11</td>\n",
       "      <td>1</td>\n",
       "      <td>0</td>\n",
       "      <td>1</td>\n",
       "      <td>0</td>\n",
       "      <td>...</td>\n",
       "      <td>0</td>\n",
       "      <td>0</td>\n",
       "      <td>0</td>\n",
       "      <td>0</td>\n",
       "      <td>0</td>\n",
       "      <td>0</td>\n",
       "      <td>0</td>\n",
       "      <td>0</td>\n",
       "      <td>alexa</td>\n",
       "      <td>64.233.176.94</td>\n",
       "    </tr>\n",
       "    <tr>\n",
       "      <th>2</th>\n",
       "      <td>www.reddit.com</td>\n",
       "      <td>1</td>\n",
       "      <td>1100</td>\n",
       "      <td>1</td>\n",
       "      <td>0</td>\n",
       "      <td>826</td>\n",
       "      <td>1</td>\n",
       "      <td>0</td>\n",
       "      <td>0</td>\n",
       "      <td>0</td>\n",
       "      <td>...</td>\n",
       "      <td>0</td>\n",
       "      <td>0</td>\n",
       "      <td>0</td>\n",
       "      <td>0</td>\n",
       "      <td>0</td>\n",
       "      <td>0</td>\n",
       "      <td>0</td>\n",
       "      <td>0</td>\n",
       "      <td>alexa</td>\n",
       "      <td>199.232.1.140</td>\n",
       "    </tr>\n",
       "    <tr>\n",
       "      <th>3</th>\n",
       "      <td>world.taobao.com</td>\n",
       "      <td>1</td>\n",
       "      <td>74</td>\n",
       "      <td>1</td>\n",
       "      <td>0</td>\n",
       "      <td>61</td>\n",
       "      <td>1</td>\n",
       "      <td>1</td>\n",
       "      <td>0</td>\n",
       "      <td>0</td>\n",
       "      <td>...</td>\n",
       "      <td>0</td>\n",
       "      <td>0</td>\n",
       "      <td>0</td>\n",
       "      <td>0</td>\n",
       "      <td>0</td>\n",
       "      <td>0</td>\n",
       "      <td>0</td>\n",
       "      <td>0</td>\n",
       "      <td>alexa</td>\n",
       "      <td>47.246.19.235</td>\n",
       "    </tr>\n",
       "    <tr>\n",
       "      <th>4</th>\n",
       "      <td>www.google.co.jp</td>\n",
       "      <td>1</td>\n",
       "      <td>83</td>\n",
       "      <td>1</td>\n",
       "      <td>0</td>\n",
       "      <td>11</td>\n",
       "      <td>1</td>\n",
       "      <td>0</td>\n",
       "      <td>1</td>\n",
       "      <td>0</td>\n",
       "      <td>...</td>\n",
       "      <td>0</td>\n",
       "      <td>0</td>\n",
       "      <td>0</td>\n",
       "      <td>0</td>\n",
       "      <td>0</td>\n",
       "      <td>0</td>\n",
       "      <td>0</td>\n",
       "      <td>0</td>\n",
       "      <td>alexa</td>\n",
       "      <td>64.233.185.94</td>\n",
       "    </tr>\n",
       "    <tr>\n",
       "      <th>...</th>\n",
       "      <td>...</td>\n",
       "      <td>...</td>\n",
       "      <td>...</td>\n",
       "      <td>...</td>\n",
       "      <td>...</td>\n",
       "      <td>...</td>\n",
       "      <td>...</td>\n",
       "      <td>...</td>\n",
       "      <td>...</td>\n",
       "      <td>...</td>\n",
       "      <td>...</td>\n",
       "      <td>...</td>\n",
       "      <td>...</td>\n",
       "      <td>...</td>\n",
       "      <td>...</td>\n",
       "      <td>...</td>\n",
       "      <td>...</td>\n",
       "      <td>...</td>\n",
       "      <td>...</td>\n",
       "      <td>...</td>\n",
       "      <td>...</td>\n",
       "    </tr>\n",
       "    <tr>\n",
       "      <th>1317</th>\n",
       "      <td>paypal.com-infohelpcustomer.com</td>\n",
       "      <td>1</td>\n",
       "      <td>125</td>\n",
       "      <td>1</td>\n",
       "      <td>0</td>\n",
       "      <td>0</td>\n",
       "      <td>1</td>\n",
       "      <td>1</td>\n",
       "      <td>0</td>\n",
       "      <td>0</td>\n",
       "      <td>...</td>\n",
       "      <td>0</td>\n",
       "      <td>0</td>\n",
       "      <td>0</td>\n",
       "      <td>0</td>\n",
       "      <td>0</td>\n",
       "      <td>0</td>\n",
       "      <td>0</td>\n",
       "      <td>0</td>\n",
       "      <td>phish</td>\n",
       "      <td>invalid</td>\n",
       "    </tr>\n",
       "    <tr>\n",
       "      <th>1318</th>\n",
       "      <td>poderdevender.com</td>\n",
       "      <td>1</td>\n",
       "      <td>90</td>\n",
       "      <td>1</td>\n",
       "      <td>0</td>\n",
       "      <td>14</td>\n",
       "      <td>0</td>\n",
       "      <td>0</td>\n",
       "      <td>0</td>\n",
       "      <td>0</td>\n",
       "      <td>...</td>\n",
       "      <td>0</td>\n",
       "      <td>0</td>\n",
       "      <td>0</td>\n",
       "      <td>0</td>\n",
       "      <td>0</td>\n",
       "      <td>0</td>\n",
       "      <td>0</td>\n",
       "      <td>0</td>\n",
       "      <td>phish</td>\n",
       "      <td>108.161.131.171</td>\n",
       "    </tr>\n",
       "    <tr>\n",
       "      <th>1319</th>\n",
       "      <td>isma.cloud</td>\n",
       "      <td>1</td>\n",
       "      <td>190</td>\n",
       "      <td>1</td>\n",
       "      <td>0</td>\n",
       "      <td>17</td>\n",
       "      <td>1</td>\n",
       "      <td>0</td>\n",
       "      <td>0</td>\n",
       "      <td>0</td>\n",
       "      <td>...</td>\n",
       "      <td>0</td>\n",
       "      <td>0</td>\n",
       "      <td>0</td>\n",
       "      <td>0</td>\n",
       "      <td>0</td>\n",
       "      <td>0</td>\n",
       "      <td>0</td>\n",
       "      <td>0</td>\n",
       "      <td>phish</td>\n",
       "      <td>invalid</td>\n",
       "    </tr>\n",
       "    <tr>\n",
       "      <th>1320</th>\n",
       "      <td>cisagroup.net.elaiolado.com.gr</td>\n",
       "      <td>1</td>\n",
       "      <td>90</td>\n",
       "      <td>1</td>\n",
       "      <td>0</td>\n",
       "      <td>72</td>\n",
       "      <td>0</td>\n",
       "      <td>0</td>\n",
       "      <td>0</td>\n",
       "      <td>0</td>\n",
       "      <td>...</td>\n",
       "      <td>0</td>\n",
       "      <td>0</td>\n",
       "      <td>0</td>\n",
       "      <td>0</td>\n",
       "      <td>0</td>\n",
       "      <td>0</td>\n",
       "      <td>0</td>\n",
       "      <td>0</td>\n",
       "      <td>phish</td>\n",
       "      <td>invalid</td>\n",
       "    </tr>\n",
       "    <tr>\n",
       "      <th>1321</th>\n",
       "      <td>www.startup-mahdia.com</td>\n",
       "      <td>1</td>\n",
       "      <td>90</td>\n",
       "      <td>1</td>\n",
       "      <td>0</td>\n",
       "      <td>30</td>\n",
       "      <td>1</td>\n",
       "      <td>0</td>\n",
       "      <td>0</td>\n",
       "      <td>0</td>\n",
       "      <td>...</td>\n",
       "      <td>0</td>\n",
       "      <td>0</td>\n",
       "      <td>0</td>\n",
       "      <td>0</td>\n",
       "      <td>0</td>\n",
       "      <td>0</td>\n",
       "      <td>0</td>\n",
       "      <td>0</td>\n",
       "      <td>phish</td>\n",
       "      <td>invalid</td>\n",
       "    </tr>\n",
       "  </tbody>\n",
       "</table>\n",
       "<p>8398 rows × 2209 columns</p>\n",
       "</div>"
      ],
      "text/plain": [
       "                               domain  has_cert  longetivity  valid_cert  \\\n",
       "0                       www.yahoo.com         1          180           1   \n",
       "1                    www.google.co.in         1           83           1   \n",
       "2                      www.reddit.com         1         1100           1   \n",
       "3                    world.taobao.com         1           74           1   \n",
       "4                    www.google.co.jp         1           83           1   \n",
       "...                               ...       ...          ...         ...   \n",
       "1317  paypal.com-infohelpcustomer.com         1          125           1   \n",
       "1318                poderdevender.com         1           90           1   \n",
       "1319                       isma.cloud         1          190           1   \n",
       "1320   cisagroup.net.elaiolado.com.gr         1           90           1   \n",
       "1321           www.startup-mahdia.com         1           90           1   \n",
       "\n",
       "      extended_validation  cert_age  multi_mtn  globalsign nv-sa  google inc  \\\n",
       "0                       0        61          1                 0           0   \n",
       "1                       0        11          1                 0           1   \n",
       "2                       0       826          1                 0           0   \n",
       "3                       0        61          1                 1           0   \n",
       "4                       0        11          1                 0           1   \n",
       "...                   ...       ...        ...               ...         ...   \n",
       "1317                    0         0          1                 1           0   \n",
       "1318                    0        14          0                 0           0   \n",
       "1319                    0        17          1                 0           0   \n",
       "1320                    0        72          0                 0           0   \n",
       "1321                    0        30          1                 0           0   \n",
       "\n",
       "      gandi  ...  reviews-by.ml  sewaknepal.org  watchvslivestreamtv.club  \\\n",
       "0         0  ...              0               0                         0   \n",
       "1         0  ...              0               0                         0   \n",
       "2         0  ...              0               0                         0   \n",
       "3         0  ...              0               0                         0   \n",
       "4         0  ...              0               0                         0   \n",
       "...     ...  ...            ...             ...                       ...   \n",
       "1317      0  ...              0               0                         0   \n",
       "1318      0  ...              0               0                         0   \n",
       "1319      0  ...              0               0                         0   \n",
       "1320      0  ...              0               0                         0   \n",
       "1321      0  ...              0               0                         0   \n",
       "\n",
       "      nehanaxane.ga  alexis-collins10.tk  laborindonesia.com  egdemo.info  \\\n",
       "0                 0                    0                   0            0   \n",
       "1                 0                    0                   0            0   \n",
       "2                 0                    0                   0            0   \n",
       "3                 0                    0                   0            0   \n",
       "4                 0                    0                   0            0   \n",
       "...             ...                  ...                 ...          ...   \n",
       "1317              0                    0                   0            0   \n",
       "1318              0                    0                   0            0   \n",
       "1319              0                    0                   0            0   \n",
       "1320              0                    0                   0            0   \n",
       "1321              0                    0                   0            0   \n",
       "\n",
       "      theflatbellydrink.com  class               ip  \n",
       "0                         0  alexa   98.138.219.232  \n",
       "1                         0  alexa    64.233.176.94  \n",
       "2                         0  alexa    199.232.1.140  \n",
       "3                         0  alexa    47.246.19.235  \n",
       "4                         0  alexa    64.233.185.94  \n",
       "...                     ...    ...              ...  \n",
       "1317                      0  phish          invalid  \n",
       "1318                      0  phish  108.161.131.171  \n",
       "1319                      0  phish          invalid  \n",
       "1320                      0  phish          invalid  \n",
       "1321                      0  phish          invalid  \n",
       "\n",
       "[8398 rows x 2209 columns]"
      ]
     },
     "execution_count": 73,
     "metadata": {},
     "output_type": "execute_result"
    }
   ],
   "source": [
    "c['ip']=c['domain'].map(unique_ips.apply(checkip))\n",
    "c"
   ]
  },
  {
   "cell_type": "code",
   "execution_count": 74,
   "metadata": {
    "ExecuteTime": {
     "end_time": "2020-04-01T16:23:54.129351Z",
     "start_time": "2020-04-01T16:23:53.974555Z"
    }
   },
   "outputs": [
    {
     "name": "stdout",
     "output_type": "stream",
     "text": [
      "ip\n",
      "1.234.82.151        1\n",
      "1.33.191.138        1\n",
      "100.24.225.51       1\n",
      "101.53.131.22       1\n",
      "102.130.117.29      1\n",
      "                 ... \n",
      "99.84.184.198       1\n",
      "99.84.186.162       1\n",
      "99.84.187.2         1\n",
      "99.84.187.69        1\n",
      "invalid           607\n",
      "Length: 6655, dtype: int64\n"
     ]
    }
   ],
   "source": [
    "print(c.groupby('ip').size())"
   ]
  },
  {
   "cell_type": "code",
   "execution_count": 75,
   "metadata": {
    "ExecuteTime": {
     "end_time": "2020-04-01T16:23:54.494401Z",
     "start_time": "2020-04-01T16:23:54.374571Z"
    }
   },
   "outputs": [
    {
     "name": "stdout",
     "output_type": "stream",
     "text": [
      "<class 'pandas.core.frame.DataFrame'>\n",
      "Int64Index: 7791 entries, 0 to 1318\n",
      "Columns: 2209 entries, domain to ip\n",
      "dtypes: int32(4), int64(2202), object(3)\n",
      "memory usage: 131.2+ MB\n"
     ]
    }
   ],
   "source": [
    "c=c[c.ip !='invalid']\n",
    "c.info()"
   ]
  },
  {
   "cell_type": "code",
   "execution_count": 76,
   "metadata": {
    "ExecuteTime": {
     "end_time": "2020-04-01T16:23:54.694627Z",
     "start_time": "2020-04-01T16:23:54.674482Z"
    }
   },
   "outputs": [
    {
     "data": {
      "text/html": [
       "<div>\n",
       "<style scoped>\n",
       "    .dataframe tbody tr th:only-of-type {\n",
       "        vertical-align: middle;\n",
       "    }\n",
       "\n",
       "    .dataframe tbody tr th {\n",
       "        vertical-align: top;\n",
       "    }\n",
       "\n",
       "    .dataframe thead th {\n",
       "        text-align: right;\n",
       "    }\n",
       "</style>\n",
       "<table border=\"1\" class=\"dataframe\">\n",
       "  <thead>\n",
       "    <tr style=\"text-align: right;\">\n",
       "      <th></th>\n",
       "      <th>ip</th>\n",
       "    </tr>\n",
       "  </thead>\n",
       "  <tbody>\n",
       "    <tr>\n",
       "      <th>0</th>\n",
       "      <td>98.138.219.232</td>\n",
       "    </tr>\n",
       "    <tr>\n",
       "      <th>1</th>\n",
       "      <td>64.233.176.94</td>\n",
       "    </tr>\n",
       "    <tr>\n",
       "      <th>2</th>\n",
       "      <td>199.232.1.140</td>\n",
       "    </tr>\n",
       "    <tr>\n",
       "      <th>3</th>\n",
       "      <td>47.246.19.235</td>\n",
       "    </tr>\n",
       "    <tr>\n",
       "      <th>4</th>\n",
       "      <td>64.233.185.94</td>\n",
       "    </tr>\n",
       "  </tbody>\n",
       "</table>\n",
       "</div>"
      ],
      "text/plain": [
       "               ip\n",
       "0  98.138.219.232\n",
       "1   64.233.176.94\n",
       "2   199.232.1.140\n",
       "3   47.246.19.235\n",
       "4   64.233.185.94"
      ]
     },
     "execution_count": 76,
     "metadata": {},
     "output_type": "execute_result"
    }
   ],
   "source": [
    "source= c[['ip']]\n",
    "source.head()"
   ]
  },
  {
   "cell_type": "code",
   "execution_count": 77,
   "metadata": {
    "ExecuteTime": {
     "end_time": "2020-04-01T16:23:54.884196Z",
     "start_time": "2020-04-01T16:23:54.864464Z"
    }
   },
   "outputs": [],
   "source": [
    "import ipaddress\n",
    "def checkip(ip):\n",
    "    try:\n",
    "        ip_private=ipaddress.ip_network(ip)\n",
    "        return ip_private.__class__.__name__\n",
    "    except:\n",
    "        return 'invalid'"
   ]
  },
  {
   "cell_type": "code",
   "execution_count": 78,
   "metadata": {
    "ExecuteTime": {
     "end_time": "2020-04-01T16:23:55.074477Z",
     "start_time": "2020-04-01T16:23:55.054099Z"
    }
   },
   "outputs": [
    {
     "data": {
      "text/plain": [
       "'IPv4Network'"
      ]
     },
     "execution_count": 78,
     "metadata": {},
     "output_type": "execute_result"
    }
   ],
   "source": [
    "checkip('90.177.154.197')"
   ]
  },
  {
   "cell_type": "code",
   "execution_count": 79,
   "metadata": {
    "ExecuteTime": {
     "end_time": "2020-04-01T16:23:55.334464Z",
     "start_time": "2020-04-01T16:23:55.254161Z"
    }
   },
   "outputs": [
    {
     "name": "stderr",
     "output_type": "stream",
     "text": [
      "C:\\Users\\ed2489\\AppData\\Local\\Continuum\\anaconda3\\lib\\site-packages\\ipykernel_launcher.py:3: SettingWithCopyWarning: \n",
      "A value is trying to be set on a copy of a slice from a DataFrame.\n",
      "Try using .loc[row_indexer,col_indexer] = value instead\n",
      "\n",
      "See the caveats in the documentation: https://pandas.pydata.org/pandas-docs/stable/user_guide/indexing.html#returning-a-view-versus-a-copy\n",
      "  This is separate from the ipykernel package so we can avoid doing imports until\n"
     ]
    },
    {
     "data": {
      "text/html": [
       "<div>\n",
       "<style scoped>\n",
       "    .dataframe tbody tr th:only-of-type {\n",
       "        vertical-align: middle;\n",
       "    }\n",
       "\n",
       "    .dataframe tbody tr th {\n",
       "        vertical-align: top;\n",
       "    }\n",
       "\n",
       "    .dataframe thead th {\n",
       "        text-align: right;\n",
       "    }\n",
       "</style>\n",
       "<table border=\"1\" class=\"dataframe\">\n",
       "  <thead>\n",
       "    <tr style=\"text-align: right;\">\n",
       "      <th></th>\n",
       "      <th>domain</th>\n",
       "      <th>has_cert</th>\n",
       "      <th>longetivity</th>\n",
       "      <th>valid_cert</th>\n",
       "      <th>extended_validation</th>\n",
       "      <th>cert_age</th>\n",
       "      <th>multi_mtn</th>\n",
       "      <th>globalsign nv-sa</th>\n",
       "      <th>google inc</th>\n",
       "      <th>gandi</th>\n",
       "      <th>...</th>\n",
       "      <th>sewaknepal.org</th>\n",
       "      <th>watchvslivestreamtv.club</th>\n",
       "      <th>nehanaxane.ga</th>\n",
       "      <th>alexis-collins10.tk</th>\n",
       "      <th>laborindonesia.com</th>\n",
       "      <th>egdemo.info</th>\n",
       "      <th>theflatbellydrink.com</th>\n",
       "      <th>class</th>\n",
       "      <th>ip</th>\n",
       "      <th>Network_class</th>\n",
       "    </tr>\n",
       "  </thead>\n",
       "  <tbody>\n",
       "    <tr>\n",
       "      <th>0</th>\n",
       "      <td>www.yahoo.com</td>\n",
       "      <td>1</td>\n",
       "      <td>180</td>\n",
       "      <td>1</td>\n",
       "      <td>0</td>\n",
       "      <td>61</td>\n",
       "      <td>1</td>\n",
       "      <td>0</td>\n",
       "      <td>0</td>\n",
       "      <td>0</td>\n",
       "      <td>...</td>\n",
       "      <td>0</td>\n",
       "      <td>0</td>\n",
       "      <td>0</td>\n",
       "      <td>0</td>\n",
       "      <td>0</td>\n",
       "      <td>0</td>\n",
       "      <td>0</td>\n",
       "      <td>alexa</td>\n",
       "      <td>98.138.219.232</td>\n",
       "      <td>IPv4Network</td>\n",
       "    </tr>\n",
       "    <tr>\n",
       "      <th>1</th>\n",
       "      <td>www.google.co.in</td>\n",
       "      <td>1</td>\n",
       "      <td>83</td>\n",
       "      <td>1</td>\n",
       "      <td>0</td>\n",
       "      <td>11</td>\n",
       "      <td>1</td>\n",
       "      <td>0</td>\n",
       "      <td>1</td>\n",
       "      <td>0</td>\n",
       "      <td>...</td>\n",
       "      <td>0</td>\n",
       "      <td>0</td>\n",
       "      <td>0</td>\n",
       "      <td>0</td>\n",
       "      <td>0</td>\n",
       "      <td>0</td>\n",
       "      <td>0</td>\n",
       "      <td>alexa</td>\n",
       "      <td>64.233.176.94</td>\n",
       "      <td>IPv4Network</td>\n",
       "    </tr>\n",
       "    <tr>\n",
       "      <th>2</th>\n",
       "      <td>www.reddit.com</td>\n",
       "      <td>1</td>\n",
       "      <td>1100</td>\n",
       "      <td>1</td>\n",
       "      <td>0</td>\n",
       "      <td>826</td>\n",
       "      <td>1</td>\n",
       "      <td>0</td>\n",
       "      <td>0</td>\n",
       "      <td>0</td>\n",
       "      <td>...</td>\n",
       "      <td>0</td>\n",
       "      <td>0</td>\n",
       "      <td>0</td>\n",
       "      <td>0</td>\n",
       "      <td>0</td>\n",
       "      <td>0</td>\n",
       "      <td>0</td>\n",
       "      <td>alexa</td>\n",
       "      <td>199.232.1.140</td>\n",
       "      <td>IPv4Network</td>\n",
       "    </tr>\n",
       "    <tr>\n",
       "      <th>3</th>\n",
       "      <td>world.taobao.com</td>\n",
       "      <td>1</td>\n",
       "      <td>74</td>\n",
       "      <td>1</td>\n",
       "      <td>0</td>\n",
       "      <td>61</td>\n",
       "      <td>1</td>\n",
       "      <td>1</td>\n",
       "      <td>0</td>\n",
       "      <td>0</td>\n",
       "      <td>...</td>\n",
       "      <td>0</td>\n",
       "      <td>0</td>\n",
       "      <td>0</td>\n",
       "      <td>0</td>\n",
       "      <td>0</td>\n",
       "      <td>0</td>\n",
       "      <td>0</td>\n",
       "      <td>alexa</td>\n",
       "      <td>47.246.19.235</td>\n",
       "      <td>IPv4Network</td>\n",
       "    </tr>\n",
       "    <tr>\n",
       "      <th>4</th>\n",
       "      <td>www.google.co.jp</td>\n",
       "      <td>1</td>\n",
       "      <td>83</td>\n",
       "      <td>1</td>\n",
       "      <td>0</td>\n",
       "      <td>11</td>\n",
       "      <td>1</td>\n",
       "      <td>0</td>\n",
       "      <td>1</td>\n",
       "      <td>0</td>\n",
       "      <td>...</td>\n",
       "      <td>0</td>\n",
       "      <td>0</td>\n",
       "      <td>0</td>\n",
       "      <td>0</td>\n",
       "      <td>0</td>\n",
       "      <td>0</td>\n",
       "      <td>0</td>\n",
       "      <td>alexa</td>\n",
       "      <td>64.233.185.94</td>\n",
       "      <td>IPv4Network</td>\n",
       "    </tr>\n",
       "    <tr>\n",
       "      <th>...</th>\n",
       "      <td>...</td>\n",
       "      <td>...</td>\n",
       "      <td>...</td>\n",
       "      <td>...</td>\n",
       "      <td>...</td>\n",
       "      <td>...</td>\n",
       "      <td>...</td>\n",
       "      <td>...</td>\n",
       "      <td>...</td>\n",
       "      <td>...</td>\n",
       "      <td>...</td>\n",
       "      <td>...</td>\n",
       "      <td>...</td>\n",
       "      <td>...</td>\n",
       "      <td>...</td>\n",
       "      <td>...</td>\n",
       "      <td>...</td>\n",
       "      <td>...</td>\n",
       "      <td>...</td>\n",
       "      <td>...</td>\n",
       "      <td>...</td>\n",
       "    </tr>\n",
       "    <tr>\n",
       "      <th>1310</th>\n",
       "      <td>account-servicedesk.000webhostapp.com</td>\n",
       "      <td>1</td>\n",
       "      <td>1095</td>\n",
       "      <td>1</td>\n",
       "      <td>0</td>\n",
       "      <td>542</td>\n",
       "      <td>0</td>\n",
       "      <td>0</td>\n",
       "      <td>0</td>\n",
       "      <td>0</td>\n",
       "      <td>...</td>\n",
       "      <td>0</td>\n",
       "      <td>0</td>\n",
       "      <td>0</td>\n",
       "      <td>0</td>\n",
       "      <td>0</td>\n",
       "      <td>0</td>\n",
       "      <td>0</td>\n",
       "      <td>phish</td>\n",
       "      <td>145.14.144.97</td>\n",
       "      <td>IPv4Network</td>\n",
       "    </tr>\n",
       "    <tr>\n",
       "      <th>1311</th>\n",
       "      <td>wellssupportsysreact.000webhostapp.com</td>\n",
       "      <td>1</td>\n",
       "      <td>1095</td>\n",
       "      <td>1</td>\n",
       "      <td>0</td>\n",
       "      <td>542</td>\n",
       "      <td>0</td>\n",
       "      <td>0</td>\n",
       "      <td>0</td>\n",
       "      <td>0</td>\n",
       "      <td>...</td>\n",
       "      <td>0</td>\n",
       "      <td>0</td>\n",
       "      <td>0</td>\n",
       "      <td>0</td>\n",
       "      <td>0</td>\n",
       "      <td>0</td>\n",
       "      <td>0</td>\n",
       "      <td>phish</td>\n",
       "      <td>145.14.145.191</td>\n",
       "      <td>IPv4Network</td>\n",
       "    </tr>\n",
       "    <tr>\n",
       "      <th>1312</th>\n",
       "      <td>whatsapp.codevalidation.accountexpired.creativ...</td>\n",
       "      <td>1</td>\n",
       "      <td>90</td>\n",
       "      <td>1</td>\n",
       "      <td>0</td>\n",
       "      <td>0</td>\n",
       "      <td>1</td>\n",
       "      <td>0</td>\n",
       "      <td>0</td>\n",
       "      <td>0</td>\n",
       "      <td>...</td>\n",
       "      <td>0</td>\n",
       "      <td>0</td>\n",
       "      <td>0</td>\n",
       "      <td>0</td>\n",
       "      <td>0</td>\n",
       "      <td>0</td>\n",
       "      <td>0</td>\n",
       "      <td>phish</td>\n",
       "      <td>18.211.9.206</td>\n",
       "      <td>IPv4Network</td>\n",
       "    </tr>\n",
       "    <tr>\n",
       "      <th>1313</th>\n",
       "      <td>www.whatsapp.codevalidation.accountexpired.cre...</td>\n",
       "      <td>1</td>\n",
       "      <td>90</td>\n",
       "      <td>1</td>\n",
       "      <td>0</td>\n",
       "      <td>0</td>\n",
       "      <td>1</td>\n",
       "      <td>0</td>\n",
       "      <td>0</td>\n",
       "      <td>0</td>\n",
       "      <td>...</td>\n",
       "      <td>0</td>\n",
       "      <td>0</td>\n",
       "      <td>0</td>\n",
       "      <td>0</td>\n",
       "      <td>0</td>\n",
       "      <td>0</td>\n",
       "      <td>0</td>\n",
       "      <td>phish</td>\n",
       "      <td>18.211.9.206</td>\n",
       "      <td>IPv4Network</td>\n",
       "    </tr>\n",
       "    <tr>\n",
       "      <th>1318</th>\n",
       "      <td>poderdevender.com</td>\n",
       "      <td>1</td>\n",
       "      <td>90</td>\n",
       "      <td>1</td>\n",
       "      <td>0</td>\n",
       "      <td>14</td>\n",
       "      <td>0</td>\n",
       "      <td>0</td>\n",
       "      <td>0</td>\n",
       "      <td>0</td>\n",
       "      <td>...</td>\n",
       "      <td>0</td>\n",
       "      <td>0</td>\n",
       "      <td>0</td>\n",
       "      <td>0</td>\n",
       "      <td>0</td>\n",
       "      <td>0</td>\n",
       "      <td>0</td>\n",
       "      <td>phish</td>\n",
       "      <td>108.161.131.171</td>\n",
       "      <td>IPv4Network</td>\n",
       "    </tr>\n",
       "  </tbody>\n",
       "</table>\n",
       "<p>7791 rows × 2210 columns</p>\n",
       "</div>"
      ],
      "text/plain": [
       "                                                 domain  has_cert  \\\n",
       "0                                         www.yahoo.com         1   \n",
       "1                                      www.google.co.in         1   \n",
       "2                                        www.reddit.com         1   \n",
       "3                                      world.taobao.com         1   \n",
       "4                                      www.google.co.jp         1   \n",
       "...                                                 ...       ...   \n",
       "1310              account-servicedesk.000webhostapp.com         1   \n",
       "1311             wellssupportsysreact.000webhostapp.com         1   \n",
       "1312  whatsapp.codevalidation.accountexpired.creativ...         1   \n",
       "1313  www.whatsapp.codevalidation.accountexpired.cre...         1   \n",
       "1318                                  poderdevender.com         1   \n",
       "\n",
       "      longetivity  valid_cert  extended_validation  cert_age  multi_mtn  \\\n",
       "0             180           1                    0        61          1   \n",
       "1              83           1                    0        11          1   \n",
       "2            1100           1                    0       826          1   \n",
       "3              74           1                    0        61          1   \n",
       "4              83           1                    0        11          1   \n",
       "...           ...         ...                  ...       ...        ...   \n",
       "1310         1095           1                    0       542          0   \n",
       "1311         1095           1                    0       542          0   \n",
       "1312           90           1                    0         0          1   \n",
       "1313           90           1                    0         0          1   \n",
       "1318           90           1                    0        14          0   \n",
       "\n",
       "      globalsign nv-sa  google inc  gandi  ...  sewaknepal.org  \\\n",
       "0                    0           0      0  ...               0   \n",
       "1                    0           1      0  ...               0   \n",
       "2                    0           0      0  ...               0   \n",
       "3                    1           0      0  ...               0   \n",
       "4                    0           1      0  ...               0   \n",
       "...                ...         ...    ...  ...             ...   \n",
       "1310                 0           0      0  ...               0   \n",
       "1311                 0           0      0  ...               0   \n",
       "1312                 0           0      0  ...               0   \n",
       "1313                 0           0      0  ...               0   \n",
       "1318                 0           0      0  ...               0   \n",
       "\n",
       "      watchvslivestreamtv.club  nehanaxane.ga  alexis-collins10.tk  \\\n",
       "0                            0              0                    0   \n",
       "1                            0              0                    0   \n",
       "2                            0              0                    0   \n",
       "3                            0              0                    0   \n",
       "4                            0              0                    0   \n",
       "...                        ...            ...                  ...   \n",
       "1310                         0              0                    0   \n",
       "1311                         0              0                    0   \n",
       "1312                         0              0                    0   \n",
       "1313                         0              0                    0   \n",
       "1318                         0              0                    0   \n",
       "\n",
       "      laborindonesia.com  egdemo.info  theflatbellydrink.com  class  \\\n",
       "0                      0            0                      0  alexa   \n",
       "1                      0            0                      0  alexa   \n",
       "2                      0            0                      0  alexa   \n",
       "3                      0            0                      0  alexa   \n",
       "4                      0            0                      0  alexa   \n",
       "...                  ...          ...                    ...    ...   \n",
       "1310                   0            0                      0  phish   \n",
       "1311                   0            0                      0  phish   \n",
       "1312                   0            0                      0  phish   \n",
       "1313                   0            0                      0  phish   \n",
       "1318                   0            0                      0  phish   \n",
       "\n",
       "                   ip  Network_class  \n",
       "0      98.138.219.232    IPv4Network  \n",
       "1       64.233.176.94    IPv4Network  \n",
       "2       199.232.1.140    IPv4Network  \n",
       "3       47.246.19.235    IPv4Network  \n",
       "4       64.233.185.94    IPv4Network  \n",
       "...               ...            ...  \n",
       "1310    145.14.144.97    IPv4Network  \n",
       "1311   145.14.145.191    IPv4Network  \n",
       "1312     18.211.9.206    IPv4Network  \n",
       "1313     18.211.9.206    IPv4Network  \n",
       "1318  108.161.131.171    IPv4Network  \n",
       "\n",
       "[7791 rows x 2210 columns]"
      ]
     },
     "execution_count": 79,
     "metadata": {},
     "output_type": "execute_result"
    }
   ],
   "source": [
    "unique_ips = source['ip'].unique()\n",
    "unique_ips = pd.Series(unique_ips, index = unique_ips)\n",
    "c['Network_class']=c['ip'].map(unique_ips.apply(checkip))\n",
    "c"
   ]
  },
  {
   "cell_type": "code",
   "execution_count": 80,
   "metadata": {
    "ExecuteTime": {
     "end_time": "2020-04-01T16:23:55.754548Z",
     "start_time": "2020-04-01T16:23:55.597826Z"
    }
   },
   "outputs": [
    {
     "name": "stderr",
     "output_type": "stream",
     "text": [
      "C:\\Users\\ed2489\\AppData\\Local\\Continuum\\anaconda3\\lib\\site-packages\\ipykernel_launcher.py:9: SettingWithCopyWarning: \n",
      "A value is trying to be set on a copy of a slice from a DataFrame.\n",
      "Try using .loc[row_indexer,col_indexer] = value instead\n",
      "\n",
      "See the caveats in the documentation: https://pandas.pydata.org/pandas-docs/stable/user_guide/indexing.html#returning-a-view-versus-a-copy\n",
      "  if __name__ == '__main__':\n"
     ]
    },
    {
     "data": {
      "text/html": [
       "<div>\n",
       "<style scoped>\n",
       "    .dataframe tbody tr th:only-of-type {\n",
       "        vertical-align: middle;\n",
       "    }\n",
       "\n",
       "    .dataframe tbody tr th {\n",
       "        vertical-align: top;\n",
       "    }\n",
       "\n",
       "    .dataframe thead th {\n",
       "        text-align: right;\n",
       "    }\n",
       "</style>\n",
       "<table border=\"1\" class=\"dataframe\">\n",
       "  <thead>\n",
       "    <tr style=\"text-align: right;\">\n",
       "      <th></th>\n",
       "      <th>domain</th>\n",
       "      <th>has_cert</th>\n",
       "      <th>longetivity</th>\n",
       "      <th>valid_cert</th>\n",
       "      <th>extended_validation</th>\n",
       "      <th>cert_age</th>\n",
       "      <th>multi_mtn</th>\n",
       "      <th>globalsign nv-sa</th>\n",
       "      <th>google inc</th>\n",
       "      <th>gandi</th>\n",
       "      <th>...</th>\n",
       "      <th>watchvslivestreamtv.club</th>\n",
       "      <th>nehanaxane.ga</th>\n",
       "      <th>alexis-collins10.tk</th>\n",
       "      <th>laborindonesia.com</th>\n",
       "      <th>egdemo.info</th>\n",
       "      <th>theflatbellydrink.com</th>\n",
       "      <th>class</th>\n",
       "      <th>ip</th>\n",
       "      <th>Network_class</th>\n",
       "      <th>Network_global</th>\n",
       "    </tr>\n",
       "  </thead>\n",
       "  <tbody>\n",
       "    <tr>\n",
       "      <th>0</th>\n",
       "      <td>www.yahoo.com</td>\n",
       "      <td>1</td>\n",
       "      <td>180</td>\n",
       "      <td>1</td>\n",
       "      <td>0</td>\n",
       "      <td>61</td>\n",
       "      <td>1</td>\n",
       "      <td>0</td>\n",
       "      <td>0</td>\n",
       "      <td>0</td>\n",
       "      <td>...</td>\n",
       "      <td>0</td>\n",
       "      <td>0</td>\n",
       "      <td>0</td>\n",
       "      <td>0</td>\n",
       "      <td>0</td>\n",
       "      <td>0</td>\n",
       "      <td>alexa</td>\n",
       "      <td>98.138.219.232</td>\n",
       "      <td>IPv4Network</td>\n",
       "      <td>True</td>\n",
       "    </tr>\n",
       "    <tr>\n",
       "      <th>1</th>\n",
       "      <td>www.google.co.in</td>\n",
       "      <td>1</td>\n",
       "      <td>83</td>\n",
       "      <td>1</td>\n",
       "      <td>0</td>\n",
       "      <td>11</td>\n",
       "      <td>1</td>\n",
       "      <td>0</td>\n",
       "      <td>1</td>\n",
       "      <td>0</td>\n",
       "      <td>...</td>\n",
       "      <td>0</td>\n",
       "      <td>0</td>\n",
       "      <td>0</td>\n",
       "      <td>0</td>\n",
       "      <td>0</td>\n",
       "      <td>0</td>\n",
       "      <td>alexa</td>\n",
       "      <td>64.233.176.94</td>\n",
       "      <td>IPv4Network</td>\n",
       "      <td>True</td>\n",
       "    </tr>\n",
       "    <tr>\n",
       "      <th>2</th>\n",
       "      <td>www.reddit.com</td>\n",
       "      <td>1</td>\n",
       "      <td>1100</td>\n",
       "      <td>1</td>\n",
       "      <td>0</td>\n",
       "      <td>826</td>\n",
       "      <td>1</td>\n",
       "      <td>0</td>\n",
       "      <td>0</td>\n",
       "      <td>0</td>\n",
       "      <td>...</td>\n",
       "      <td>0</td>\n",
       "      <td>0</td>\n",
       "      <td>0</td>\n",
       "      <td>0</td>\n",
       "      <td>0</td>\n",
       "      <td>0</td>\n",
       "      <td>alexa</td>\n",
       "      <td>199.232.1.140</td>\n",
       "      <td>IPv4Network</td>\n",
       "      <td>True</td>\n",
       "    </tr>\n",
       "    <tr>\n",
       "      <th>3</th>\n",
       "      <td>world.taobao.com</td>\n",
       "      <td>1</td>\n",
       "      <td>74</td>\n",
       "      <td>1</td>\n",
       "      <td>0</td>\n",
       "      <td>61</td>\n",
       "      <td>1</td>\n",
       "      <td>1</td>\n",
       "      <td>0</td>\n",
       "      <td>0</td>\n",
       "      <td>...</td>\n",
       "      <td>0</td>\n",
       "      <td>0</td>\n",
       "      <td>0</td>\n",
       "      <td>0</td>\n",
       "      <td>0</td>\n",
       "      <td>0</td>\n",
       "      <td>alexa</td>\n",
       "      <td>47.246.19.235</td>\n",
       "      <td>IPv4Network</td>\n",
       "      <td>True</td>\n",
       "    </tr>\n",
       "    <tr>\n",
       "      <th>4</th>\n",
       "      <td>www.google.co.jp</td>\n",
       "      <td>1</td>\n",
       "      <td>83</td>\n",
       "      <td>1</td>\n",
       "      <td>0</td>\n",
       "      <td>11</td>\n",
       "      <td>1</td>\n",
       "      <td>0</td>\n",
       "      <td>1</td>\n",
       "      <td>0</td>\n",
       "      <td>...</td>\n",
       "      <td>0</td>\n",
       "      <td>0</td>\n",
       "      <td>0</td>\n",
       "      <td>0</td>\n",
       "      <td>0</td>\n",
       "      <td>0</td>\n",
       "      <td>alexa</td>\n",
       "      <td>64.233.185.94</td>\n",
       "      <td>IPv4Network</td>\n",
       "      <td>True</td>\n",
       "    </tr>\n",
       "    <tr>\n",
       "      <th>...</th>\n",
       "      <td>...</td>\n",
       "      <td>...</td>\n",
       "      <td>...</td>\n",
       "      <td>...</td>\n",
       "      <td>...</td>\n",
       "      <td>...</td>\n",
       "      <td>...</td>\n",
       "      <td>...</td>\n",
       "      <td>...</td>\n",
       "      <td>...</td>\n",
       "      <td>...</td>\n",
       "      <td>...</td>\n",
       "      <td>...</td>\n",
       "      <td>...</td>\n",
       "      <td>...</td>\n",
       "      <td>...</td>\n",
       "      <td>...</td>\n",
       "      <td>...</td>\n",
       "      <td>...</td>\n",
       "      <td>...</td>\n",
       "      <td>...</td>\n",
       "    </tr>\n",
       "    <tr>\n",
       "      <th>1310</th>\n",
       "      <td>account-servicedesk.000webhostapp.com</td>\n",
       "      <td>1</td>\n",
       "      <td>1095</td>\n",
       "      <td>1</td>\n",
       "      <td>0</td>\n",
       "      <td>542</td>\n",
       "      <td>0</td>\n",
       "      <td>0</td>\n",
       "      <td>0</td>\n",
       "      <td>0</td>\n",
       "      <td>...</td>\n",
       "      <td>0</td>\n",
       "      <td>0</td>\n",
       "      <td>0</td>\n",
       "      <td>0</td>\n",
       "      <td>0</td>\n",
       "      <td>0</td>\n",
       "      <td>phish</td>\n",
       "      <td>145.14.144.97</td>\n",
       "      <td>IPv4Network</td>\n",
       "      <td>True</td>\n",
       "    </tr>\n",
       "    <tr>\n",
       "      <th>1311</th>\n",
       "      <td>wellssupportsysreact.000webhostapp.com</td>\n",
       "      <td>1</td>\n",
       "      <td>1095</td>\n",
       "      <td>1</td>\n",
       "      <td>0</td>\n",
       "      <td>542</td>\n",
       "      <td>0</td>\n",
       "      <td>0</td>\n",
       "      <td>0</td>\n",
       "      <td>0</td>\n",
       "      <td>...</td>\n",
       "      <td>0</td>\n",
       "      <td>0</td>\n",
       "      <td>0</td>\n",
       "      <td>0</td>\n",
       "      <td>0</td>\n",
       "      <td>0</td>\n",
       "      <td>phish</td>\n",
       "      <td>145.14.145.191</td>\n",
       "      <td>IPv4Network</td>\n",
       "      <td>True</td>\n",
       "    </tr>\n",
       "    <tr>\n",
       "      <th>1312</th>\n",
       "      <td>whatsapp.codevalidation.accountexpired.creativ...</td>\n",
       "      <td>1</td>\n",
       "      <td>90</td>\n",
       "      <td>1</td>\n",
       "      <td>0</td>\n",
       "      <td>0</td>\n",
       "      <td>1</td>\n",
       "      <td>0</td>\n",
       "      <td>0</td>\n",
       "      <td>0</td>\n",
       "      <td>...</td>\n",
       "      <td>0</td>\n",
       "      <td>0</td>\n",
       "      <td>0</td>\n",
       "      <td>0</td>\n",
       "      <td>0</td>\n",
       "      <td>0</td>\n",
       "      <td>phish</td>\n",
       "      <td>18.211.9.206</td>\n",
       "      <td>IPv4Network</td>\n",
       "      <td>True</td>\n",
       "    </tr>\n",
       "    <tr>\n",
       "      <th>1313</th>\n",
       "      <td>www.whatsapp.codevalidation.accountexpired.cre...</td>\n",
       "      <td>1</td>\n",
       "      <td>90</td>\n",
       "      <td>1</td>\n",
       "      <td>0</td>\n",
       "      <td>0</td>\n",
       "      <td>1</td>\n",
       "      <td>0</td>\n",
       "      <td>0</td>\n",
       "      <td>0</td>\n",
       "      <td>...</td>\n",
       "      <td>0</td>\n",
       "      <td>0</td>\n",
       "      <td>0</td>\n",
       "      <td>0</td>\n",
       "      <td>0</td>\n",
       "      <td>0</td>\n",
       "      <td>phish</td>\n",
       "      <td>18.211.9.206</td>\n",
       "      <td>IPv4Network</td>\n",
       "      <td>True</td>\n",
       "    </tr>\n",
       "    <tr>\n",
       "      <th>1318</th>\n",
       "      <td>poderdevender.com</td>\n",
       "      <td>1</td>\n",
       "      <td>90</td>\n",
       "      <td>1</td>\n",
       "      <td>0</td>\n",
       "      <td>14</td>\n",
       "      <td>0</td>\n",
       "      <td>0</td>\n",
       "      <td>0</td>\n",
       "      <td>0</td>\n",
       "      <td>...</td>\n",
       "      <td>0</td>\n",
       "      <td>0</td>\n",
       "      <td>0</td>\n",
       "      <td>0</td>\n",
       "      <td>0</td>\n",
       "      <td>0</td>\n",
       "      <td>phish</td>\n",
       "      <td>108.161.131.171</td>\n",
       "      <td>IPv4Network</td>\n",
       "      <td>True</td>\n",
       "    </tr>\n",
       "  </tbody>\n",
       "</table>\n",
       "<p>7791 rows × 2211 columns</p>\n",
       "</div>"
      ],
      "text/plain": [
       "                                                 domain  has_cert  \\\n",
       "0                                         www.yahoo.com         1   \n",
       "1                                      www.google.co.in         1   \n",
       "2                                        www.reddit.com         1   \n",
       "3                                      world.taobao.com         1   \n",
       "4                                      www.google.co.jp         1   \n",
       "...                                                 ...       ...   \n",
       "1310              account-servicedesk.000webhostapp.com         1   \n",
       "1311             wellssupportsysreact.000webhostapp.com         1   \n",
       "1312  whatsapp.codevalidation.accountexpired.creativ...         1   \n",
       "1313  www.whatsapp.codevalidation.accountexpired.cre...         1   \n",
       "1318                                  poderdevender.com         1   \n",
       "\n",
       "      longetivity  valid_cert  extended_validation  cert_age  multi_mtn  \\\n",
       "0             180           1                    0        61          1   \n",
       "1              83           1                    0        11          1   \n",
       "2            1100           1                    0       826          1   \n",
       "3              74           1                    0        61          1   \n",
       "4              83           1                    0        11          1   \n",
       "...           ...         ...                  ...       ...        ...   \n",
       "1310         1095           1                    0       542          0   \n",
       "1311         1095           1                    0       542          0   \n",
       "1312           90           1                    0         0          1   \n",
       "1313           90           1                    0         0          1   \n",
       "1318           90           1                    0        14          0   \n",
       "\n",
       "      globalsign nv-sa  google inc  gandi  ...  watchvslivestreamtv.club  \\\n",
       "0                    0           0      0  ...                         0   \n",
       "1                    0           1      0  ...                         0   \n",
       "2                    0           0      0  ...                         0   \n",
       "3                    1           0      0  ...                         0   \n",
       "4                    0           1      0  ...                         0   \n",
       "...                ...         ...    ...  ...                       ...   \n",
       "1310                 0           0      0  ...                         0   \n",
       "1311                 0           0      0  ...                         0   \n",
       "1312                 0           0      0  ...                         0   \n",
       "1313                 0           0      0  ...                         0   \n",
       "1318                 0           0      0  ...                         0   \n",
       "\n",
       "      nehanaxane.ga  alexis-collins10.tk  laborindonesia.com  egdemo.info  \\\n",
       "0                 0                    0                   0            0   \n",
       "1                 0                    0                   0            0   \n",
       "2                 0                    0                   0            0   \n",
       "3                 0                    0                   0            0   \n",
       "4                 0                    0                   0            0   \n",
       "...             ...                  ...                 ...          ...   \n",
       "1310              0                    0                   0            0   \n",
       "1311              0                    0                   0            0   \n",
       "1312              0                    0                   0            0   \n",
       "1313              0                    0                   0            0   \n",
       "1318              0                    0                   0            0   \n",
       "\n",
       "      theflatbellydrink.com  class               ip  Network_class  \\\n",
       "0                         0  alexa   98.138.219.232    IPv4Network   \n",
       "1                         0  alexa    64.233.176.94    IPv4Network   \n",
       "2                         0  alexa    199.232.1.140    IPv4Network   \n",
       "3                         0  alexa    47.246.19.235    IPv4Network   \n",
       "4                         0  alexa    64.233.185.94    IPv4Network   \n",
       "...                     ...    ...              ...            ...   \n",
       "1310                      0  phish    145.14.144.97    IPv4Network   \n",
       "1311                      0  phish   145.14.145.191    IPv4Network   \n",
       "1312                      0  phish     18.211.9.206    IPv4Network   \n",
       "1313                      0  phish     18.211.9.206    IPv4Network   \n",
       "1318                      0  phish  108.161.131.171    IPv4Network   \n",
       "\n",
       "      Network_global  \n",
       "0               True  \n",
       "1               True  \n",
       "2               True  \n",
       "3               True  \n",
       "4               True  \n",
       "...              ...  \n",
       "1310            True  \n",
       "1311            True  \n",
       "1312            True  \n",
       "1313            True  \n",
       "1318            True  \n",
       "\n",
       "[7791 rows x 2211 columns]"
      ]
     },
     "execution_count": 80,
     "metadata": {},
     "output_type": "execute_result"
    }
   ],
   "source": [
    "from ipaddress import IPv4Address\n",
    "import ipaddress\n",
    "def check_global(ip):\n",
    "    try:\n",
    "        ip_private=IPv4Address(ip).is_global\n",
    "        return ip_private\n",
    "    except:\n",
    "        return 'invalid'\n",
    "c['Network_global']=c['ip'].map(unique_ips.apply(check_global))\n",
    "c"
   ]
  },
  {
   "cell_type": "code",
   "execution_count": 81,
   "metadata": {
    "ExecuteTime": {
     "end_time": "2020-04-01T16:23:56.004407Z",
     "start_time": "2020-04-01T16:23:55.984593Z"
    }
   },
   "outputs": [
    {
     "data": {
      "text/plain": [
       "True"
      ]
     },
     "execution_count": 81,
     "metadata": {},
     "output_type": "execute_result"
    }
   ],
   "source": [
    "from ipaddress import IPv4Address\n",
    "check_global('90.177.154.197')"
   ]
  },
  {
   "cell_type": "code",
   "execution_count": 82,
   "metadata": {
    "ExecuteTime": {
     "end_time": "2020-04-01T16:23:56.194354Z",
     "start_time": "2020-04-01T16:23:56.174347Z"
    }
   },
   "outputs": [
    {
     "data": {
      "text/plain": [
       "array([ True, False])"
      ]
     },
     "execution_count": 82,
     "metadata": {},
     "output_type": "execute_result"
    }
   ],
   "source": [
    "c['Network_global'].unique()"
   ]
  },
  {
   "cell_type": "code",
   "execution_count": 83,
   "metadata": {
    "ExecuteTime": {
     "end_time": "2020-04-01T16:23:56.414601Z",
     "start_time": "2020-04-01T16:23:56.394565Z"
    }
   },
   "outputs": [
    {
     "name": "stdout",
     "output_type": "stream",
     "text": [
      "Network_global\n",
      "False       1\n",
      "True     7790\n",
      "dtype: int64\n"
     ]
    }
   ],
   "source": [
    "print(c.groupby('Network_global').size())"
   ]
  },
  {
   "cell_type": "code",
   "execution_count": 84,
   "metadata": {
    "ExecuteTime": {
     "end_time": "2020-04-01T16:23:56.764265Z",
     "start_time": "2020-04-01T16:23:56.654375Z"
    }
   },
   "outputs": [
    {
     "name": "stderr",
     "output_type": "stream",
     "text": [
      "C:\\Users\\ed2489\\AppData\\Local\\Continuum\\anaconda3\\lib\\site-packages\\ipykernel_launcher.py:9: SettingWithCopyWarning: \n",
      "A value is trying to be set on a copy of a slice from a DataFrame.\n",
      "Try using .loc[row_indexer,col_indexer] = value instead\n",
      "\n",
      "See the caveats in the documentation: https://pandas.pydata.org/pandas-docs/stable/user_guide/indexing.html#returning-a-view-versus-a-copy\n",
      "  if __name__ == '__main__':\n"
     ]
    }
   ],
   "source": [
    "from ipaddress import IPv4Address\n",
    "import ipaddress\n",
    "def check_pr(ip):\n",
    "    try:\n",
    "        ip_private=IPv4Address(ip).is_private\n",
    "        return ip_private\n",
    "    except:\n",
    "        return 'invalid'\n",
    "c['Network_private']=c['ip'].map(unique_ips.apply(check_pr))"
   ]
  },
  {
   "cell_type": "code",
   "execution_count": 85,
   "metadata": {
    "ExecuteTime": {
     "end_time": "2020-04-01T16:23:57.024143Z",
     "start_time": "2020-04-01T16:23:57.004471Z"
    }
   },
   "outputs": [
    {
     "data": {
      "text/plain": [
       "array([False,  True])"
      ]
     },
     "execution_count": 85,
     "metadata": {},
     "output_type": "execute_result"
    }
   ],
   "source": [
    "c['Network_private'].unique()"
   ]
  },
  {
   "cell_type": "code",
   "execution_count": 86,
   "metadata": {
    "ExecuteTime": {
     "end_time": "2020-04-01T16:23:57.234702Z",
     "start_time": "2020-04-01T16:23:57.214270Z"
    }
   },
   "outputs": [
    {
     "name": "stdout",
     "output_type": "stream",
     "text": [
      "Network_private\n",
      "False    7790\n",
      "True        1\n",
      "dtype: int64\n"
     ]
    }
   ],
   "source": [
    "print(c.groupby('Network_private').size())"
   ]
  },
  {
   "cell_type": "code",
   "execution_count": 87,
   "metadata": {
    "ExecuteTime": {
     "end_time": "2020-04-01T16:23:57.571411Z",
     "start_time": "2020-04-01T16:23:57.519278Z"
    }
   },
   "outputs": [
    {
     "name": "stderr",
     "output_type": "stream",
     "text": [
      "C:\\Users\\ed2489\\AppData\\Local\\Continuum\\anaconda3\\lib\\site-packages\\ipykernel_launcher.py:9: SettingWithCopyWarning: \n",
      "A value is trying to be set on a copy of a slice from a DataFrame.\n",
      "Try using .loc[row_indexer,col_indexer] = value instead\n",
      "\n",
      "See the caveats in the documentation: https://pandas.pydata.org/pandas-docs/stable/user_guide/indexing.html#returning-a-view-versus-a-copy\n",
      "  if __name__ == '__main__':\n"
     ]
    }
   ],
   "source": [
    "from ipaddress import IPv4Address\n",
    "import ipaddress\n",
    "def check_uns(ip):\n",
    "    try:\n",
    "        ip_private=IPv4Address(ip).is_unspecified\n",
    "        return ip_private\n",
    "    except:\n",
    "        return 'invalid'\n",
    "c['Network_unspecified']=c['ip'].map(unique_ips.apply(check_uns))"
   ]
  },
  {
   "cell_type": "code",
   "execution_count": 88,
   "metadata": {
    "ExecuteTime": {
     "end_time": "2020-04-01T16:23:57.854754Z",
     "start_time": "2020-04-01T16:23:57.794640Z"
    }
   },
   "outputs": [
    {
     "name": "stderr",
     "output_type": "stream",
     "text": [
      "C:\\Users\\ed2489\\AppData\\Local\\Continuum\\anaconda3\\lib\\site-packages\\ipykernel_launcher.py:9: SettingWithCopyWarning: \n",
      "A value is trying to be set on a copy of a slice from a DataFrame.\n",
      "Try using .loc[row_indexer,col_indexer] = value instead\n",
      "\n",
      "See the caveats in the documentation: https://pandas.pydata.org/pandas-docs/stable/user_guide/indexing.html#returning-a-view-versus-a-copy\n",
      "  if __name__ == '__main__':\n"
     ]
    }
   ],
   "source": [
    "from ipaddress import IPv4Address\n",
    "import ipaddress\n",
    "def check_res(ip):\n",
    "    try:\n",
    "        ip_private=IPv4Address(ip).is_reserved\n",
    "        return ip_private\n",
    "    except:\n",
    "        return 'invalid'\n",
    "c['Network_reserved']=c['ip'].map(unique_ips.apply(check_res))"
   ]
  },
  {
   "cell_type": "code",
   "execution_count": 89,
   "metadata": {
    "ExecuteTime": {
     "end_time": "2020-04-01T16:23:58.134443Z",
     "start_time": "2020-04-01T16:23:58.084228Z"
    }
   },
   "outputs": [
    {
     "name": "stderr",
     "output_type": "stream",
     "text": [
      "C:\\Users\\ed2489\\AppData\\Local\\Continuum\\anaconda3\\lib\\site-packages\\ipykernel_launcher.py:9: SettingWithCopyWarning: \n",
      "A value is trying to be set on a copy of a slice from a DataFrame.\n",
      "Try using .loc[row_indexer,col_indexer] = value instead\n",
      "\n",
      "See the caveats in the documentation: https://pandas.pydata.org/pandas-docs/stable/user_guide/indexing.html#returning-a-view-versus-a-copy\n",
      "  if __name__ == '__main__':\n"
     ]
    }
   ],
   "source": [
    "from ipaddress import IPv4Address\n",
    "import ipaddress\n",
    "def check_site(ip):\n",
    "    try:\n",
    "        ip_private=IPv4Address(ip).is_link_local\n",
    "        return ip_private\n",
    "    except:\n",
    "        return 'invalid'\n",
    "c['Network_link_local']=c['ip'].map(unique_ips.apply(check_site))"
   ]
  },
  {
   "cell_type": "code",
   "execution_count": 90,
   "metadata": {
    "ExecuteTime": {
     "end_time": "2020-04-01T16:23:58.394666Z",
     "start_time": "2020-04-01T16:23:58.374482Z"
    }
   },
   "outputs": [
    {
     "data": {
      "text/plain": [
       "array([False])"
      ]
     },
     "execution_count": 90,
     "metadata": {},
     "output_type": "execute_result"
    }
   ],
   "source": [
    "c['Network_link_local'].unique()"
   ]
  },
  {
   "cell_type": "code",
   "execution_count": 91,
   "metadata": {
    "ExecuteTime": {
     "end_time": "2020-04-01T16:23:58.654228Z",
     "start_time": "2020-04-01T16:23:58.584376Z"
    }
   },
   "outputs": [
    {
     "name": "stderr",
     "output_type": "stream",
     "text": [
      "C:\\Users\\ed2489\\AppData\\Local\\Continuum\\anaconda3\\lib\\site-packages\\ipykernel_launcher.py:9: SettingWithCopyWarning: \n",
      "A value is trying to be set on a copy of a slice from a DataFrame.\n",
      "Try using .loc[row_indexer,col_indexer] = value instead\n",
      "\n",
      "See the caveats in the documentation: https://pandas.pydata.org/pandas-docs/stable/user_guide/indexing.html#returning-a-view-versus-a-copy\n",
      "  if __name__ == '__main__':\n"
     ]
    },
    {
     "data": {
      "text/html": [
       "<div>\n",
       "<style scoped>\n",
       "    .dataframe tbody tr th:only-of-type {\n",
       "        vertical-align: middle;\n",
       "    }\n",
       "\n",
       "    .dataframe tbody tr th {\n",
       "        vertical-align: top;\n",
       "    }\n",
       "\n",
       "    .dataframe thead th {\n",
       "        text-align: right;\n",
       "    }\n",
       "</style>\n",
       "<table border=\"1\" class=\"dataframe\">\n",
       "  <thead>\n",
       "    <tr style=\"text-align: right;\">\n",
       "      <th></th>\n",
       "      <th>domain</th>\n",
       "      <th>has_cert</th>\n",
       "      <th>longetivity</th>\n",
       "      <th>valid_cert</th>\n",
       "      <th>extended_validation</th>\n",
       "      <th>cert_age</th>\n",
       "      <th>multi_mtn</th>\n",
       "      <th>globalsign nv-sa</th>\n",
       "      <th>google inc</th>\n",
       "      <th>gandi</th>\n",
       "      <th>...</th>\n",
       "      <th>theflatbellydrink.com</th>\n",
       "      <th>class</th>\n",
       "      <th>ip</th>\n",
       "      <th>Network_class</th>\n",
       "      <th>Network_global</th>\n",
       "      <th>Network_private</th>\n",
       "      <th>Network_unspecified</th>\n",
       "      <th>Network_reserved</th>\n",
       "      <th>Network_link_local</th>\n",
       "      <th>Network_loop</th>\n",
       "    </tr>\n",
       "  </thead>\n",
       "  <tbody>\n",
       "    <tr>\n",
       "      <th>0</th>\n",
       "      <td>www.yahoo.com</td>\n",
       "      <td>1</td>\n",
       "      <td>180</td>\n",
       "      <td>1</td>\n",
       "      <td>0</td>\n",
       "      <td>61</td>\n",
       "      <td>1</td>\n",
       "      <td>0</td>\n",
       "      <td>0</td>\n",
       "      <td>0</td>\n",
       "      <td>...</td>\n",
       "      <td>0</td>\n",
       "      <td>alexa</td>\n",
       "      <td>98.138.219.232</td>\n",
       "      <td>IPv4Network</td>\n",
       "      <td>True</td>\n",
       "      <td>False</td>\n",
       "      <td>False</td>\n",
       "      <td>False</td>\n",
       "      <td>False</td>\n",
       "      <td>False</td>\n",
       "    </tr>\n",
       "    <tr>\n",
       "      <th>1</th>\n",
       "      <td>www.google.co.in</td>\n",
       "      <td>1</td>\n",
       "      <td>83</td>\n",
       "      <td>1</td>\n",
       "      <td>0</td>\n",
       "      <td>11</td>\n",
       "      <td>1</td>\n",
       "      <td>0</td>\n",
       "      <td>1</td>\n",
       "      <td>0</td>\n",
       "      <td>...</td>\n",
       "      <td>0</td>\n",
       "      <td>alexa</td>\n",
       "      <td>64.233.176.94</td>\n",
       "      <td>IPv4Network</td>\n",
       "      <td>True</td>\n",
       "      <td>False</td>\n",
       "      <td>False</td>\n",
       "      <td>False</td>\n",
       "      <td>False</td>\n",
       "      <td>False</td>\n",
       "    </tr>\n",
       "    <tr>\n",
       "      <th>2</th>\n",
       "      <td>www.reddit.com</td>\n",
       "      <td>1</td>\n",
       "      <td>1100</td>\n",
       "      <td>1</td>\n",
       "      <td>0</td>\n",
       "      <td>826</td>\n",
       "      <td>1</td>\n",
       "      <td>0</td>\n",
       "      <td>0</td>\n",
       "      <td>0</td>\n",
       "      <td>...</td>\n",
       "      <td>0</td>\n",
       "      <td>alexa</td>\n",
       "      <td>199.232.1.140</td>\n",
       "      <td>IPv4Network</td>\n",
       "      <td>True</td>\n",
       "      <td>False</td>\n",
       "      <td>False</td>\n",
       "      <td>False</td>\n",
       "      <td>False</td>\n",
       "      <td>False</td>\n",
       "    </tr>\n",
       "    <tr>\n",
       "      <th>3</th>\n",
       "      <td>world.taobao.com</td>\n",
       "      <td>1</td>\n",
       "      <td>74</td>\n",
       "      <td>1</td>\n",
       "      <td>0</td>\n",
       "      <td>61</td>\n",
       "      <td>1</td>\n",
       "      <td>1</td>\n",
       "      <td>0</td>\n",
       "      <td>0</td>\n",
       "      <td>...</td>\n",
       "      <td>0</td>\n",
       "      <td>alexa</td>\n",
       "      <td>47.246.19.235</td>\n",
       "      <td>IPv4Network</td>\n",
       "      <td>True</td>\n",
       "      <td>False</td>\n",
       "      <td>False</td>\n",
       "      <td>False</td>\n",
       "      <td>False</td>\n",
       "      <td>False</td>\n",
       "    </tr>\n",
       "    <tr>\n",
       "      <th>4</th>\n",
       "      <td>www.google.co.jp</td>\n",
       "      <td>1</td>\n",
       "      <td>83</td>\n",
       "      <td>1</td>\n",
       "      <td>0</td>\n",
       "      <td>11</td>\n",
       "      <td>1</td>\n",
       "      <td>0</td>\n",
       "      <td>1</td>\n",
       "      <td>0</td>\n",
       "      <td>...</td>\n",
       "      <td>0</td>\n",
       "      <td>alexa</td>\n",
       "      <td>64.233.185.94</td>\n",
       "      <td>IPv4Network</td>\n",
       "      <td>True</td>\n",
       "      <td>False</td>\n",
       "      <td>False</td>\n",
       "      <td>False</td>\n",
       "      <td>False</td>\n",
       "      <td>False</td>\n",
       "    </tr>\n",
       "    <tr>\n",
       "      <th>...</th>\n",
       "      <td>...</td>\n",
       "      <td>...</td>\n",
       "      <td>...</td>\n",
       "      <td>...</td>\n",
       "      <td>...</td>\n",
       "      <td>...</td>\n",
       "      <td>...</td>\n",
       "      <td>...</td>\n",
       "      <td>...</td>\n",
       "      <td>...</td>\n",
       "      <td>...</td>\n",
       "      <td>...</td>\n",
       "      <td>...</td>\n",
       "      <td>...</td>\n",
       "      <td>...</td>\n",
       "      <td>...</td>\n",
       "      <td>...</td>\n",
       "      <td>...</td>\n",
       "      <td>...</td>\n",
       "      <td>...</td>\n",
       "      <td>...</td>\n",
       "    </tr>\n",
       "    <tr>\n",
       "      <th>1310</th>\n",
       "      <td>account-servicedesk.000webhostapp.com</td>\n",
       "      <td>1</td>\n",
       "      <td>1095</td>\n",
       "      <td>1</td>\n",
       "      <td>0</td>\n",
       "      <td>542</td>\n",
       "      <td>0</td>\n",
       "      <td>0</td>\n",
       "      <td>0</td>\n",
       "      <td>0</td>\n",
       "      <td>...</td>\n",
       "      <td>0</td>\n",
       "      <td>phish</td>\n",
       "      <td>145.14.144.97</td>\n",
       "      <td>IPv4Network</td>\n",
       "      <td>True</td>\n",
       "      <td>False</td>\n",
       "      <td>False</td>\n",
       "      <td>False</td>\n",
       "      <td>False</td>\n",
       "      <td>False</td>\n",
       "    </tr>\n",
       "    <tr>\n",
       "      <th>1311</th>\n",
       "      <td>wellssupportsysreact.000webhostapp.com</td>\n",
       "      <td>1</td>\n",
       "      <td>1095</td>\n",
       "      <td>1</td>\n",
       "      <td>0</td>\n",
       "      <td>542</td>\n",
       "      <td>0</td>\n",
       "      <td>0</td>\n",
       "      <td>0</td>\n",
       "      <td>0</td>\n",
       "      <td>...</td>\n",
       "      <td>0</td>\n",
       "      <td>phish</td>\n",
       "      <td>145.14.145.191</td>\n",
       "      <td>IPv4Network</td>\n",
       "      <td>True</td>\n",
       "      <td>False</td>\n",
       "      <td>False</td>\n",
       "      <td>False</td>\n",
       "      <td>False</td>\n",
       "      <td>False</td>\n",
       "    </tr>\n",
       "    <tr>\n",
       "      <th>1312</th>\n",
       "      <td>whatsapp.codevalidation.accountexpired.creativ...</td>\n",
       "      <td>1</td>\n",
       "      <td>90</td>\n",
       "      <td>1</td>\n",
       "      <td>0</td>\n",
       "      <td>0</td>\n",
       "      <td>1</td>\n",
       "      <td>0</td>\n",
       "      <td>0</td>\n",
       "      <td>0</td>\n",
       "      <td>...</td>\n",
       "      <td>0</td>\n",
       "      <td>phish</td>\n",
       "      <td>18.211.9.206</td>\n",
       "      <td>IPv4Network</td>\n",
       "      <td>True</td>\n",
       "      <td>False</td>\n",
       "      <td>False</td>\n",
       "      <td>False</td>\n",
       "      <td>False</td>\n",
       "      <td>False</td>\n",
       "    </tr>\n",
       "    <tr>\n",
       "      <th>1313</th>\n",
       "      <td>www.whatsapp.codevalidation.accountexpired.cre...</td>\n",
       "      <td>1</td>\n",
       "      <td>90</td>\n",
       "      <td>1</td>\n",
       "      <td>0</td>\n",
       "      <td>0</td>\n",
       "      <td>1</td>\n",
       "      <td>0</td>\n",
       "      <td>0</td>\n",
       "      <td>0</td>\n",
       "      <td>...</td>\n",
       "      <td>0</td>\n",
       "      <td>phish</td>\n",
       "      <td>18.211.9.206</td>\n",
       "      <td>IPv4Network</td>\n",
       "      <td>True</td>\n",
       "      <td>False</td>\n",
       "      <td>False</td>\n",
       "      <td>False</td>\n",
       "      <td>False</td>\n",
       "      <td>False</td>\n",
       "    </tr>\n",
       "    <tr>\n",
       "      <th>1318</th>\n",
       "      <td>poderdevender.com</td>\n",
       "      <td>1</td>\n",
       "      <td>90</td>\n",
       "      <td>1</td>\n",
       "      <td>0</td>\n",
       "      <td>14</td>\n",
       "      <td>0</td>\n",
       "      <td>0</td>\n",
       "      <td>0</td>\n",
       "      <td>0</td>\n",
       "      <td>...</td>\n",
       "      <td>0</td>\n",
       "      <td>phish</td>\n",
       "      <td>108.161.131.171</td>\n",
       "      <td>IPv4Network</td>\n",
       "      <td>True</td>\n",
       "      <td>False</td>\n",
       "      <td>False</td>\n",
       "      <td>False</td>\n",
       "      <td>False</td>\n",
       "      <td>False</td>\n",
       "    </tr>\n",
       "  </tbody>\n",
       "</table>\n",
       "<p>7791 rows × 2216 columns</p>\n",
       "</div>"
      ],
      "text/plain": [
       "                                                 domain  has_cert  \\\n",
       "0                                         www.yahoo.com         1   \n",
       "1                                      www.google.co.in         1   \n",
       "2                                        www.reddit.com         1   \n",
       "3                                      world.taobao.com         1   \n",
       "4                                      www.google.co.jp         1   \n",
       "...                                                 ...       ...   \n",
       "1310              account-servicedesk.000webhostapp.com         1   \n",
       "1311             wellssupportsysreact.000webhostapp.com         1   \n",
       "1312  whatsapp.codevalidation.accountexpired.creativ...         1   \n",
       "1313  www.whatsapp.codevalidation.accountexpired.cre...         1   \n",
       "1318                                  poderdevender.com         1   \n",
       "\n",
       "      longetivity  valid_cert  extended_validation  cert_age  multi_mtn  \\\n",
       "0             180           1                    0        61          1   \n",
       "1              83           1                    0        11          1   \n",
       "2            1100           1                    0       826          1   \n",
       "3              74           1                    0        61          1   \n",
       "4              83           1                    0        11          1   \n",
       "...           ...         ...                  ...       ...        ...   \n",
       "1310         1095           1                    0       542          0   \n",
       "1311         1095           1                    0       542          0   \n",
       "1312           90           1                    0         0          1   \n",
       "1313           90           1                    0         0          1   \n",
       "1318           90           1                    0        14          0   \n",
       "\n",
       "      globalsign nv-sa  google inc  gandi  ...  theflatbellydrink.com  class  \\\n",
       "0                    0           0      0  ...                      0  alexa   \n",
       "1                    0           1      0  ...                      0  alexa   \n",
       "2                    0           0      0  ...                      0  alexa   \n",
       "3                    1           0      0  ...                      0  alexa   \n",
       "4                    0           1      0  ...                      0  alexa   \n",
       "...                ...         ...    ...  ...                    ...    ...   \n",
       "1310                 0           0      0  ...                      0  phish   \n",
       "1311                 0           0      0  ...                      0  phish   \n",
       "1312                 0           0      0  ...                      0  phish   \n",
       "1313                 0           0      0  ...                      0  phish   \n",
       "1318                 0           0      0  ...                      0  phish   \n",
       "\n",
       "                   ip  Network_class  Network_global  Network_private  \\\n",
       "0      98.138.219.232    IPv4Network            True            False   \n",
       "1       64.233.176.94    IPv4Network            True            False   \n",
       "2       199.232.1.140    IPv4Network            True            False   \n",
       "3       47.246.19.235    IPv4Network            True            False   \n",
       "4       64.233.185.94    IPv4Network            True            False   \n",
       "...               ...            ...             ...              ...   \n",
       "1310    145.14.144.97    IPv4Network            True            False   \n",
       "1311   145.14.145.191    IPv4Network            True            False   \n",
       "1312     18.211.9.206    IPv4Network            True            False   \n",
       "1313     18.211.9.206    IPv4Network            True            False   \n",
       "1318  108.161.131.171    IPv4Network            True            False   \n",
       "\n",
       "      Network_unspecified  Network_reserved  Network_link_local  Network_loop  \n",
       "0                   False             False               False         False  \n",
       "1                   False             False               False         False  \n",
       "2                   False             False               False         False  \n",
       "3                   False             False               False         False  \n",
       "4                   False             False               False         False  \n",
       "...                   ...               ...                 ...           ...  \n",
       "1310                False             False               False         False  \n",
       "1311                False             False               False         False  \n",
       "1312                False             False               False         False  \n",
       "1313                False             False               False         False  \n",
       "1318                False             False               False         False  \n",
       "\n",
       "[7791 rows x 2216 columns]"
      ]
     },
     "execution_count": 91,
     "metadata": {},
     "output_type": "execute_result"
    }
   ],
   "source": [
    "from ipaddress import IPv4Address\n",
    "import ipaddress\n",
    "def check_loop(ip):\n",
    "    try:\n",
    "        ip_private=IPv4Address(ip).is_loopback\n",
    "        return ip_private\n",
    "    except:\n",
    "        return 'invalid'\n",
    "c['Network_loop']=c['ip'].map(unique_ips.apply(check_loop))\n",
    "c"
   ]
  },
  {
   "cell_type": "markdown",
   "metadata": {},
   "source": [
    "## cleaning data frame after adding fetures "
   ]
  },
  {
   "cell_type": "code",
   "execution_count": 92,
   "metadata": {
    "ExecuteTime": {
     "end_time": "2020-04-01T16:23:58.914106Z",
     "start_time": "2020-04-01T16:23:58.874283Z"
    }
   },
   "outputs": [
    {
     "name": "stderr",
     "output_type": "stream",
     "text": [
      "C:\\Users\\ed2489\\AppData\\Local\\Continuum\\anaconda3\\lib\\site-packages\\ipykernel_launcher.py:3: SettingWithCopyWarning: \n",
      "A value is trying to be set on a copy of a slice from a DataFrame.\n",
      "Try using .loc[row_indexer,col_indexer] = value instead\n",
      "\n",
      "See the caveats in the documentation: https://pandas.pydata.org/pandas-docs/stable/user_guide/indexing.html#returning-a-view-versus-a-copy\n",
      "  This is separate from the ipykernel package so we can avoid doing imports until\n"
     ]
    }
   ],
   "source": [
    "for u in c.columns:\n",
    "    if c[u].dtype == bool:\n",
    "        c[u] = c[u].astype('int')"
   ]
  },
  {
   "cell_type": "code",
   "execution_count": 93,
   "metadata": {
    "ExecuteTime": {
     "end_time": "2020-04-01T16:23:59.364137Z",
     "start_time": "2020-04-01T16:23:59.134486Z"
    }
   },
   "outputs": [
    {
     "data": {
      "text/html": [
       "<div>\n",
       "<style scoped>\n",
       "    .dataframe tbody tr th:only-of-type {\n",
       "        vertical-align: middle;\n",
       "    }\n",
       "\n",
       "    .dataframe tbody tr th {\n",
       "        vertical-align: top;\n",
       "    }\n",
       "\n",
       "    .dataframe thead th {\n",
       "        text-align: right;\n",
       "    }\n",
       "</style>\n",
       "<table border=\"1\" class=\"dataframe\">\n",
       "  <thead>\n",
       "    <tr style=\"text-align: right;\">\n",
       "      <th></th>\n",
       "      <th>has_cert</th>\n",
       "      <th>longetivity</th>\n",
       "      <th>valid_cert</th>\n",
       "      <th>extended_validation</th>\n",
       "      <th>cert_age</th>\n",
       "      <th>multi_mtn</th>\n",
       "      <th>globalsign nv-sa</th>\n",
       "      <th>google inc</th>\n",
       "      <th>gandi</th>\n",
       "      <th>parallels</th>\n",
       "      <th>...</th>\n",
       "      <th>laborindonesia.com</th>\n",
       "      <th>egdemo.info</th>\n",
       "      <th>theflatbellydrink.com</th>\n",
       "      <th>Network_class</th>\n",
       "      <th>Network_global</th>\n",
       "      <th>Network_private</th>\n",
       "      <th>Network_unspecified</th>\n",
       "      <th>Network_reserved</th>\n",
       "      <th>Network_link_local</th>\n",
       "      <th>Network_loop</th>\n",
       "    </tr>\n",
       "  </thead>\n",
       "  <tbody>\n",
       "    <tr>\n",
       "      <th>0</th>\n",
       "      <td>1</td>\n",
       "      <td>180</td>\n",
       "      <td>1</td>\n",
       "      <td>0</td>\n",
       "      <td>61</td>\n",
       "      <td>1</td>\n",
       "      <td>0</td>\n",
       "      <td>0</td>\n",
       "      <td>0</td>\n",
       "      <td>0</td>\n",
       "      <td>...</td>\n",
       "      <td>0</td>\n",
       "      <td>0</td>\n",
       "      <td>0</td>\n",
       "      <td>IPv4Network</td>\n",
       "      <td>1</td>\n",
       "      <td>0</td>\n",
       "      <td>0</td>\n",
       "      <td>0</td>\n",
       "      <td>0</td>\n",
       "      <td>0</td>\n",
       "    </tr>\n",
       "    <tr>\n",
       "      <th>1</th>\n",
       "      <td>1</td>\n",
       "      <td>83</td>\n",
       "      <td>1</td>\n",
       "      <td>0</td>\n",
       "      <td>11</td>\n",
       "      <td>1</td>\n",
       "      <td>0</td>\n",
       "      <td>1</td>\n",
       "      <td>0</td>\n",
       "      <td>0</td>\n",
       "      <td>...</td>\n",
       "      <td>0</td>\n",
       "      <td>0</td>\n",
       "      <td>0</td>\n",
       "      <td>IPv4Network</td>\n",
       "      <td>1</td>\n",
       "      <td>0</td>\n",
       "      <td>0</td>\n",
       "      <td>0</td>\n",
       "      <td>0</td>\n",
       "      <td>0</td>\n",
       "    </tr>\n",
       "    <tr>\n",
       "      <th>2</th>\n",
       "      <td>1</td>\n",
       "      <td>1100</td>\n",
       "      <td>1</td>\n",
       "      <td>0</td>\n",
       "      <td>826</td>\n",
       "      <td>1</td>\n",
       "      <td>0</td>\n",
       "      <td>0</td>\n",
       "      <td>0</td>\n",
       "      <td>0</td>\n",
       "      <td>...</td>\n",
       "      <td>0</td>\n",
       "      <td>0</td>\n",
       "      <td>0</td>\n",
       "      <td>IPv4Network</td>\n",
       "      <td>1</td>\n",
       "      <td>0</td>\n",
       "      <td>0</td>\n",
       "      <td>0</td>\n",
       "      <td>0</td>\n",
       "      <td>0</td>\n",
       "    </tr>\n",
       "    <tr>\n",
       "      <th>3</th>\n",
       "      <td>1</td>\n",
       "      <td>74</td>\n",
       "      <td>1</td>\n",
       "      <td>0</td>\n",
       "      <td>61</td>\n",
       "      <td>1</td>\n",
       "      <td>1</td>\n",
       "      <td>0</td>\n",
       "      <td>0</td>\n",
       "      <td>0</td>\n",
       "      <td>...</td>\n",
       "      <td>0</td>\n",
       "      <td>0</td>\n",
       "      <td>0</td>\n",
       "      <td>IPv4Network</td>\n",
       "      <td>1</td>\n",
       "      <td>0</td>\n",
       "      <td>0</td>\n",
       "      <td>0</td>\n",
       "      <td>0</td>\n",
       "      <td>0</td>\n",
       "    </tr>\n",
       "    <tr>\n",
       "      <th>4</th>\n",
       "      <td>1</td>\n",
       "      <td>83</td>\n",
       "      <td>1</td>\n",
       "      <td>0</td>\n",
       "      <td>11</td>\n",
       "      <td>1</td>\n",
       "      <td>0</td>\n",
       "      <td>1</td>\n",
       "      <td>0</td>\n",
       "      <td>0</td>\n",
       "      <td>...</td>\n",
       "      <td>0</td>\n",
       "      <td>0</td>\n",
       "      <td>0</td>\n",
       "      <td>IPv4Network</td>\n",
       "      <td>1</td>\n",
       "      <td>0</td>\n",
       "      <td>0</td>\n",
       "      <td>0</td>\n",
       "      <td>0</td>\n",
       "      <td>0</td>\n",
       "    </tr>\n",
       "    <tr>\n",
       "      <th>...</th>\n",
       "      <td>...</td>\n",
       "      <td>...</td>\n",
       "      <td>...</td>\n",
       "      <td>...</td>\n",
       "      <td>...</td>\n",
       "      <td>...</td>\n",
       "      <td>...</td>\n",
       "      <td>...</td>\n",
       "      <td>...</td>\n",
       "      <td>...</td>\n",
       "      <td>...</td>\n",
       "      <td>...</td>\n",
       "      <td>...</td>\n",
       "      <td>...</td>\n",
       "      <td>...</td>\n",
       "      <td>...</td>\n",
       "      <td>...</td>\n",
       "      <td>...</td>\n",
       "      <td>...</td>\n",
       "      <td>...</td>\n",
       "      <td>...</td>\n",
       "    </tr>\n",
       "    <tr>\n",
       "      <th>1310</th>\n",
       "      <td>1</td>\n",
       "      <td>1095</td>\n",
       "      <td>1</td>\n",
       "      <td>0</td>\n",
       "      <td>542</td>\n",
       "      <td>0</td>\n",
       "      <td>0</td>\n",
       "      <td>0</td>\n",
       "      <td>0</td>\n",
       "      <td>0</td>\n",
       "      <td>...</td>\n",
       "      <td>0</td>\n",
       "      <td>0</td>\n",
       "      <td>0</td>\n",
       "      <td>IPv4Network</td>\n",
       "      <td>1</td>\n",
       "      <td>0</td>\n",
       "      <td>0</td>\n",
       "      <td>0</td>\n",
       "      <td>0</td>\n",
       "      <td>0</td>\n",
       "    </tr>\n",
       "    <tr>\n",
       "      <th>1311</th>\n",
       "      <td>1</td>\n",
       "      <td>1095</td>\n",
       "      <td>1</td>\n",
       "      <td>0</td>\n",
       "      <td>542</td>\n",
       "      <td>0</td>\n",
       "      <td>0</td>\n",
       "      <td>0</td>\n",
       "      <td>0</td>\n",
       "      <td>0</td>\n",
       "      <td>...</td>\n",
       "      <td>0</td>\n",
       "      <td>0</td>\n",
       "      <td>0</td>\n",
       "      <td>IPv4Network</td>\n",
       "      <td>1</td>\n",
       "      <td>0</td>\n",
       "      <td>0</td>\n",
       "      <td>0</td>\n",
       "      <td>0</td>\n",
       "      <td>0</td>\n",
       "    </tr>\n",
       "    <tr>\n",
       "      <th>1312</th>\n",
       "      <td>1</td>\n",
       "      <td>90</td>\n",
       "      <td>1</td>\n",
       "      <td>0</td>\n",
       "      <td>0</td>\n",
       "      <td>1</td>\n",
       "      <td>0</td>\n",
       "      <td>0</td>\n",
       "      <td>0</td>\n",
       "      <td>0</td>\n",
       "      <td>...</td>\n",
       "      <td>0</td>\n",
       "      <td>0</td>\n",
       "      <td>0</td>\n",
       "      <td>IPv4Network</td>\n",
       "      <td>1</td>\n",
       "      <td>0</td>\n",
       "      <td>0</td>\n",
       "      <td>0</td>\n",
       "      <td>0</td>\n",
       "      <td>0</td>\n",
       "    </tr>\n",
       "    <tr>\n",
       "      <th>1313</th>\n",
       "      <td>1</td>\n",
       "      <td>90</td>\n",
       "      <td>1</td>\n",
       "      <td>0</td>\n",
       "      <td>0</td>\n",
       "      <td>1</td>\n",
       "      <td>0</td>\n",
       "      <td>0</td>\n",
       "      <td>0</td>\n",
       "      <td>0</td>\n",
       "      <td>...</td>\n",
       "      <td>0</td>\n",
       "      <td>0</td>\n",
       "      <td>0</td>\n",
       "      <td>IPv4Network</td>\n",
       "      <td>1</td>\n",
       "      <td>0</td>\n",
       "      <td>0</td>\n",
       "      <td>0</td>\n",
       "      <td>0</td>\n",
       "      <td>0</td>\n",
       "    </tr>\n",
       "    <tr>\n",
       "      <th>1318</th>\n",
       "      <td>1</td>\n",
       "      <td>90</td>\n",
       "      <td>1</td>\n",
       "      <td>0</td>\n",
       "      <td>14</td>\n",
       "      <td>0</td>\n",
       "      <td>0</td>\n",
       "      <td>0</td>\n",
       "      <td>0</td>\n",
       "      <td>0</td>\n",
       "      <td>...</td>\n",
       "      <td>0</td>\n",
       "      <td>0</td>\n",
       "      <td>0</td>\n",
       "      <td>IPv4Network</td>\n",
       "      <td>1</td>\n",
       "      <td>0</td>\n",
       "      <td>0</td>\n",
       "      <td>0</td>\n",
       "      <td>0</td>\n",
       "      <td>0</td>\n",
       "    </tr>\n",
       "  </tbody>\n",
       "</table>\n",
       "<p>7791 rows × 2213 columns</p>\n",
       "</div>"
      ],
      "text/plain": [
       "      has_cert  longetivity  valid_cert  extended_validation  cert_age  \\\n",
       "0            1          180           1                    0        61   \n",
       "1            1           83           1                    0        11   \n",
       "2            1         1100           1                    0       826   \n",
       "3            1           74           1                    0        61   \n",
       "4            1           83           1                    0        11   \n",
       "...        ...          ...         ...                  ...       ...   \n",
       "1310         1         1095           1                    0       542   \n",
       "1311         1         1095           1                    0       542   \n",
       "1312         1           90           1                    0         0   \n",
       "1313         1           90           1                    0         0   \n",
       "1318         1           90           1                    0        14   \n",
       "\n",
       "      multi_mtn  globalsign nv-sa  google inc  gandi  parallels  ...  \\\n",
       "0             1                 0           0      0          0  ...   \n",
       "1             1                 0           1      0          0  ...   \n",
       "2             1                 0           0      0          0  ...   \n",
       "3             1                 1           0      0          0  ...   \n",
       "4             1                 0           1      0          0  ...   \n",
       "...         ...               ...         ...    ...        ...  ...   \n",
       "1310          0                 0           0      0          0  ...   \n",
       "1311          0                 0           0      0          0  ...   \n",
       "1312          1                 0           0      0          0  ...   \n",
       "1313          1                 0           0      0          0  ...   \n",
       "1318          0                 0           0      0          0  ...   \n",
       "\n",
       "      laborindonesia.com  egdemo.info  theflatbellydrink.com  Network_class  \\\n",
       "0                      0            0                      0    IPv4Network   \n",
       "1                      0            0                      0    IPv4Network   \n",
       "2                      0            0                      0    IPv4Network   \n",
       "3                      0            0                      0    IPv4Network   \n",
       "4                      0            0                      0    IPv4Network   \n",
       "...                  ...          ...                    ...            ...   \n",
       "1310                   0            0                      0    IPv4Network   \n",
       "1311                   0            0                      0    IPv4Network   \n",
       "1312                   0            0                      0    IPv4Network   \n",
       "1313                   0            0                      0    IPv4Network   \n",
       "1318                   0            0                      0    IPv4Network   \n",
       "\n",
       "      Network_global  Network_private  Network_unspecified  Network_reserved  \\\n",
       "0                  1                0                    0                 0   \n",
       "1                  1                0                    0                 0   \n",
       "2                  1                0                    0                 0   \n",
       "3                  1                0                    0                 0   \n",
       "4                  1                0                    0                 0   \n",
       "...              ...              ...                  ...               ...   \n",
       "1310               1                0                    0                 0   \n",
       "1311               1                0                    0                 0   \n",
       "1312               1                0                    0                 0   \n",
       "1313               1                0                    0                 0   \n",
       "1318               1                0                    0                 0   \n",
       "\n",
       "      Network_link_local  Network_loop  \n",
       "0                      0             0  \n",
       "1                      0             0  \n",
       "2                      0             0  \n",
       "3                      0             0  \n",
       "4                      0             0  \n",
       "...                  ...           ...  \n",
       "1310                   0             0  \n",
       "1311                   0             0  \n",
       "1312                   0             0  \n",
       "1313                   0             0  \n",
       "1318                   0             0  \n",
       "\n",
       "[7791 rows x 2213 columns]"
      ]
     },
     "execution_count": 93,
     "metadata": {},
     "output_type": "execute_result"
    }
   ],
   "source": [
    "f=c.drop('domain',axis=1)\n",
    "g=f.drop('class',axis=1)\n",
    "h=g.drop('ip',axis=1)\n",
    "h"
   ]
  },
  {
   "cell_type": "code",
   "execution_count": 94,
   "metadata": {
    "ExecuteTime": {
     "end_time": "2020-04-01T16:23:59.954004Z",
     "start_time": "2020-04-01T16:23:59.794648Z"
    },
    "scrolled": true
   },
   "outputs": [
    {
     "data": {
      "text/html": [
       "<div>\n",
       "<style scoped>\n",
       "    .dataframe tbody tr th:only-of-type {\n",
       "        vertical-align: middle;\n",
       "    }\n",
       "\n",
       "    .dataframe tbody tr th {\n",
       "        vertical-align: top;\n",
       "    }\n",
       "\n",
       "    .dataframe thead th {\n",
       "        text-align: right;\n",
       "    }\n",
       "</style>\n",
       "<table border=\"1\" class=\"dataframe\">\n",
       "  <thead>\n",
       "    <tr style=\"text-align: right;\">\n",
       "      <th></th>\n",
       "      <th>has_cert</th>\n",
       "      <th>longetivity</th>\n",
       "      <th>valid_cert</th>\n",
       "      <th>extended_validation</th>\n",
       "      <th>cert_age</th>\n",
       "      <th>multi_mtn</th>\n",
       "      <th>globalsign nv-sa</th>\n",
       "      <th>google inc</th>\n",
       "      <th>gandi</th>\n",
       "      <th>parallels</th>\n",
       "      <th>...</th>\n",
       "      <th>laborindonesia.com</th>\n",
       "      <th>egdemo.info</th>\n",
       "      <th>theflatbellydrink.com</th>\n",
       "      <th>Network_global</th>\n",
       "      <th>Network_private</th>\n",
       "      <th>Network_unspecified</th>\n",
       "      <th>Network_reserved</th>\n",
       "      <th>Network_link_local</th>\n",
       "      <th>Network_loop</th>\n",
       "      <th>Network_class_IPv4Network</th>\n",
       "    </tr>\n",
       "  </thead>\n",
       "  <tbody>\n",
       "    <tr>\n",
       "      <th>0</th>\n",
       "      <td>1</td>\n",
       "      <td>180</td>\n",
       "      <td>1</td>\n",
       "      <td>0</td>\n",
       "      <td>61</td>\n",
       "      <td>1</td>\n",
       "      <td>0</td>\n",
       "      <td>0</td>\n",
       "      <td>0</td>\n",
       "      <td>0</td>\n",
       "      <td>...</td>\n",
       "      <td>0</td>\n",
       "      <td>0</td>\n",
       "      <td>0</td>\n",
       "      <td>1</td>\n",
       "      <td>0</td>\n",
       "      <td>0</td>\n",
       "      <td>0</td>\n",
       "      <td>0</td>\n",
       "      <td>0</td>\n",
       "      <td>1</td>\n",
       "    </tr>\n",
       "    <tr>\n",
       "      <th>1</th>\n",
       "      <td>1</td>\n",
       "      <td>83</td>\n",
       "      <td>1</td>\n",
       "      <td>0</td>\n",
       "      <td>11</td>\n",
       "      <td>1</td>\n",
       "      <td>0</td>\n",
       "      <td>1</td>\n",
       "      <td>0</td>\n",
       "      <td>0</td>\n",
       "      <td>...</td>\n",
       "      <td>0</td>\n",
       "      <td>0</td>\n",
       "      <td>0</td>\n",
       "      <td>1</td>\n",
       "      <td>0</td>\n",
       "      <td>0</td>\n",
       "      <td>0</td>\n",
       "      <td>0</td>\n",
       "      <td>0</td>\n",
       "      <td>1</td>\n",
       "    </tr>\n",
       "    <tr>\n",
       "      <th>2</th>\n",
       "      <td>1</td>\n",
       "      <td>1100</td>\n",
       "      <td>1</td>\n",
       "      <td>0</td>\n",
       "      <td>826</td>\n",
       "      <td>1</td>\n",
       "      <td>0</td>\n",
       "      <td>0</td>\n",
       "      <td>0</td>\n",
       "      <td>0</td>\n",
       "      <td>...</td>\n",
       "      <td>0</td>\n",
       "      <td>0</td>\n",
       "      <td>0</td>\n",
       "      <td>1</td>\n",
       "      <td>0</td>\n",
       "      <td>0</td>\n",
       "      <td>0</td>\n",
       "      <td>0</td>\n",
       "      <td>0</td>\n",
       "      <td>1</td>\n",
       "    </tr>\n",
       "    <tr>\n",
       "      <th>3</th>\n",
       "      <td>1</td>\n",
       "      <td>74</td>\n",
       "      <td>1</td>\n",
       "      <td>0</td>\n",
       "      <td>61</td>\n",
       "      <td>1</td>\n",
       "      <td>1</td>\n",
       "      <td>0</td>\n",
       "      <td>0</td>\n",
       "      <td>0</td>\n",
       "      <td>...</td>\n",
       "      <td>0</td>\n",
       "      <td>0</td>\n",
       "      <td>0</td>\n",
       "      <td>1</td>\n",
       "      <td>0</td>\n",
       "      <td>0</td>\n",
       "      <td>0</td>\n",
       "      <td>0</td>\n",
       "      <td>0</td>\n",
       "      <td>1</td>\n",
       "    </tr>\n",
       "    <tr>\n",
       "      <th>4</th>\n",
       "      <td>1</td>\n",
       "      <td>83</td>\n",
       "      <td>1</td>\n",
       "      <td>0</td>\n",
       "      <td>11</td>\n",
       "      <td>1</td>\n",
       "      <td>0</td>\n",
       "      <td>1</td>\n",
       "      <td>0</td>\n",
       "      <td>0</td>\n",
       "      <td>...</td>\n",
       "      <td>0</td>\n",
       "      <td>0</td>\n",
       "      <td>0</td>\n",
       "      <td>1</td>\n",
       "      <td>0</td>\n",
       "      <td>0</td>\n",
       "      <td>0</td>\n",
       "      <td>0</td>\n",
       "      <td>0</td>\n",
       "      <td>1</td>\n",
       "    </tr>\n",
       "    <tr>\n",
       "      <th>...</th>\n",
       "      <td>...</td>\n",
       "      <td>...</td>\n",
       "      <td>...</td>\n",
       "      <td>...</td>\n",
       "      <td>...</td>\n",
       "      <td>...</td>\n",
       "      <td>...</td>\n",
       "      <td>...</td>\n",
       "      <td>...</td>\n",
       "      <td>...</td>\n",
       "      <td>...</td>\n",
       "      <td>...</td>\n",
       "      <td>...</td>\n",
       "      <td>...</td>\n",
       "      <td>...</td>\n",
       "      <td>...</td>\n",
       "      <td>...</td>\n",
       "      <td>...</td>\n",
       "      <td>...</td>\n",
       "      <td>...</td>\n",
       "      <td>...</td>\n",
       "    </tr>\n",
       "    <tr>\n",
       "      <th>1310</th>\n",
       "      <td>1</td>\n",
       "      <td>1095</td>\n",
       "      <td>1</td>\n",
       "      <td>0</td>\n",
       "      <td>542</td>\n",
       "      <td>0</td>\n",
       "      <td>0</td>\n",
       "      <td>0</td>\n",
       "      <td>0</td>\n",
       "      <td>0</td>\n",
       "      <td>...</td>\n",
       "      <td>0</td>\n",
       "      <td>0</td>\n",
       "      <td>0</td>\n",
       "      <td>1</td>\n",
       "      <td>0</td>\n",
       "      <td>0</td>\n",
       "      <td>0</td>\n",
       "      <td>0</td>\n",
       "      <td>0</td>\n",
       "      <td>1</td>\n",
       "    </tr>\n",
       "    <tr>\n",
       "      <th>1311</th>\n",
       "      <td>1</td>\n",
       "      <td>1095</td>\n",
       "      <td>1</td>\n",
       "      <td>0</td>\n",
       "      <td>542</td>\n",
       "      <td>0</td>\n",
       "      <td>0</td>\n",
       "      <td>0</td>\n",
       "      <td>0</td>\n",
       "      <td>0</td>\n",
       "      <td>...</td>\n",
       "      <td>0</td>\n",
       "      <td>0</td>\n",
       "      <td>0</td>\n",
       "      <td>1</td>\n",
       "      <td>0</td>\n",
       "      <td>0</td>\n",
       "      <td>0</td>\n",
       "      <td>0</td>\n",
       "      <td>0</td>\n",
       "      <td>1</td>\n",
       "    </tr>\n",
       "    <tr>\n",
       "      <th>1312</th>\n",
       "      <td>1</td>\n",
       "      <td>90</td>\n",
       "      <td>1</td>\n",
       "      <td>0</td>\n",
       "      <td>0</td>\n",
       "      <td>1</td>\n",
       "      <td>0</td>\n",
       "      <td>0</td>\n",
       "      <td>0</td>\n",
       "      <td>0</td>\n",
       "      <td>...</td>\n",
       "      <td>0</td>\n",
       "      <td>0</td>\n",
       "      <td>0</td>\n",
       "      <td>1</td>\n",
       "      <td>0</td>\n",
       "      <td>0</td>\n",
       "      <td>0</td>\n",
       "      <td>0</td>\n",
       "      <td>0</td>\n",
       "      <td>1</td>\n",
       "    </tr>\n",
       "    <tr>\n",
       "      <th>1313</th>\n",
       "      <td>1</td>\n",
       "      <td>90</td>\n",
       "      <td>1</td>\n",
       "      <td>0</td>\n",
       "      <td>0</td>\n",
       "      <td>1</td>\n",
       "      <td>0</td>\n",
       "      <td>0</td>\n",
       "      <td>0</td>\n",
       "      <td>0</td>\n",
       "      <td>...</td>\n",
       "      <td>0</td>\n",
       "      <td>0</td>\n",
       "      <td>0</td>\n",
       "      <td>1</td>\n",
       "      <td>0</td>\n",
       "      <td>0</td>\n",
       "      <td>0</td>\n",
       "      <td>0</td>\n",
       "      <td>0</td>\n",
       "      <td>1</td>\n",
       "    </tr>\n",
       "    <tr>\n",
       "      <th>1318</th>\n",
       "      <td>1</td>\n",
       "      <td>90</td>\n",
       "      <td>1</td>\n",
       "      <td>0</td>\n",
       "      <td>14</td>\n",
       "      <td>0</td>\n",
       "      <td>0</td>\n",
       "      <td>0</td>\n",
       "      <td>0</td>\n",
       "      <td>0</td>\n",
       "      <td>...</td>\n",
       "      <td>0</td>\n",
       "      <td>0</td>\n",
       "      <td>0</td>\n",
       "      <td>1</td>\n",
       "      <td>0</td>\n",
       "      <td>0</td>\n",
       "      <td>0</td>\n",
       "      <td>0</td>\n",
       "      <td>0</td>\n",
       "      <td>1</td>\n",
       "    </tr>\n",
       "  </tbody>\n",
       "</table>\n",
       "<p>7791 rows × 2213 columns</p>\n",
       "</div>"
      ],
      "text/plain": [
       "      has_cert  longetivity  valid_cert  extended_validation  cert_age  \\\n",
       "0            1          180           1                    0        61   \n",
       "1            1           83           1                    0        11   \n",
       "2            1         1100           1                    0       826   \n",
       "3            1           74           1                    0        61   \n",
       "4            1           83           1                    0        11   \n",
       "...        ...          ...         ...                  ...       ...   \n",
       "1310         1         1095           1                    0       542   \n",
       "1311         1         1095           1                    0       542   \n",
       "1312         1           90           1                    0         0   \n",
       "1313         1           90           1                    0         0   \n",
       "1318         1           90           1                    0        14   \n",
       "\n",
       "      multi_mtn  globalsign nv-sa  google inc  gandi  parallels  ...  \\\n",
       "0             1                 0           0      0          0  ...   \n",
       "1             1                 0           1      0          0  ...   \n",
       "2             1                 0           0      0          0  ...   \n",
       "3             1                 1           0      0          0  ...   \n",
       "4             1                 0           1      0          0  ...   \n",
       "...         ...               ...         ...    ...        ...  ...   \n",
       "1310          0                 0           0      0          0  ...   \n",
       "1311          0                 0           0      0          0  ...   \n",
       "1312          1                 0           0      0          0  ...   \n",
       "1313          1                 0           0      0          0  ...   \n",
       "1318          0                 0           0      0          0  ...   \n",
       "\n",
       "      laborindonesia.com  egdemo.info  theflatbellydrink.com  Network_global  \\\n",
       "0                      0            0                      0               1   \n",
       "1                      0            0                      0               1   \n",
       "2                      0            0                      0               1   \n",
       "3                      0            0                      0               1   \n",
       "4                      0            0                      0               1   \n",
       "...                  ...          ...                    ...             ...   \n",
       "1310                   0            0                      0               1   \n",
       "1311                   0            0                      0               1   \n",
       "1312                   0            0                      0               1   \n",
       "1313                   0            0                      0               1   \n",
       "1318                   0            0                      0               1   \n",
       "\n",
       "      Network_private  Network_unspecified  Network_reserved  \\\n",
       "0                   0                    0                 0   \n",
       "1                   0                    0                 0   \n",
       "2                   0                    0                 0   \n",
       "3                   0                    0                 0   \n",
       "4                   0                    0                 0   \n",
       "...               ...                  ...               ...   \n",
       "1310                0                    0                 0   \n",
       "1311                0                    0                 0   \n",
       "1312                0                    0                 0   \n",
       "1313                0                    0                 0   \n",
       "1318                0                    0                 0   \n",
       "\n",
       "      Network_link_local  Network_loop  Network_class_IPv4Network  \n",
       "0                      0             0                          1  \n",
       "1                      0             0                          1  \n",
       "2                      0             0                          1  \n",
       "3                      0             0                          1  \n",
       "4                      0             0                          1  \n",
       "...                  ...           ...                        ...  \n",
       "1310                   0             0                          1  \n",
       "1311                   0             0                          1  \n",
       "1312                   0             0                          1  \n",
       "1313                   0             0                          1  \n",
       "1318                   0             0                          1  \n",
       "\n",
       "[7791 rows x 2213 columns]"
      ]
     },
     "execution_count": 94,
     "metadata": {},
     "output_type": "execute_result"
    }
   ],
   "source": [
    "cat_feats = ['Network_class']\n",
    "# drop_first parameter: Whether to get k-1 dummies out of k categorical levels by removing the first level.\n",
    "final_data = pd.get_dummies(h,columns=cat_feats,drop_first=False)\n",
    "final_data"
   ]
  },
  {
   "cell_type": "markdown",
   "metadata": {},
   "source": [
    "## KNN(K-nearest neighbors algorithm)  analysis"
   ]
  },
  {
   "cell_type": "code",
   "execution_count": 95,
   "metadata": {
    "ExecuteTime": {
     "end_time": "2020-04-01T16:24:00.454072Z",
     "start_time": "2020-04-01T16:24:00.230544Z"
    }
   },
   "outputs": [],
   "source": [
    "X1 = final_data.iloc[:,:].values\n",
    "y1= (f[\"class\"]== 'alexa').astype(np.int)"
   ]
  },
  {
   "cell_type": "code",
   "execution_count": 96,
   "metadata": {
    "ExecuteTime": {
     "end_time": "2020-04-01T16:24:01.749075Z",
     "start_time": "2020-04-01T16:24:00.674426Z"
    }
   },
   "outputs": [],
   "source": [
    "from sklearn.preprocessing import scale\n",
    "X1=scale(X1)  \n",
    "from sklearn.model_selection import train_test_split\n",
    "X_train, X_test, y_train, y_test = train_test_split(X1, y1, test_size=0.2, random_state=42)"
   ]
  },
  {
   "cell_type": "code",
   "execution_count": 97,
   "metadata": {
    "ExecuteTime": {
     "end_time": "2020-04-01T16:24:01.954746Z",
     "start_time": "2020-04-01T16:24:01.931761Z"
    }
   },
   "outputs": [],
   "source": [
    "y_test=y_test.tolist()"
   ]
  },
  {
   "cell_type": "code",
   "execution_count": 63,
   "metadata": {
    "ExecuteTime": {
     "end_time": "2020-03-28T14:33:55.656541Z",
     "start_time": "2020-03-28T14:05:37.734052Z"
    }
   },
   "outputs": [],
   "source": [
    "from sklearn.metrics import classification_report,confusion_matrix\n",
    "from sklearn.neighbors import KNeighborsClassifier\n",
    "error_rate = []\n",
    "# Will take some time\n",
    "for i in range(1,40):\n",
    "    # create a knn classifier with n_neighbors equals i\n",
    "    knn = KNeighborsClassifier(n_neighbors=i)\n",
    "    knn.fit(X_train,y_train)\n",
    "    pred_i = knn.predict(X_test)\n",
    "    # calculate the error rate and append to the error_rate list\n",
    "    error_rate.append(np.mean(pred_i != y_test))"
   ]
  },
  {
   "cell_type": "code",
   "execution_count": 84,
   "metadata": {
    "ExecuteTime": {
     "end_time": "2020-03-28T14:53:54.354023Z",
     "start_time": "2020-03-28T14:53:54.191405Z"
    }
   },
   "outputs": [
    {
     "data": {
      "text/plain": [
       "Text(0, 0.5, 'Error Rate')"
      ]
     },
     "execution_count": 84,
     "metadata": {},
     "output_type": "execute_result"
    },
    {
     "data": {
      "image/png": "[encoded data removed]",
      "text/plain": [
       "<Figure size 720x432 with 1 Axes>"
      ]
     },
     "metadata": {
      "needs_background": "light"
     },
     "output_type": "display_data"
    }
   ],
   "source": [
    "import pandas as pd\n",
    "import seaborn as sns\n",
    "import matplotlib.pyplot as plt\n",
    "import numpy as np\n",
    "%matplotlib inline\n",
    "plt.figure(figsize=(10,6))\n",
    "# use 1-40 as x axis ans error_rate as y axis\n",
    "plt.plot(range(1,40),error_rate,color='blue', linestyle='dashed', marker='o',\n",
    "         markerfacecolor='red', markersize=10)\n",
    "plt.title('Error Rate vs. K Value')\n",
    "plt.xlabel('K')\n",
    "plt.ylabel('Error Rate')"
   ]
  },
  {
   "cell_type": "code",
   "execution_count": 98,
   "metadata": {
    "ExecuteTime": {
     "end_time": "2020-04-01T16:24:29.814384Z",
     "start_time": "2020-04-01T16:24:02.154486Z"
    }
   },
   "outputs": [
    {
     "data": {
      "text/plain": [
       "0.9435535599743425"
      ]
     },
     "execution_count": 98,
     "metadata": {},
     "output_type": "execute_result"
    }
   ],
   "source": [
    "# Instanciating the model using 1 neighbors, which seemed to return the highest knn score. \n",
    "knn = KNeighborsClassifier(n_neighbors=1)\n",
    "\n",
    "# Fitting the model on the training data.\n",
    "knn.fit(X_train, y_train)\n",
    "\n",
    "# Determining how the model performs on the test data.\n",
    "knn.score(X_test, y_test)"
   ]
  },
  {
   "cell_type": "code",
   "execution_count": 99,
   "metadata": {
    "ExecuteTime": {
     "end_time": "2020-04-01T16:25:24.394127Z",
     "start_time": "2020-04-01T16:24:29.994094Z"
    }
   },
   "outputs": [
    {
     "name": "stdout",
     "output_type": "stream",
     "text": [
      "K=1\n",
      "\n",
      "\n",
      "[[  83   81]\n",
      " [   7 1388]]\n",
      "\n",
      "\n",
      "              precision    recall  f1-score   support\n",
      "\n",
      "           0       0.92      0.51      0.65       164\n",
      "           1       0.94      0.99      0.97      1395\n",
      "\n",
      "    accuracy                           0.94      1559\n",
      "   macro avg       0.93      0.75      0.81      1559\n",
      "weighted avg       0.94      0.94      0.94      1559\n",
      "\n"
     ]
    }
   ],
   "source": [
    "from sklearn.metrics import confusion_matrix, classification_report\n",
    "# Create a KNN model with your choice of K\n",
    "knn = KNeighborsClassifier(n_neighbors=1)\n",
    "\n",
    "# Fitting the model on the training data.\n",
    "knn.fit(X_train, y_train)\n",
    "\n",
    "# Determining how the model performs on the test data.\n",
    "knn.score(X_test, y_test)\n",
    "y_predict = knn.predict(X_test)\n",
    "\n",
    "print('K=1')\n",
    "print('\\n')\n",
    "print(confusion_matrix(y_test,y_predict))\n",
    "print('\\n')\n",
    "print(classification_report(y_test,y_predict))\n"
   ]
  },
  {
   "cell_type": "markdown",
   "metadata": {},
   "source": [
    "### filter out noises data and keepin certain  fetures we need "
   ]
  },
  {
   "cell_type": "code",
   "execution_count": 100,
   "metadata": {
    "ExecuteTime": {
     "end_time": "2020-04-01T16:25:24.594336Z",
     "start_time": "2020-04-01T16:25:24.575986Z"
    }
   },
   "outputs": [
    {
     "data": {
      "text/html": [
       "<div>\n",
       "<style scoped>\n",
       "    .dataframe tbody tr th:only-of-type {\n",
       "        vertical-align: middle;\n",
       "    }\n",
       "\n",
       "    .dataframe tbody tr th {\n",
       "        vertical-align: top;\n",
       "    }\n",
       "\n",
       "    .dataframe thead th {\n",
       "        text-align: right;\n",
       "    }\n",
       "</style>\n",
       "<table border=\"1\" class=\"dataframe\">\n",
       "  <thead>\n",
       "    <tr style=\"text-align: right;\">\n",
       "      <th></th>\n",
       "      <th>has_cert</th>\n",
       "      <th>longetivity</th>\n",
       "      <th>valid_cert</th>\n",
       "      <th>extended_validation</th>\n",
       "      <th>cert_age</th>\n",
       "      <th>multi_mtn</th>\n",
       "      <th>Network_private</th>\n",
       "      <th>Network_reserved</th>\n",
       "      <th>Network_link_local</th>\n",
       "      <th>Network_loop</th>\n",
       "      <th>Network_unspecified</th>\n",
       "      <th>Network_global</th>\n",
       "      <th>Network_class_IPv4Network</th>\n",
       "    </tr>\n",
       "  </thead>\n",
       "  <tbody>\n",
       "    <tr>\n",
       "      <th>0</th>\n",
       "      <td>1</td>\n",
       "      <td>180</td>\n",
       "      <td>1</td>\n",
       "      <td>0</td>\n",
       "      <td>61</td>\n",
       "      <td>1</td>\n",
       "      <td>0</td>\n",
       "      <td>0</td>\n",
       "      <td>0</td>\n",
       "      <td>0</td>\n",
       "      <td>0</td>\n",
       "      <td>1</td>\n",
       "      <td>1</td>\n",
       "    </tr>\n",
       "    <tr>\n",
       "      <th>1</th>\n",
       "      <td>1</td>\n",
       "      <td>83</td>\n",
       "      <td>1</td>\n",
       "      <td>0</td>\n",
       "      <td>11</td>\n",
       "      <td>1</td>\n",
       "      <td>0</td>\n",
       "      <td>0</td>\n",
       "      <td>0</td>\n",
       "      <td>0</td>\n",
       "      <td>0</td>\n",
       "      <td>1</td>\n",
       "      <td>1</td>\n",
       "    </tr>\n",
       "    <tr>\n",
       "      <th>2</th>\n",
       "      <td>1</td>\n",
       "      <td>1100</td>\n",
       "      <td>1</td>\n",
       "      <td>0</td>\n",
       "      <td>826</td>\n",
       "      <td>1</td>\n",
       "      <td>0</td>\n",
       "      <td>0</td>\n",
       "      <td>0</td>\n",
       "      <td>0</td>\n",
       "      <td>0</td>\n",
       "      <td>1</td>\n",
       "      <td>1</td>\n",
       "    </tr>\n",
       "    <tr>\n",
       "      <th>3</th>\n",
       "      <td>1</td>\n",
       "      <td>74</td>\n",
       "      <td>1</td>\n",
       "      <td>0</td>\n",
       "      <td>61</td>\n",
       "      <td>1</td>\n",
       "      <td>0</td>\n",
       "      <td>0</td>\n",
       "      <td>0</td>\n",
       "      <td>0</td>\n",
       "      <td>0</td>\n",
       "      <td>1</td>\n",
       "      <td>1</td>\n",
       "    </tr>\n",
       "    <tr>\n",
       "      <th>4</th>\n",
       "      <td>1</td>\n",
       "      <td>83</td>\n",
       "      <td>1</td>\n",
       "      <td>0</td>\n",
       "      <td>11</td>\n",
       "      <td>1</td>\n",
       "      <td>0</td>\n",
       "      <td>0</td>\n",
       "      <td>0</td>\n",
       "      <td>0</td>\n",
       "      <td>0</td>\n",
       "      <td>1</td>\n",
       "      <td>1</td>\n",
       "    </tr>\n",
       "    <tr>\n",
       "      <th>...</th>\n",
       "      <td>...</td>\n",
       "      <td>...</td>\n",
       "      <td>...</td>\n",
       "      <td>...</td>\n",
       "      <td>...</td>\n",
       "      <td>...</td>\n",
       "      <td>...</td>\n",
       "      <td>...</td>\n",
       "      <td>...</td>\n",
       "      <td>...</td>\n",
       "      <td>...</td>\n",
       "      <td>...</td>\n",
       "      <td>...</td>\n",
       "    </tr>\n",
       "    <tr>\n",
       "      <th>1310</th>\n",
       "      <td>1</td>\n",
       "      <td>1095</td>\n",
       "      <td>1</td>\n",
       "      <td>0</td>\n",
       "      <td>542</td>\n",
       "      <td>0</td>\n",
       "      <td>0</td>\n",
       "      <td>0</td>\n",
       "      <td>0</td>\n",
       "      <td>0</td>\n",
       "      <td>0</td>\n",
       "      <td>1</td>\n",
       "      <td>1</td>\n",
       "    </tr>\n",
       "    <tr>\n",
       "      <th>1311</th>\n",
       "      <td>1</td>\n",
       "      <td>1095</td>\n",
       "      <td>1</td>\n",
       "      <td>0</td>\n",
       "      <td>542</td>\n",
       "      <td>0</td>\n",
       "      <td>0</td>\n",
       "      <td>0</td>\n",
       "      <td>0</td>\n",
       "      <td>0</td>\n",
       "      <td>0</td>\n",
       "      <td>1</td>\n",
       "      <td>1</td>\n",
       "    </tr>\n",
       "    <tr>\n",
       "      <th>1312</th>\n",
       "      <td>1</td>\n",
       "      <td>90</td>\n",
       "      <td>1</td>\n",
       "      <td>0</td>\n",
       "      <td>0</td>\n",
       "      <td>1</td>\n",
       "      <td>0</td>\n",
       "      <td>0</td>\n",
       "      <td>0</td>\n",
       "      <td>0</td>\n",
       "      <td>0</td>\n",
       "      <td>1</td>\n",
       "      <td>1</td>\n",
       "    </tr>\n",
       "    <tr>\n",
       "      <th>1313</th>\n",
       "      <td>1</td>\n",
       "      <td>90</td>\n",
       "      <td>1</td>\n",
       "      <td>0</td>\n",
       "      <td>0</td>\n",
       "      <td>1</td>\n",
       "      <td>0</td>\n",
       "      <td>0</td>\n",
       "      <td>0</td>\n",
       "      <td>0</td>\n",
       "      <td>0</td>\n",
       "      <td>1</td>\n",
       "      <td>1</td>\n",
       "    </tr>\n",
       "    <tr>\n",
       "      <th>1318</th>\n",
       "      <td>1</td>\n",
       "      <td>90</td>\n",
       "      <td>1</td>\n",
       "      <td>0</td>\n",
       "      <td>14</td>\n",
       "      <td>0</td>\n",
       "      <td>0</td>\n",
       "      <td>0</td>\n",
       "      <td>0</td>\n",
       "      <td>0</td>\n",
       "      <td>0</td>\n",
       "      <td>1</td>\n",
       "      <td>1</td>\n",
       "    </tr>\n",
       "  </tbody>\n",
       "</table>\n",
       "<p>7791 rows × 13 columns</p>\n",
       "</div>"
      ],
      "text/plain": [
       "      has_cert  longetivity  valid_cert  extended_validation  cert_age  \\\n",
       "0            1          180           1                    0        61   \n",
       "1            1           83           1                    0        11   \n",
       "2            1         1100           1                    0       826   \n",
       "3            1           74           1                    0        61   \n",
       "4            1           83           1                    0        11   \n",
       "...        ...          ...         ...                  ...       ...   \n",
       "1310         1         1095           1                    0       542   \n",
       "1311         1         1095           1                    0       542   \n",
       "1312         1           90           1                    0         0   \n",
       "1313         1           90           1                    0         0   \n",
       "1318         1           90           1                    0        14   \n",
       "\n",
       "      multi_mtn  Network_private  Network_reserved  Network_link_local  \\\n",
       "0             1                0                 0                   0   \n",
       "1             1                0                 0                   0   \n",
       "2             1                0                 0                   0   \n",
       "3             1                0                 0                   0   \n",
       "4             1                0                 0                   0   \n",
       "...         ...              ...               ...                 ...   \n",
       "1310          0                0                 0                   0   \n",
       "1311          0                0                 0                   0   \n",
       "1312          1                0                 0                   0   \n",
       "1313          1                0                 0                   0   \n",
       "1318          0                0                 0                   0   \n",
       "\n",
       "      Network_loop  Network_unspecified  Network_global  \\\n",
       "0                0                    0               1   \n",
       "1                0                    0               1   \n",
       "2                0                    0               1   \n",
       "3                0                    0               1   \n",
       "4                0                    0               1   \n",
       "...            ...                  ...             ...   \n",
       "1310             0                    0               1   \n",
       "1311             0                    0               1   \n",
       "1312             0                    0               1   \n",
       "1313             0                    0               1   \n",
       "1318             0                    0               1   \n",
       "\n",
       "      Network_class_IPv4Network  \n",
       "0                             1  \n",
       "1                             1  \n",
       "2                             1  \n",
       "3                             1  \n",
       "4                             1  \n",
       "...                         ...  \n",
       "1310                          1  \n",
       "1311                          1  \n",
       "1312                          1  \n",
       "1313                          1  \n",
       "1318                          1  \n",
       "\n",
       "[7791 rows x 13 columns]"
      ]
     },
     "execution_count": 100,
     "metadata": {},
     "output_type": "execute_result"
    }
   ],
   "source": [
    "better=final_data[['has_cert','longetivity','valid_cert','extended_validation','cert_age','multi_mtn',\n",
    "                   'Network_private','Network_reserved','Network_link_local','Network_loop' ,'Network_unspecified',\n",
    "                   'Network_global','Network_class_IPv4Network']]\n",
    "better"
   ]
  },
  {
   "cell_type": "code",
   "execution_count": 101,
   "metadata": {
    "ExecuteTime": {
     "end_time": "2020-04-01T16:25:24.864677Z",
     "start_time": "2020-04-01T16:25:24.786639Z"
    }
   },
   "outputs": [],
   "source": [
    "X = final_data.iloc[:,:].values\n",
    "y = (f[\"class\"]== 'alexa').astype(np.int)"
   ]
  },
  {
   "cell_type": "code",
   "execution_count": 102,
   "metadata": {
    "ExecuteTime": {
     "end_time": "2020-04-01T16:25:26.174209Z",
     "start_time": "2020-04-01T16:25:25.054600Z"
    }
   },
   "outputs": [],
   "source": [
    "from sklearn.preprocessing import scale\n",
    "X=scale(X)  \n",
    "from sklearn.model_selection import train_test_split\n",
    "X_train, X_test, y_train, y_test = train_test_split(X, y, test_size=0.3, random_state=42)"
   ]
  },
  {
   "cell_type": "code",
   "execution_count": 103,
   "metadata": {
    "ExecuteTime": {
     "end_time": "2020-04-01T16:26:03.234126Z",
     "start_time": "2020-04-01T16:25:26.354393Z"
    }
   },
   "outputs": [
    {
     "data": {
      "text/plain": [
       "0.9486740804106074"
      ]
     },
     "execution_count": 103,
     "metadata": {},
     "output_type": "execute_result"
    }
   ],
   "source": [
    "# Instanciating the model using 1 neighbors, which seemed to return the highest knn score. \n",
    "knn = KNeighborsClassifier(n_neighbors=1)\n",
    "\n",
    "# Fitting the model on the training data.\n",
    "knn.fit(X_train, y_train)\n",
    "\n",
    "# Determining how the model performs on the test data.\n",
    "knn.score(X_test, y_test)"
   ]
  },
  {
   "cell_type": "markdown",
   "metadata": {},
   "source": [
    "Best accuracy score we got is 0.9516474112109542"
   ]
  },
  {
   "cell_type": "code",
   "execution_count": 104,
   "metadata": {
    "ExecuteTime": {
     "end_time": "2020-04-01T16:26:03.434346Z",
     "start_time": "2020-04-01T16:26:03.414484Z"
    }
   },
   "outputs": [],
   "source": [
    "y_test=y_test.tolist()"
   ]
  },
  {
   "cell_type": "code",
   "execution_count": 102,
   "metadata": {
    "ExecuteTime": {
     "end_time": "2020-03-28T15:26:26.357685Z",
     "start_time": "2020-03-28T15:01:53.917482Z"
    }
   },
   "outputs": [],
   "source": [
    "from sklearn.metrics import classification_report,confusion_matrix\n",
    "from sklearn.neighbors import KNeighborsClassifier\n",
    "error_rate = []\n",
    "# Will take some time\n",
    "for i in range(1,40):\n",
    "    # create a knn classifier with n_neighbors equals i\n",
    "    knn = KNeighborsClassifier(n_neighbors=i)\n",
    "    knn.fit(X_train,y_train)\n",
    "    pred_i = knn.predict(X_test)\n",
    "    # calculate the error rate and append to the error_rate list\n",
    "    error_rate.append(np.mean(pred_i != y_test))"
   ]
  },
  {
   "cell_type": "code",
   "execution_count": 103,
   "metadata": {
    "ExecuteTime": {
     "end_time": "2020-03-28T15:26:26.895744Z",
     "start_time": "2020-03-28T15:26:26.746066Z"
    }
   },
   "outputs": [
    {
     "data": {
      "text/plain": [
       "Text(0, 0.5, 'Error Rate')"
      ]
     },
     "execution_count": 103,
     "metadata": {},
     "output_type": "execute_result"
    },
    {
     "data": {
      "image/png": "[encoded data removed]",
      "text/plain": [
       "<Figure size 720x432 with 1 Axes>"
      ]
     },
     "metadata": {
      "needs_background": "light"
     },
     "output_type": "display_data"
    }
   ],
   "source": [
    "%matplotlib inline\n",
    "plt.figure(figsize=(10,6))\n",
    "# use 1-40 as x axis ans error_rate as y axis\n",
    "plt.plot(range(1,40),error_rate,color='blue', linestyle='dashed', marker='o',\n",
    "         markerfacecolor='red', markersize=10)\n",
    "plt.title('Error Rate vs. K Value')\n",
    "plt.xlabel('K')\n",
    "plt.ylabel('Error Rate')"
   ]
  },
  {
   "cell_type": "code",
   "execution_count": 107,
   "metadata": {
    "ExecuteTime": {
     "end_time": "2020-04-01T16:31:12.666086Z",
     "start_time": "2020-04-01T16:29:57.659649Z"
    }
   },
   "outputs": [
    {
     "name": "stdout",
     "output_type": "stream",
     "text": [
      "K=5\n",
      "\n",
      "\n",
      "[[  97  136]\n",
      " [   6 2099]]\n",
      "\n",
      "\n",
      "              precision    recall  f1-score   support\n",
      "\n",
      "           0       0.94      0.42      0.58       233\n",
      "           1       0.94      1.00      0.97      2105\n",
      "\n",
      "    accuracy                           0.94      2338\n",
      "   macro avg       0.94      0.71      0.77      2338\n",
      "weighted avg       0.94      0.94      0.93      2338\n",
      "\n"
     ]
    }
   ],
   "source": [
    "# Instanciating the model using 1 neighbors, which seemed to return the highest knn score. \n",
    "knn = KNeighborsClassifier(n_neighbors=5)\n",
    "\n",
    "# Fitting the model on the training data.\n",
    "knn.fit(X_train, y_train)\n",
    "y_predict = knn.predict(X_test)\n",
    "# Determining how the model performs on the test data.\n",
    "knn.score(X_test, y_test)\n",
    "print('K=5')\n",
    "print('\\n')\n",
    "print(confusion_matrix(y_test,y_predict))\n",
    "print('\\n')\n",
    "print(classification_report(y_test,y_predict))"
   ]
  },
  {
   "cell_type": "code",
   "execution_count": 106,
   "metadata": {
    "ExecuteTime": {
     "end_time": "2020-04-01T16:28:30.654759Z",
     "start_time": "2020-04-01T16:27:19.174581Z"
    }
   },
   "outputs": [
    {
     "name": "stdout",
     "output_type": "stream",
     "text": [
      "K=1\n",
      "\n",
      "\n",
      "[[ 119  114]\n",
      " [   6 2099]]\n",
      "\n",
      "\n",
      "              precision    recall  f1-score   support\n",
      "\n",
      "           0       0.95      0.51      0.66       233\n",
      "           1       0.95      1.00      0.97      2105\n",
      "\n",
      "    accuracy                           0.95      2338\n",
      "   macro avg       0.95      0.75      0.82      2338\n",
      "weighted avg       0.95      0.95      0.94      2338\n",
      "\n"
     ]
    }
   ],
   "source": [
    "# Instanciating the model using 1 neighbors, which seemed to return the highest knn score. \n",
    "knn = KNeighborsClassifier(n_neighbors=1)\n",
    "\n",
    "# Fitting the model on the training data.\n",
    "knn.fit(X_train, y_train)\n",
    "y_predict = knn.predict(X_test)\n",
    "# Determining how the model performs on the test data.\n",
    "knn.score(X_test, y_test)\n",
    "print('K=1')\n",
    "print('\\n')\n",
    "print(confusion_matrix(y_test,y_predict))\n",
    "print('\\n')\n",
    "print(classification_report(y_test,y_predict))"
   ]
  },
  {
   "cell_type": "markdown",
   "metadata": {},
   "source": [
    "Confusion matrix and report(K=1,Alexa=0,Phish=1): the accuracy precision for Alexa is 96%,the accuracy precision for Phish is 95%"
   ]
  },
  {
   "cell_type": "markdown",
   "metadata": {},
   "source": [
    "## preview work"
   ]
  },
  {
   "cell_type": "code",
   "execution_count": 49,
   "metadata": {
    "ExecuteTime": {
     "end_time": "2020-03-28T06:06:45.319383Z",
     "start_time": "2020-03-28T06:06:40.911515Z"
    }
   },
   "outputs": [],
   "source": [
    "# Changing the rawdata type so that we receive true/false values in the reshaped array. \n",
    "# False values are known phishing URLs.  True values are known good values from Alexa Internet Rankings.\n",
    "alexa = pd.read_csv(r\"C:\\Users\\ed2489\\Desktop\\knn\\certificate features.alexa.csv\")\n",
    "phish = pd.read_csv(r\"C:\\Users\\ed2489\\Desktop\\knn\\certificate features.phish.csv\")\n",
    "a=pd.concat([alexa,phish])"
   ]
  },
  {
   "cell_type": "code",
   "execution_count": 50,
   "metadata": {
    "ExecuteTime": {
     "end_time": "2020-03-28T06:06:48.137296Z",
     "start_time": "2020-03-28T06:06:47.052190Z"
    }
   },
   "outputs": [],
   "source": [
    "X = a.iloc[:,1:-3].values\n",
    "y = (a[\"class\"] == 'alexa').astype(np.int)"
   ]
  },
  {
   "cell_type": "code",
   "execution_count": 51,
   "metadata": {
    "ExecuteTime": {
     "end_time": "2020-03-28T06:06:52.672784Z",
     "start_time": "2020-03-28T06:06:49.297805Z"
    }
   },
   "outputs": [],
   "source": [
    "from sklearn.preprocessing import scale\n",
    "X=scale(X)  \n",
    "from sklearn.model_selection import train_test_split\n",
    "X_train, X_test, y_train, y_test = train_test_split(X, y, test_size=0.3, random_state=42)"
   ]
  },
  {
   "cell_type": "code",
   "execution_count": 52,
   "metadata": {
    "ExecuteTime": {
     "end_time": "2020-03-28T06:35:57.930441Z",
     "start_time": "2020-03-28T06:06:53.908797Z"
    }
   },
   "outputs": [
    {
     "name": "stdout",
     "output_type": "stream",
     "text": [
      "mean of scores 0.8810818879441724 n_neighbors=3\n",
      "mean of scores 0.8814223134760872 n_neighbors=4\n",
      "mean of scores 0.8800613345502702 n_neighbors=5\n",
      "mean of scores 0.8800613345502702 n_neighbors=6\n",
      "mean of scores 0.8790407811563679 n_neighbors=7\n",
      "mean of scores 0.8790407811563679 n_neighbors=8\n",
      "mean of scores 0.8790407811563679 n_neighbors=9\n",
      "mean of scores 0.8790407811563679 n_neighbors=10\n"
     ]
    }
   ],
   "source": [
    "# best k normally from 3-10\n",
    "from sklearn.model_selection import cross_val_score\n",
    "from sklearn.neighbors import NearestNeighbors\n",
    "for i in (3,4,5,6,7,8,9,10):\n",
    "    knn = KNeighborsClassifier(n_neighbors=i)\n",
    "    knn.fit(X_train, y_train)\n",
    "    scores=cross_val_score(knn, X_train, y_train, cv=5, scoring=\"accuracy\")\n",
    "    print(\"mean of scores\",np.mean(scores),\"n_neighbors=%d\" % i)\n",
    "   "
   ]
  },
  {
   "cell_type": "code",
   "execution_count": 53,
   "metadata": {
    "ExecuteTime": {
     "end_time": "2020-03-28T06:37:46.681693Z",
     "start_time": "2020-03-28T06:35:59.124994Z"
    }
   },
   "outputs": [
    {
     "data": {
      "text/plain": [
       "0.8793650793650793"
      ]
     },
     "execution_count": 53,
     "metadata": {},
     "output_type": "execute_result"
    }
   ],
   "source": [
    "# Instanciating the model using 5 neighbors, which seemed to return the highest knn score. \n",
    "knn = KNeighborsClassifier(n_neighbors=5)\n",
    "\n",
    "# Fitting the model on the training data.\n",
    "knn.fit(X_train, y_train)\n",
    "\n",
    "# Determining how the model performs on the test data.\n",
    "knn.score(X_test, y_test)"
   ]
  },
  {
   "cell_type": "code",
   "execution_count": 54,
   "metadata": {
    "ExecuteTime": {
     "end_time": "2020-03-28T06:37:47.908668Z",
     "start_time": "2020-03-28T06:37:47.877173Z"
    }
   },
   "outputs": [],
   "source": [
    "# All Variables\n",
    "X1 = a.iloc[:,1:7].values\n",
    "y = (a[\"class\"] == 'alexa').astype(np.int)"
   ]
  },
  {
   "cell_type": "code",
   "execution_count": 55,
   "metadata": {
    "ExecuteTime": {
     "end_time": "2020-03-28T06:37:49.100258Z",
     "start_time": "2020-03-28T06:37:49.071180Z"
    }
   },
   "outputs": [],
   "source": [
    "from sklearn.preprocessing import scale\n",
    "X1=scale(X1)  \n",
    "from sklearn.model_selection import train_test_split\n",
    "X_train, X_test, y_train, y_test = train_test_split(X1, y, test_size=0.2, random_state=42)"
   ]
  },
  {
   "cell_type": "code",
   "execution_count": 56,
   "metadata": {
    "ExecuteTime": {
     "end_time": "2020-03-28T06:37:57.915644Z",
     "start_time": "2020-03-28T06:37:50.233845Z"
    }
   },
   "outputs": [
    {
     "name": "stdout",
     "output_type": "stream",
     "text": [
      "mean of scores 0.9057758704747721 n_neighbors=3\n",
      "mean of scores 0.9011610023756338 n_neighbors=4\n",
      "mean of scores 0.9042863347870794 n_neighbors=5\n",
      "mean of scores 0.9020543027337518 n_neighbors=6\n",
      "mean of scores 0.9001184492784455 n_neighbors=7\n",
      "mean of scores 0.8968437533241145 n_neighbors=8\n",
      "mean of scores 0.8928252313583661 n_neighbors=9\n",
      "mean of scores 0.8883585079601461 n_neighbors=10\n"
     ]
    }
   ],
   "source": [
    "# best k normally from 3-10\n",
    "from sklearn.model_selection import cross_val_score\n",
    "from sklearn.neighbors import NearestNeighbors\n",
    "for i in (3,4,5,6,7,8,9,10):\n",
    "    knn = KNeighborsClassifier(n_neighbors=i)\n",
    "    knn.fit(X_train, y_train)\n",
    "    scores=cross_val_score(knn, X_train, y_train, cv=5, scoring=\"accuracy\")\n",
    "    print(\"mean of scores\",np.mean(scores),\"n_neighbors=%d\" % i)\n",
    "   "
   ]
  },
  {
   "cell_type": "markdown",
   "metadata": {},
   "source": [
    "## Best score I get so far"
   ]
  },
  {
   "cell_type": "code",
   "execution_count": 57,
   "metadata": {
    "ExecuteTime": {
     "end_time": "2020-03-28T06:37:59.292412Z",
     "start_time": "2020-03-28T06:37:59.036039Z"
    }
   },
   "outputs": [
    {
     "data": {
      "text/plain": [
       "0.9291666666666667"
      ]
     },
     "execution_count": 57,
     "metadata": {},
     "output_type": "execute_result"
    }
   ],
   "source": [
    "knn = KNeighborsClassifier(n_neighbors=5)\n",
    "\n",
    "# Fitting the model on the training data.\n",
    "knn.fit(X_train, y_train)\n",
    "\n",
    "# Determining how the model performs on the test data.\n",
    "knn.score(X_test, y_test)"
   ]
  },
  {
   "cell_type": "code",
   "execution_count": 58,
   "metadata": {
    "ExecuteTime": {
     "end_time": "2020-03-28T06:38:00.522516Z",
     "start_time": "2020-03-28T06:38:00.511314Z"
    }
   },
   "outputs": [],
   "source": [
    "##has_cer\n",
    "X11 = a.iloc[:,1:2].values\n",
    "y = (a[\"class\"] == 'alexa').astype(np.int)"
   ]
  },
  {
   "cell_type": "code",
   "execution_count": 59,
   "metadata": {
    "ExecuteTime": {
     "end_time": "2020-03-28T06:38:02.063321Z",
     "start_time": "2020-03-28T06:38:01.699354Z"
    }
   },
   "outputs": [
    {
     "data": {
      "text/plain": [
       "0.8428571428571429"
      ]
     },
     "execution_count": 59,
     "metadata": {},
     "output_type": "execute_result"
    }
   ],
   "source": [
    "from sklearn.preprocessing import scale\n",
    "X11=scale(X11)  \n",
    "from sklearn.model_selection import train_test_split\n",
    "X_train, X_test, y_train, y_test = train_test_split(X11, y, test_size=0.2, random_state=42)\n",
    "knn = KNeighborsClassifier(n_neighbors=5)\n",
    "\n",
    "# Fitting the model on the training data.\n",
    "knn.fit(X_train, y_train)\n",
    "\n",
    "# Determining how the model performs on the test data.\n",
    "knn.score(X_test, y_test)"
   ]
  },
  {
   "cell_type": "code",
   "execution_count": 60,
   "metadata": {
    "ExecuteTime": {
     "end_time": "2020-03-28T06:38:03.288143Z",
     "start_time": "2020-03-28T06:38:03.255058Z"
    }
   },
   "outputs": [],
   "source": [
    "##### longetivity  \n",
    "X2 = a.iloc[:,2:3].values\n",
    "y = (a[\"class\"] == 'alexa').astype(np.int)"
   ]
  },
  {
   "cell_type": "code",
   "execution_count": 61,
   "metadata": {
    "ExecuteTime": {
     "end_time": "2020-03-28T06:38:04.552067Z",
     "start_time": "2020-03-28T06:38:04.416409Z"
    }
   },
   "outputs": [
    {
     "data": {
      "text/plain": [
       "0.8732142857142857"
      ]
     },
     "execution_count": 61,
     "metadata": {},
     "output_type": "execute_result"
    }
   ],
   "source": [
    "from sklearn.preprocessing import scale\n",
    "X2=scale(X2)  \n",
    "from sklearn.model_selection import train_test_split\n",
    "X_train, X_test, y_train, y_test = train_test_split(X2, y, test_size=0.2, random_state=42)\n",
    "knn = KNeighborsClassifier(n_neighbors=5)\n",
    "\n",
    "# Fitting the model on the training data.\n",
    "knn.fit(X_train, y_train)\n",
    "\n",
    "# Determining how the model performs on the test data.\n",
    "knn.score(X_test, y_test)"
   ]
  },
  {
   "cell_type": "code",
   "execution_count": 62,
   "metadata": {
    "ExecuteTime": {
     "end_time": "2020-03-28T06:38:05.705132Z",
     "start_time": "2020-03-28T06:38:05.691688Z"
    }
   },
   "outputs": [],
   "source": [
    "##### valid_cert \n",
    "X3 = a.iloc[:,5:6].values\n",
    "y = (a[\"class\"] == 'alexa').astype(np.int)"
   ]
  },
  {
   "cell_type": "code",
   "execution_count": 63,
   "metadata": {
    "ExecuteTime": {
     "end_time": "2020-03-28T06:38:06.975531Z",
     "start_time": "2020-03-28T06:38:06.850175Z"
    }
   },
   "outputs": [
    {
     "data": {
      "text/plain": [
       "0.8607142857142858"
      ]
     },
     "execution_count": 63,
     "metadata": {},
     "output_type": "execute_result"
    }
   ],
   "source": [
    "from sklearn.preprocessing import scale\n",
    "X3=scale(X3)  \n",
    "from sklearn.model_selection import train_test_split\n",
    "X_train, X_test, y_train, y_test = train_test_split(X3, y, test_size=0.2, random_state=42)\n",
    "knn = KNeighborsClassifier(n_neighbors=5)\n",
    "\n",
    "# Fitting the model on the training data.\n",
    "knn.fit(X_train, y_train)\n",
    "\n",
    "# Determining how the model performs on the test data.\n",
    "knn.score(X_test, y_test)"
   ]
  },
  {
   "cell_type": "code",
   "execution_count": 64,
   "metadata": {
    "ExecuteTime": {
     "end_time": "2020-03-28T06:38:08.125044Z",
     "start_time": "2020-03-28T06:38:08.108815Z"
    }
   },
   "outputs": [],
   "source": [
    "##### multi_mtn\n",
    "X4 = a.iloc[:,6:7].values\n",
    "y = (a[\"class\"] == 'alexa').astype(np.int)"
   ]
  },
  {
   "cell_type": "code",
   "execution_count": 65,
   "metadata": {
    "ExecuteTime": {
     "end_time": "2020-03-28T06:38:09.580012Z",
     "start_time": "2020-03-28T06:38:09.307279Z"
    }
   },
   "outputs": [
    {
     "data": {
      "text/plain": [
       "0.8428571428571429"
      ]
     },
     "execution_count": 65,
     "metadata": {},
     "output_type": "execute_result"
    }
   ],
   "source": [
    "from sklearn.preprocessing import scale\n",
    "X4=scale(X4)  \n",
    "from sklearn.model_selection import train_test_split\n",
    "X_train, X_test, y_train, y_test = train_test_split(X4, y, test_size=0.2, random_state=42)\n",
    "knn = KNeighborsClassifier(n_neighbors=5)\n",
    "\n",
    "# Fitting the model on the training data.\n",
    "knn.fit(X_train, y_train)\n",
    "\n",
    "# Determining how the model performs on the test data.\n",
    "knn.score(X_test, y_test)"
   ]
  },
  {
   "cell_type": "code",
   "execution_count": 66,
   "metadata": {
    "ExecuteTime": {
     "end_time": "2020-03-28T06:38:10.746771Z",
     "start_time": "2020-03-28T06:38:10.733225Z"
    }
   },
   "outputs": [],
   "source": [
    "##### extended_validation\n",
    "X5 = a.iloc[:,3:4].values\n",
    "y = (a[\"class\"] == 'alexa').astype(np.int)"
   ]
  },
  {
   "cell_type": "code",
   "execution_count": 67,
   "metadata": {
    "ExecuteTime": {
     "end_time": "2020-03-28T06:38:12.370194Z",
     "start_time": "2020-03-28T06:38:11.987399Z"
    }
   },
   "outputs": [
    {
     "data": {
      "text/plain": [
       "0.8428571428571429"
      ]
     },
     "execution_count": 67,
     "metadata": {},
     "output_type": "execute_result"
    }
   ],
   "source": [
    "from sklearn.preprocessing import scale\n",
    "X5=scale(X5)  \n",
    "from sklearn.model_selection import train_test_split\n",
    "X_train, X_test, y_train, y_test = train_test_split(X5, y, test_size=0.2, random_state=42)\n",
    "knn = KNeighborsClassifier(n_neighbors=5)\n",
    "\n",
    "# Fitting the model on the training data.\n",
    "knn.fit(X_train, y_train)\n",
    "\n",
    "# Determining how the model performs on the test data.\n",
    "knn.score(X_test, y_test)"
   ]
  },
  {
   "cell_type": "code",
   "execution_count": 68,
   "metadata": {
    "ExecuteTime": {
     "end_time": "2020-03-28T06:38:14.514058Z",
     "start_time": "2020-03-28T06:38:13.529970Z"
    }
   },
   "outputs": [
    {
     "data": {
      "application/vnd.jupyter.widget-view+json": {
       "model_id": "983a885a5081413fb6ce2f9818c62fb1"
      },
      "text/html": [
       "<div>\n",
       "<style scoped>\n",
       "    .dataframe tbody tr th:only-of-type {\n",
       "        vertical-align: middle;\n",
       "    }\n",
       "\n",
       "    .dataframe tbody tr th {\n",
       "        vertical-align: top;\n",
       "    }\n",
       "\n",
       "    .dataframe thead th {\n",
       "        text-align: right;\n",
       "    }\n",
       "</style>\n",
       "<table border=\"1\" class=\"dataframe\">\n",
       "  <thead>\n",
       "    <tr style=\"text-align: right;\">\n",
       "      <th></th>\n",
       "      <th>domain</th>\n",
       "      <th>has_cert</th>\n",
       "      <th>longetivity</th>\n",
       "      <th>valid_cert</th>\n",
       "      <th>extended_validation</th>\n",
       "      <th>cert_age</th>\n",
       "      <th>multi_mtn</th>\n",
       "      <th>globalsign nv-sa</th>\n",
       "      <th>google inc</th>\n",
       "      <th>gandi</th>\n",
       "      <th>...</th>\n",
       "      <th>wponabudget.com</th>\n",
       "      <th>reviews-by.ml</th>\n",
       "      <th>sewaknepal.org</th>\n",
       "      <th>watchvslivestreamtv.club</th>\n",
       "      <th>nehanaxane.ga</th>\n",
       "      <th>alexis-collins10.tk</th>\n",
       "      <th>laborindonesia.com</th>\n",
       "      <th>egdemo.info</th>\n",
       "      <th>theflatbellydrink.com</th>\n",
       "      <th>class</th>\n",
       "    </tr>\n",
       "  </thead>\n",
       "  <tbody>\n",
       "    <tr>\n",
       "      <td>0</td>\n",
       "      <td>www.yahoo.com</td>\n",
       "      <td>True</td>\n",
       "      <td>180</td>\n",
       "      <td>True</td>\n",
       "      <td>False</td>\n",
       "      <td>61</td>\n",
       "      <td>True</td>\n",
       "      <td>0</td>\n",
       "      <td>0</td>\n",
       "      <td>0</td>\n",
       "      <td>...</td>\n",
       "      <td>0</td>\n",
       "      <td>0</td>\n",
       "      <td>0</td>\n",
       "      <td>0</td>\n",
       "      <td>0</td>\n",
       "      <td>0</td>\n",
       "      <td>0</td>\n",
       "      <td>0</td>\n",
       "      <td>0</td>\n",
       "      <td>True</td>\n",
       "    </tr>\n",
       "    <tr>\n",
       "      <td>1</td>\n",
       "      <td>www.google.co.in</td>\n",
       "      <td>True</td>\n",
       "      <td>83</td>\n",
       "      <td>True</td>\n",
       "      <td>False</td>\n",
       "      <td>11</td>\n",
       "      <td>True</td>\n",
       "      <td>0</td>\n",
       "      <td>1</td>\n",
       "      <td>0</td>\n",
       "      <td>...</td>\n",
       "      <td>0</td>\n",
       "      <td>0</td>\n",
       "      <td>0</td>\n",
       "      <td>0</td>\n",
       "      <td>0</td>\n",
       "      <td>0</td>\n",
       "      <td>0</td>\n",
       "      <td>0</td>\n",
       "      <td>0</td>\n",
       "      <td>True</td>\n",
       "    </tr>\n",
       "    <tr>\n",
       "      <td>2</td>\n",
       "      <td>www.reddit.com</td>\n",
       "      <td>True</td>\n",
       "      <td>1100</td>\n",
       "      <td>True</td>\n",
       "      <td>False</td>\n",
       "      <td>826</td>\n",
       "      <td>True</td>\n",
       "      <td>0</td>\n",
       "      <td>0</td>\n",
       "      <td>0</td>\n",
       "      <td>...</td>\n",
       "      <td>0</td>\n",
       "      <td>0</td>\n",
       "      <td>0</td>\n",
       "      <td>0</td>\n",
       "      <td>0</td>\n",
       "      <td>0</td>\n",
       "      <td>0</td>\n",
       "      <td>0</td>\n",
       "      <td>0</td>\n",
       "      <td>True</td>\n",
       "    </tr>\n",
       "    <tr>\n",
       "      <td>3</td>\n",
       "      <td>world.taobao.com</td>\n",
       "      <td>True</td>\n",
       "      <td>74</td>\n",
       "      <td>True</td>\n",
       "      <td>False</td>\n",
       "      <td>61</td>\n",
       "      <td>True</td>\n",
       "      <td>1</td>\n",
       "      <td>0</td>\n",
       "      <td>0</td>\n",
       "      <td>...</td>\n",
       "      <td>0</td>\n",
       "      <td>0</td>\n",
       "      <td>0</td>\n",
       "      <td>0</td>\n",
       "      <td>0</td>\n",
       "      <td>0</td>\n",
       "      <td>0</td>\n",
       "      <td>0</td>\n",
       "      <td>0</td>\n",
       "      <td>True</td>\n",
       "    </tr>\n",
       "    <tr>\n",
       "      <td>4</td>\n",
       "      <td>www.google.co.jp</td>\n",
       "      <td>True</td>\n",
       "      <td>83</td>\n",
       "      <td>True</td>\n",
       "      <td>False</td>\n",
       "      <td>11</td>\n",
       "      <td>True</td>\n",
       "      <td>0</td>\n",
       "      <td>1</td>\n",
       "      <td>0</td>\n",
       "      <td>...</td>\n",
       "      <td>0</td>\n",
       "      <td>0</td>\n",
       "      <td>0</td>\n",
       "      <td>0</td>\n",
       "      <td>0</td>\n",
       "      <td>0</td>\n",
       "      <td>0</td>\n",
       "      <td>0</td>\n",
       "      <td>0</td>\n",
       "      <td>True</td>\n",
       "    </tr>\n",
       "  </tbody>\n",
       "</table>\n",
       "<p>5 rows × 2208 columns</p>\n",
       "</div>"
      ],
      "text/plain": [
       "             domain  has_cert  longetivity  valid_cert  extended_validation  \\\n",
       "0     www.yahoo.com      True          180        True                False   \n",
       "1  www.google.co.in      True           83        True                False   \n",
       "2    www.reddit.com      True         1100        True                False   \n",
       "3  world.taobao.com      True           74        True                False   \n",
       "4  www.google.co.jp      True           83        True                False   \n",
       "\n",
       "   cert_age  multi_mtn  globalsign nv-sa  google inc  gandi  ...  \\\n",
       "0        61       True                 0           0      0  ...   \n",
       "1        11       True                 0           1      0  ...   \n",
       "2       826       True                 0           0      0  ...   \n",
       "3        61       True                 1           0      0  ...   \n",
       "4        11       True                 0           1      0  ...   \n",
       "\n",
       "   wponabudget.com  reviews-by.ml  sewaknepal.org  watchvslivestreamtv.club  \\\n",
       "0                0              0               0                         0   \n",
       "1                0              0               0                         0   \n",
       "2                0              0               0                         0   \n",
       "3                0              0               0                         0   \n",
       "4                0              0               0                         0   \n",
       "\n",
       "   nehanaxane.ga  alexis-collins10.tk  laborindonesia.com  egdemo.info  \\\n",
       "0              0                    0                   0            0   \n",
       "1              0                    0                   0            0   \n",
       "2              0                    0                   0            0   \n",
       "3              0                    0                   0            0   \n",
       "4              0                    0                   0            0   \n",
       "\n",
       "   theflatbellydrink.com  class  \n",
       "0                      0   True  \n",
       "1                      0   True  \n",
       "2                      0   True  \n",
       "3                      0   True  \n",
       "4                      0   True  \n",
       "\n",
       "[5 rows x 2208 columns]"
      ]
     },
     "metadata": {},
     "output_type": "display_data"
    }
   ],
   "source": [
    "d=a.astype({\"class\":'object'})\n",
    "d[\"class\"] = (d[\"class\"] == \"alexa\")\n",
    "d.head()"
   ]
  },
  {
   "cell_type": "code",
   "execution_count": 69,
   "metadata": {
    "ExecuteTime": {
     "end_time": "2020-03-28T06:38:16.466537Z",
     "start_time": "2020-03-28T06:38:16.450633Z"
    }
   },
   "outputs": [
    {
     "data": {
      "text/plain": [
       "array([ True,  True,  True, ..., False, False, False])"
      ]
     },
     "execution_count": 69,
     "metadata": {},
     "output_type": "execute_result"
    }
   ],
   "source": [
    "y = d.iloc[:,-1].values\n",
    "y"
   ]
  },
  {
   "cell_type": "code",
   "execution_count": 70,
   "metadata": {
    "ExecuteTime": {
     "end_time": "2020-03-28T06:38:17.988239Z",
     "start_time": "2020-03-28T06:38:17.975680Z"
    }
   },
   "outputs": [
    {
     "data": {
      "text/plain": [
       "array([ True,  True,  True, ..., False, False, False])"
      ]
     },
     "execution_count": 70,
     "metadata": {},
     "output_type": "execute_result"
    }
   ],
   "source": [
    "y.reshape((8398,))"
   ]
  },
  {
   "cell_type": "code",
   "execution_count": 71,
   "metadata": {
    "ExecuteTime": {
     "end_time": "2020-03-28T06:38:19.559168Z",
     "start_time": "2020-03-28T06:38:19.525787Z"
    }
   },
   "outputs": [],
   "source": [
    "# Function for producing logarithmic scales of inputted phishing data. \n",
    "def figure_1(y,X):\n",
    "    \n",
    "    import numpy as np\n",
    "    import matplotlib.pyplot as plt\n",
    "    from matplotlib.ticker import MultipleLocator, FormatStrFormatter\n",
    "    \n",
    "    # Creating lists to store values for boxplots\n",
    "    alexa_values = []\n",
    "    phish_values = []\n",
    "    for i in range(len(y)):\n",
    "        if y[i] == True:\n",
    "            alexa_values.append(float(X[i]))\n",
    "        else:\n",
    "            phish_values.append(float(X[i]))\n",
    "\n",
    "    # Inputting extremely small value to substitute for 0 so that we can use log\n",
    "    for j in alexa_values:\n",
    "        if j == 0:\n",
    "            j += 10**-10\n",
    "    \n",
    "    for k in phish_values:\n",
    "        if k == 0:\n",
    "            k += 10**-10\n",
    "    \n",
    "    # Creating boxplots for both alexa and phish values.  \n",
    "    # I'm using the log of each list to replicate paper (i.e., y axis of Count (Logarithmic Scale))\n",
    "    fig = plt.figure(figsize=(18, 6))\n",
    "\n",
    "    ax = plt.subplot(1, 3, 1)\n",
    "    ax.boxplot(np.log(alexa_values))\n",
    "    ax.set_title('Alexa')\n",
    "\n",
    "    ax = plt.subplot(1, 3, 2)\n",
    "    ax.boxplot(np.log(phish_values))\n",
    "    ax.set_title('Phish')\n",
    "\n",
    "    plt.show()"
   ]
  },
  {
   "cell_type": "code",
   "execution_count": 73,
   "metadata": {
    "ExecuteTime": {
     "end_time": "2020-03-28T06:38:23.348632Z",
     "start_time": "2020-03-28T06:38:22.894638Z"
    }
   },
   "outputs": [
    {
     "data": {
      "image/png": "[encoded data removed]",
      "text/plain": [
       "<Figure size 1296x432 with 2 Axes>"
      ]
     },
     "metadata": {
      "needs_background": "light"
     },
     "output_type": "display_data"
    }
   ],
   "source": [
    "## has_cert  mean they all have certi\n",
    "X = d.iloc[:,1:2].values\n",
    "y = d.iloc[:,-1].values\n",
    "figure_1(y,X)"
   ]
  },
  {
   "cell_type": "markdown",
   "metadata": {},
   "source": [
    "Comparison of Certificate Longevity Period between legitimate and  phishing websites"
   ]
  },
  {
   "cell_type": "code",
   "execution_count": 74,
   "metadata": {
    "ExecuteTime": {
     "end_time": "2020-03-28T06:38:25.121946Z",
     "start_time": "2020-03-28T06:38:24.661772Z"
    }
   },
   "outputs": [
    {
     "data": {
      "image/png": "[encoded data removed]",
      "text/plain": [
       "<Figure size 1296x432 with 2 Axes>"
      ]
     },
     "metadata": {
      "needs_background": "light"
     },
     "output_type": "display_data"
    }
   ],
   "source": [
    "## write a report \n",
    "X = d.iloc[:,2:3].values\n",
    "y = d.iloc[:,-1].values\n",
    "figure_1(y,X)"
   ]
  },
  {
   "cell_type": "markdown",
   "metadata": {},
   "source": [
    "repicate the result and why use the box plot "
   ]
  },
  {
   "cell_type": "code",
   "execution_count": null,
   "metadata": {
    "ExecuteTime": {
     "end_time": "2020-03-28T03:22:37.523583Z",
     "start_time": "2020-03-28T03:22:31.446Z"
    }
   },
   "outputs": [],
   "source": [
    "#### they all have vaild \n",
    "X = d.iloc[:,3:4].values\n",
    "y = d.iloc[:,-1].values\n",
    "figure_1(y,X)"
   ]
  },
  {
   "cell_type": "markdown",
   "metadata": {},
   "source": [
    " Comparison of Is Passing Browser Validation between legitimate and  phishing websites"
   ]
  },
  {
   "cell_type": "code",
   "execution_count": 75,
   "metadata": {
    "ExecuteTime": {
     "end_time": "2020-03-28T06:38:26.972928Z",
     "start_time": "2020-03-28T06:38:26.518608Z"
    }
   },
   "outputs": [
    {
     "data": {
      "image/png": "[encoded data removed]",
      "text/plain": [
       "<Figure size 1296x432 with 2 Axes>"
      ]
     },
     "metadata": {
      "needs_background": "light"
     },
     "output_type": "display_data"
    }
   ],
   "source": [
    "X = d.iloc[:,5:6].values\n",
    "y = d.iloc[:,-1].values\n",
    "\n",
    "\n",
    "figure_1(y,X)"
   ]
  },
  {
   "cell_type": "code",
   "execution_count": 76,
   "metadata": {
    "ExecuteTime": {
     "end_time": "2020-03-28T06:38:28.839271Z",
     "start_time": "2020-03-28T06:38:28.387827Z"
    }
   },
   "outputs": [
    {
     "data": {
      "image/png": "[encoded data removed]",
      "text/plain": [
       "<Figure size 1296x432 with 2 Axes>"
      ]
     },
     "metadata": {
      "needs_background": "light"
     },
     "output_type": "display_data"
    }
   ],
   "source": [
    "X = d.iloc[:,6:7].values\n",
    "y = d.iloc[:,-1].values\n",
    "figure_1(y,X)"
   ]
  },
  {
   "cell_type": "markdown",
   "metadata": {},
   "source": [
    " Certificate feature examination.  This involves splitting the certificate sources between well-known and obscure sources to see how they compare in regards to being a malicious or non-malicious URL.  Ranking source trustworthiness based on association with tagged phishing attempts is also included. "
   ]
  }
 ],
 "metadata": {
  "kernelspec": {
   "display_name": "Python 3",
   "language": "python",
   "name": "python3"
  },
  "language_info": {
   "codemirror_mode": {
    "name": "ipython",
    "version": 3
   },
   "file_extension": ".py",
   "mimetype": "text/x-python",
   "name": "python",
   "nbconvert_exporter": "python",
   "pygments_lexer": "ipython3",
   "version": "3.7.4"
  },
  "toc": {
   "base_numbering": 1,
   "nav_menu": {},
   "number_sections": true,
   "sideBar": true,
   "skip_h1_title": false,
   "title_cell": "Table of Contents",
   "title_sidebar": "Contents",
   "toc_cell": false,
   "toc_position": {},
   "toc_section_display": true,
   "toc_window_display": false
  },
  "varInspector": {
   "cols": {
    "lenName": 16,
    "lenType": 16,
    "lenVar": 40
   },
   "kernels_config": {
    "python": {
     "delete_cmd_postfix": "",
     "delete_cmd_prefix": "del ",
     "library": "var_list.py",
     "varRefreshCmd": "print(var_dic_list())"
    },
    "r": {
     "delete_cmd_postfix": ") ",
     "delete_cmd_prefix": "rm(",
     "library": "var_list.r",
     "varRefreshCmd": "cat(var_dic_list()) "
    }
   },
   "types_to_exclude": [
    "module",
    "function",
    "builtin_function_or_method",
    "instance",
    "_Feature"
   ],
   "window_display": false
  }
 },
 "nbformat": 4,
 "nbformat_minor": 2
}
