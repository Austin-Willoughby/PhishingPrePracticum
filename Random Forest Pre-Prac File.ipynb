{
 "cells": [
  {
   "cell_type": "markdown",
   "metadata": {
    "toc": true
   },
   "source": [
    "<h1>Table of Contents<span class=\"tocSkip\"></span></h1>\n",
    "<div class=\"toc\"><ul class=\"toc-item\"></ul></div>"
   ]
  },
  {
   "cell_type": "code",
   "execution_count": null,
   "metadata": {},
   "outputs": [],
   "source": [
    "# Overall Stats:\n",
    "# All Variables: %\n",
    "# average cyclomatic complexity: %\n",
    "# average number of external blocks: %\n",
    "# proprietary code count: %\n",
    "# average number of inline blocks: %\n",
    "# number of DOM on-event handlers: %"
   ]
  },
  {
   "cell_type": "code",
   "execution_count": 1,
   "metadata": {
    "ExecuteTime": {
     "end_time": "2020-01-28T18:56:28.081751Z",
     "start_time": "2020-01-28T18:56:26.165315Z"
    }
   },
   "outputs": [],
   "source": [
    "import pandas as pd\n",
    "import matplotlib as plt \n",
    "from sklearn.model_selection import train_test_split\n",
    "import numpy as np\n",
    "\n",
    "phishdata = pd.read_csv('wc.csv')\n",
    "phishdata.type=(phishdata.type == 'alexa')"
   ]
  },
  {
   "cell_type": "code",
   "execution_count": 3,
   "metadata": {
    "ExecuteTime": {
     "end_time": "2020-01-28T18:58:22.701971Z",
     "start_time": "2020-01-28T18:58:13.102228Z"
    }
   },
   "outputs": [
    {
     "name": "stdout",
     "output_type": "stream",
     "text": [
      "Accuracy: 0.9261348005502064\n"
     ]
    }
   ],
   "source": [
    "x = phishdata.iloc[:,3:16].values\n",
    "y = phishdata.iloc[:,16].values\n",
    "y.reshape((24232,))\n",
    "\n",
    "X_train, X_test, Y_train, Y_test = train_test_split(x,y, test_size=.30, random_state=0)\n",
    "\n",
    "#Import Random Forest Model\n",
    "from sklearn.ensemble import RandomForestClassifier\n",
    "\n",
    "#Create a Gaussian Classifier\n",
    "clf=RandomForestClassifier(n_estimators=500)\n",
    "\n",
    "#Train the model using the training sets y_pred = clf.predict(X_test)\n",
    "clf.fit(X_train,Y_train)\n",
    "\n",
    "Y_pred=clf.predict(X_test)\n",
    "\n",
    "#Import scikit-learn metrics module for accuracy calculation\n",
    "from sklearn import metrics\n",
    "\n",
    "# Model Accuracy, how often is the classifier correct?\n",
    "print(\"Accuracy:\",metrics.accuracy_score(Y_test, Y_pred))"
   ]
  },
  {
   "cell_type": "code",
   "execution_count": null,
   "metadata": {},
   "outputs": [],
   "source": []
  },
  {
   "cell_type": "code",
   "execution_count": 6,
   "metadata": {
    "ExecuteTime": {
     "end_time": "2020-01-28T19:01:10.382035Z",
     "start_time": "2020-01-28T19:01:00.372415Z"
    }
   },
   "outputs": [
    {
     "name": "stdout",
     "output_type": "stream",
     "text": [
      "Accuracy: 0.9254470426409904\n"
     ]
    }
   ],
   "source": [
    "# Repeating the process for the most important feature according to table V, average cyclomatic complexity. \n",
    "\n",
    "# Selecting the desired row (only avg_cyc_complexity).\n",
    "X = phishdata.iloc[:,14:15].values\n",
    "y = phishdata.iloc[:,16].values\n",
    "\n",
    "# Reshaping into a flat array to allow processing.\n",
    "y.reshape((24232,))\n",
    "X_train, X_test, Y_train, Y_test = train_test_split(x,y, test_size=.30, random_state=0)\n",
    "\n",
    "#Create a Gaussian Classifier\n",
    "clf=RandomForestClassifier(n_estimators=500)\n",
    "\n",
    "#Train the model using the training sets y_pred = clf.predict(X_test)\n",
    "clf.fit(X_train,Y_train)\n",
    "\n",
    "Y_pred=clf.predict(X_test)\n",
    "\n",
    "#Import scikit-learn metrics module for accuracy calculation\n",
    "from sklearn import metrics\n",
    "\n",
    "# Model Accuracy, how often is the classifier correct?\n",
    "print(\"Accuracy:\",metrics.accuracy_score(Y_test, Y_pred))"
   ]
  },
  {
   "cell_type": "code",
   "execution_count": null,
   "metadata": {},
   "outputs": [],
   "source": []
  },
  {
   "cell_type": "code",
   "execution_count": 8,
   "metadata": {
    "ExecuteTime": {
     "end_time": "2020-01-28T19:03:33.071161Z",
     "start_time": "2020-01-28T19:03:23.542407Z"
    }
   },
   "outputs": [
    {
     "name": "stdout",
     "output_type": "stream",
     "text": [
      "Accuracy: 0.925171939477304\n"
     ]
    }
   ],
   "source": [
    "# Repeating the process for the third most important feature according to table V, average number of external blocks. \n",
    "\n",
    "# Selecting the desired rows (only external_count and avg_external_script_block).\n",
    "X = phishdata.iloc[:,6:8].values\n",
    "y = phishdata.iloc[:,16].values\n",
    "\n",
    "# Reshaping into a flat array to allow processing.\n",
    "y.reshape((24232,))\n",
    "X_train, X_test, Y_train, Y_test = train_test_split(x,y, test_size=.30, random_state=0)\n",
    "\n",
    "#Create a Gaussian Classifier\n",
    "clf=RandomForestClassifier(n_estimators=500)\n",
    "\n",
    "#Train the model using the training sets y_pred = clf.predict(X_test)\n",
    "clf.fit(X_train,Y_train)\n",
    "\n",
    "Y_pred=clf.predict(X_test)\n",
    "\n",
    "#Import scikit-learn metrics module for accuracy calculation\n",
    "from sklearn import metrics\n",
    "\n",
    "# Model Accuracy, how often is the classifier correct?\n",
    "print(\"Accuracy:\",metrics.accuracy_score(Y_test, Y_pred))"
   ]
  },
  {
   "cell_type": "code",
   "execution_count": null,
   "metadata": {},
   "outputs": [],
   "source": []
  },
  {
   "cell_type": "code",
   "execution_count": null,
   "metadata": {},
   "outputs": [],
   "source": []
  }
 ],
 "metadata": {
  "hide_input": false,
  "kernelspec": {
   "display_name": "Python 3",
   "language": "python",
   "name": "python3"
  },
  "language_info": {
   "codemirror_mode": {
    "name": "ipython",
    "version": 3
   },
   "file_extension": ".py",
   "mimetype": "text/x-python",
   "name": "python",
   "nbconvert_exporter": "python",
   "pygments_lexer": "ipython3",
   "version": "3.7.4"
  },
  "toc": {
   "base_numbering": 1,
   "nav_menu": {},
   "number_sections": true,
   "sideBar": true,
   "skip_h1_title": true,
   "title_cell": "Table of Contents",
   "title_sidebar": "Contents",
   "toc_cell": true,
   "toc_position": {},
   "toc_section_display": true,
   "toc_window_display": false
  },
  "varInspector": {
   "cols": {
    "lenName": 16,
    "lenType": 16,
    "lenVar": 40
   },
   "kernels_config": {
    "python": {
     "delete_cmd_postfix": "",
     "delete_cmd_prefix": "del ",
     "library": "var_list.py",
     "varRefreshCmd": "print(var_dic_list())"
    },
    "r": {
     "delete_cmd_postfix": ") ",
     "delete_cmd_prefix": "rm(",
     "library": "var_list.r",
     "varRefreshCmd": "cat(var_dic_list()) "
    }
   },
   "types_to_exclude": [
    "module",
    "function",
    "builtin_function_or_method",
    "instance",
    "_Feature"
   ],
   "window_display": false
  }
 },
 "nbformat": 4,
 "nbformat_minor": 2
}
